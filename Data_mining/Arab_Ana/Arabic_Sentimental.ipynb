{
 "cells": [
  {
   "cell_type": "markdown",
   "metadata": {},
   "source": [
    "# Sentiment Analysis of ARA Corpus"
   ]
  },
  {
   "cell_type": "markdown",
   "metadata": {},
   "source": [
    "**Outline:**\n",
    "1. Read raw data\n",
    "2. Text preprocessing & cleaning\n",
    "3. Document representation (feature vectors)\n",
    "4. Build sentiment classifier based on BOW vectors\n",
    "5. Build sentiment classifier based on fasstext vectors\n",
    "\n",
    "**What you need to do:** \n",
    "- Read and execute the source code below and answer the questions in **EXERCISE 1 - EXERCISE 4**.\n",
    "- **Submit** the modifiled file ``TD3.ipynb`` on google drive."
   ]
  },
  {
   "cell_type": "code",
   "execution_count": 1,
   "metadata": {},
   "outputs": [],
   "source": [
    "import pandas as pd\n",
    "import numpy as np"
   ]
  },
  {
   "cell_type": "code",
   "execution_count": 2,
   "metadata": {},
   "outputs": [],
   "source": [
    "from matplotlib import pyplot as plt\n",
    "%matplotlib inline\n",
    "\n",
    "# set the font size of plots\n",
    "plt.rcParams['font.size'] = 14"
   ]
  },
  {
   "cell_type": "code",
   "execution_count": 3,
   "metadata": {},
   "outputs": [],
   "source": [
    "np.set_printoptions(precision=3)"
   ]
  },
  {
   "cell_type": "markdown",
   "metadata": {},
   "source": [
    "*****"
   ]
  },
  {
   "cell_type": "markdown",
   "metadata": {},
   "source": [
    "## Read corpus\n",
    "We are going to use a different corpus. This corpus is already labelled."
   ]
  },
  {
   "cell_type": "code",
   "execution_count": 4,
   "metadata": {},
   "outputs": [],
   "source": [
    "corpus_files = [ './sentiment_data_ARA_pos.txt', './sentiment_data_ARA_neg.txt' ]"
   ]
  },
  {
   "cell_type": "code",
   "execution_count": 5,
   "metadata": {},
   "outputs": [],
   "source": [
    "def read_text_file(filename):\n",
    "    print('Reading file ' + filename + \"...\")\n",
    "    with open(filename, \"r\", encoding='utf8') as textfile:\n",
    "        L = []\n",
    "        for line in textfile:\n",
    "            L.append(line.strip())\n",
    "        print('File contains ', len(L), \"lines.\\n\")\n",
    "        return L"
   ]
  },
  {
   "cell_type": "code",
   "execution_count": 6,
   "metadata": {},
   "outputs": [
    {
     "name": "stdout",
     "output_type": "stream",
     "text": [
      "Reading file ./sentiment_data_ARA_pos.txt...\n",
      "File contains  6000 lines.\n",
      "\n",
      "Reading file ./sentiment_data_ARA_neg.txt...\n",
      "File contains  4898 lines.\n",
      "\n"
     ]
    }
   ],
   "source": [
    "ara_corpus_pos = read_text_file(corpus_files[0])\n",
    "ara_corpus_neg = read_text_file(corpus_files[1])"
   ]
  },
  {
   "cell_type": "code",
   "execution_count": 7,
   "metadata": {},
   "outputs": [
    {
     "data": {
      "text/plain": [
       "(list, list)"
      ]
     },
     "execution_count": 7,
     "metadata": {},
     "output_type": "execute_result"
    }
   ],
   "source": [
    "## Verify corpus\n",
    "\n",
    "type(ara_corpus_pos),type(ara_corpus_neg)"
   ]
  },
  {
   "cell_type": "code",
   "execution_count": 8,
   "metadata": {},
   "outputs": [
    {
     "data": {
      "text/plain": [
       "(6000, 4898)"
      ]
     },
     "execution_count": 8,
     "metadata": {},
     "output_type": "execute_result"
    }
   ],
   "source": [
    "len(ara_corpus_pos),len(ara_corpus_neg)"
   ]
  },
  {
   "cell_type": "code",
   "execution_count": 9,
   "metadata": {},
   "outputs": [
    {
     "name": "stdout",
     "output_type": "stream",
     "text": [
      "مكان الرجل الحقيقي كل شي نضيف واصلي وماركات ...صح غالي شوي بس لبس روعه\n",
      "المحادثات المخفية المحادثات المخفية الخاصية دي اتلغت ليه ممكن حد يفهمني\n"
     ]
    }
   ],
   "source": [
    "print(ara_corpus_pos[0])\n",
    "print(ara_corpus_neg[0])"
   ]
  },
  {
   "cell_type": "code",
   "execution_count": 10,
   "metadata": {},
   "outputs": [],
   "source": [
    "## Combine pos and neg corpus into a single corpus for easy manipulation\n",
    "\n",
    "ara_corpus = ara_corpus_pos + ara_corpus_neg\n",
    "ara_corpus_sentiment = len(ara_corpus_pos)*[1] + len(ara_corpus_neg)*[-1]"
   ]
  },
  {
   "cell_type": "code",
   "execution_count": 11,
   "metadata": {},
   "outputs": [
    {
     "data": {
      "text/plain": [
       "(10898, 10898)"
      ]
     },
     "execution_count": 11,
     "metadata": {},
     "output_type": "execute_result"
    }
   ],
   "source": [
    "len(ara_corpus),len(ara_corpus_sentiment)"
   ]
  },
  {
   "cell_type": "markdown",
   "metadata": {},
   "source": [
    "***"
   ]
  },
  {
   "cell_type": "markdown",
   "metadata": {},
   "source": [
    "## Text Preprocessing & Cleaning\n",
    "\n",
    "We are going to follow the same pipeline of TD1, except that here the operations should be **adapted to the Arabic language** (instead of the French language).\n",
    "\n",
    "1. Remove useless characters (using ``cleanup_text`` function from TD2)\n",
    "2. Language identification and filtering (using language identification model from TD2)\n",
    "3. Letter normalization\n",
    "4. Tokenization\n",
    "5. Remove stop words\n",
    "6. Word normalization (stemming)\n",
    "7. Remove words that are too short or too long."
   ]
  },
  {
   "cell_type": "markdown",
   "metadata": {},
   "source": [
    "### EXERCISE 1\n",
    "\n",
    "Apply the above text cleaning operations by completing the code below (follow the instructins in the comments).\n",
    "\n",
    "**However in order to save time, you will skip some steps in class and complete them at home.**"
   ]
  },
  {
   "cell_type": "code",
   "execution_count": 12,
   "metadata": {},
   "outputs": [],
   "source": [
    "## COMPLETE THE SOURCE CODE IN THE CELLS BELOW. FOLLOW THE INSTRUCTIONS AND HINTS GIVEN IN THE COMMENTS.\n"
   ]
  },
  {
   "cell_type": "code",
   "execution_count": 13,
   "metadata": {},
   "outputs": [
    {
     "name": "stdout",
     "output_type": "stream",
     "text": [
      "مكان الرجل الحقيقي كل شي نضيف واصلي وماركات ...صح غالي شوي بس لبس روعه\n",
      "مكان الرجل الحقيقي كل شي نضيف واصلي وماركات صح غالي شوي بس لبس روعه\n"
     ]
    }
   ],
   "source": [
    "##1. Remove useless characters using cleanup_text function from TD2\n",
    "\n",
    "# YOU CAN MODIFY THIS FUNCTION AS NEEDED.\n",
    "# FOR EXAMPLE, REMOVE NUMBERS ...\n",
    "\n",
    "import re\n",
    "import html\n",
    "\n",
    "# regexp for word elongation: matches 3 or more repetitions of a word character.\n",
    "two_plus_letters_RE = re.compile(r\"(\\w)\\1{1,}\", re.DOTALL)\n",
    "three_plus_letters_RE = re.compile(r\"(\\w)\\1{2,}\", re.DOTALL)\n",
    "# regexp for repeated words\n",
    "two_plus_words_RE = re.compile(r\"(\\w+\\s+)\\1{1,}\", re.DOTALL)\n",
    "\n",
    "\n",
    "def cleanup_text(text):\n",
    "    # Remove URLs\n",
    "    text = re.sub('((www\\.[^\\s]+)|(https?://[^\\s]+))', '', text)\n",
    "\n",
    "    # Remove user mentions of the form @username\n",
    "    text = re.sub('@[^\\s]+', '', text)\n",
    "    \n",
    "    # Replace special html-encoded characters with their ASCII equivalent, for example: &#39 ==> '\n",
    "    if re.search(\"&#\",text):\n",
    "        text = html.unescape(text)\n",
    "\n",
    "    # Remove special useless characters such as _x000D_\n",
    "    text = re.sub(r'_[xX]000[dD]_', '', text)\n",
    "\n",
    "    # Replace all non-word characters (such as emoticons, punctuation, end of line characters, etc.) with a space\n",
    "    text = re.sub('[\\W_]', ' ', text)\n",
    "\n",
    "    # Remove redundant white spaces\n",
    "    text = text.strip()\n",
    "    text = re.sub('[\\s]+', ' ', text)\n",
    "\n",
    "    # normalize word elongations (characters repeated more than twice)\n",
    "    text = two_plus_letters_RE.sub(r\"\\1\\1\", text)\n",
    "\n",
    "    # remove repeated words\n",
    "    text = two_plus_words_RE.sub(r\"\\1\", text)\n",
    "\n",
    "    return text\n",
    "\n",
    "# unit test of this function\n",
    "print(ara_corpus[0])\n",
    "print(cleanup_text(ara_corpus[0]))"
   ]
  },
  {
   "cell_type": "code",
   "execution_count": 14,
   "metadata": {},
   "outputs": [],
   "source": [
    "# Apply this function to each document in the corpus\n",
    "ara_corpus_clean = [cleanup_text(doc) for doc in ara_corpus]"
   ]
  },
  {
   "cell_type": "code",
   "execution_count": 15,
   "metadata": {},
   "outputs": [
    {
     "name": "stdout",
     "output_type": "stream",
     "text": [
      "مكان الرجل الحقيقي كل شي نضيف واصلي وماركات صح غالي شوي بس لبس روعه\n",
      "10898 10898\n"
     ]
    }
   ],
   "source": [
    "assert(len(ara_corpus_clean)==len(ara_corpus))\n",
    "print(ara_corpus_clean[0])\n",
    "print(len(ara_corpus_clean), len(ara_corpus))"
   ]
  },
  {
   "cell_type": "code",
   "execution_count": 16,
   "metadata": {},
   "outputs": [],
   "source": [
    "##2. Language identification and filtering\n",
    "# You should just the machine-learning based model that you constructed in TD2 (load it from a file)\n",
    "\n",
    "# MODIFY THIS STEP AT HOME AS EXPLAINED ABOVE.\n",
    "\n",
    "# Remove the code below later\n",
    "# Quick method to save time in class: remove documents that contain more than 40% latin characters\n",
    "MAX_LAT_FRAC = 0.3\n",
    "ara_corpus_clean = [doc for doc in ara_corpus_clean if (len(re.findall('[a-zA-Z]',doc)) / len(doc)) < MAX_LAT_FRAC]\n"
   ]
  },
  {
   "cell_type": "code",
   "execution_count": 17,
   "metadata": {},
   "outputs": [
    {
     "name": "stdout",
     "output_type": "stream",
     "text": [
      "10898 10773\n",
      "مكان الرجل الحقيقي كل شي نضيف واصلي وماركات صح غالي شوي بس لبس روعه\n"
     ]
    }
   ],
   "source": [
    "assert(len(ara_corpus_clean)<=len(ara_corpus))\n",
    "print(len(ara_corpus),len(ara_corpus_clean))\n",
    "print(ara_corpus_clean[0])"
   ]
  },
  {
   "cell_type": "code",
   "execution_count": 18,
   "metadata": {},
   "outputs": [],
   "source": [
    "##3. Letter normalization\n",
    "# Hint: which Arabic letters are equivalent n social media text?  e.g. alef, tah marbuta, dhad and dhad toushel, etc.\n",
    "\n",
    "def normalizeArabic(corpus):\n",
    "    corpus = re.sub(\"ة\", \"ت\", corpus)\n",
    "    corpus = re.sub(\"ض\", \"ظ\", corpus)\n",
    "    corpus = re.sub(\"ى\", \"ي\", corpus)\n",
    "    corpus = re.sub(\"ؤ\", \"ء\", corpus)\n",
    "    corpus = re.sub(\"ئ\", \"ء\", corpus)\n",
    "    corpus = re.sub(\"[إأٱآا]\", \"ا\", corpus)\n",
    "    return(corpus)\n",
    "\n",
    "ara_corpus_clean =  [normalizeArabic(doc) for doc in ara_corpus_clean]\n"
   ]
  },
  {
   "cell_type": "code",
   "execution_count": 19,
   "metadata": {},
   "outputs": [],
   "source": [
    "##4. Tokenization -- Complete code below (same as in TD1)\n",
    "\n",
    "# COMPLETE THE CODE BELOW\n",
    "\n",
    "from nltk.tokenize import RegexpTokenizer\n",
    "\n",
    "tokenizer = RegexpTokenizer('[^_\\W]+')\n",
    "ara_corpus_tokenized = [tokenizer.tokenize(doc) for doc in ara_corpus_clean]\n"
   ]
  },
  {
   "cell_type": "code",
   "execution_count": 20,
   "metadata": {},
   "outputs": [
    {
     "data": {
      "text/plain": [
       "list"
      ]
     },
     "execution_count": 20,
     "metadata": {},
     "output_type": "execute_result"
    }
   ],
   "source": [
    "type(ara_corpus_tokenized)"
   ]
  },
  {
   "cell_type": "code",
   "execution_count": 21,
   "metadata": {},
   "outputs": [
    {
     "data": {
      "text/plain": [
       "(list, str)"
      ]
     },
     "execution_count": 21,
     "metadata": {},
     "output_type": "execute_result"
    }
   ],
   "source": [
    "# verify corpus after tokenization\n",
    "assert(len(ara_corpus_clean) == len(ara_corpus_tokenized))\n",
    "assert(type(ara_corpus_tokenized[0]) == list and type(ara_corpus_tokenized[0][0]) ==str)\n",
    "type(ara_corpus_tokenized[0]), type(ara_corpus_tokenized[0][0])"
   ]
  },
  {
   "cell_type": "code",
   "execution_count": 22,
   "metadata": {},
   "outputs": [
    {
     "data": {
      "text/plain": [
       "['مكان',\n",
       " 'الرجل',\n",
       " 'الحقيقي',\n",
       " 'كل',\n",
       " 'شي',\n",
       " 'نظيف',\n",
       " 'واصلي',\n",
       " 'وماركات',\n",
       " 'صح',\n",
       " 'غالي',\n",
       " 'شوي',\n",
       " 'بس',\n",
       " 'لبس',\n",
       " 'روعه']"
      ]
     },
     "execution_count": 22,
     "metadata": {},
     "output_type": "execute_result"
    }
   ],
   "source": [
    "# verify first document in corpus\n",
    "ara_corpus_tokenized[0]"
   ]
  },
  {
   "cell_type": "code",
   "execution_count": 23,
   "metadata": {},
   "outputs": [
    {
     "name": "stdout",
     "output_type": "stream",
     "text": [
      "[nltk_data] Downloading package stopwords to\n",
      "[nltk_data]     C:\\Users\\Dell\\AppData\\Roaming\\nltk_data...\n",
      "[nltk_data]   Unzipping corpora\\stopwords.zip.\n",
      "['إذ', 'إذا', 'إذما', 'إذن', 'أف', 'أقل', 'أكثر', 'ألا', 'إلا', 'التي']\n"
     ]
    }
   ],
   "source": [
    "##5. Remove stop words -- based on a 'standard' list of stopwords for the Arabic language.\n",
    "\n",
    "# COMPLETE THE CODE BELOW  (See TD1)\n",
    "import nltk\n",
    "nltk.download('stopwords')\n",
    "# Load stop words from NLTK library\n",
    "from nltk.corpus import stopwords\n",
    "stop_words_ar = stopwords.words('arabic')\n",
    "type(stop_words_ar),len(stop_words_ar)\n",
    "print(stop_words_ar[0:10])\n",
    "\n",
    "# FEEL FREE TO ADD MORE WORDS TO THIS LIST IF YOU WANT ...\n",
    "set(stop_words_ar) & {'من','إلى','عن','على','في','ب','ل','ك','و'}\n",
    "stop_words_ar = stop_words_ar + ['من','إلى','عن','على','في','ب','ل','ك','و']\n",
    "type(stop_words_ar)\n",
    "# For each document, remove stop words\n",
    "ara_corpus_tokenized = [[word for word in doc if word not in stop_words_ar] for doc in ara_corpus_tokenized]\n",
    "\n"
   ]
  },
  {
   "cell_type": "code",
   "execution_count": 24,
   "metadata": {},
   "outputs": [],
   "source": [
    "# verify corpus after removing stop words\n",
    "assert(len(ara_corpus_clean) == len(ara_corpus_tokenized))\n",
    "assert(type(ara_corpus_tokenized[0]) == list and type(ara_corpus_tokenized[0][0]) ==str)"
   ]
  },
  {
   "cell_type": "code",
   "execution_count": 25,
   "metadata": {},
   "outputs": [
    {
     "data": {
      "text/plain": [
       "['مكان',\n",
       " 'الرجل',\n",
       " 'الحقيقي',\n",
       " 'شي',\n",
       " 'نظيف',\n",
       " 'واصلي',\n",
       " 'وماركات',\n",
       " 'صح',\n",
       " 'غالي',\n",
       " 'شوي',\n",
       " 'لبس',\n",
       " 'روعه']"
      ]
     },
     "execution_count": 25,
     "metadata": {},
     "output_type": "execute_result"
    }
   ],
   "source": [
    "# verify first document\n",
    "ara_corpus_tokenized[0]"
   ]
  },
  {
   "cell_type": "code",
   "execution_count": 26,
   "metadata": {},
   "outputs": [
    {
     "data": {
      "text/plain": [
       "['مكان',\n",
       " 'رجل',\n",
       " 'حقيقي',\n",
       " 'كل',\n",
       " 'شي',\n",
       " 'نظيف',\n",
       " 'واصلي',\n",
       " 'ومارك',\n",
       " 'صح',\n",
       " 'غالي',\n",
       " 'شوي',\n",
       " 'بس',\n",
       " 'لبس',\n",
       " 'روعه']"
      ]
     },
     "execution_count": 26,
     "metadata": {},
     "output_type": "execute_result"
    }
   ],
   "source": [
    "##6. Stemming\n",
    "# Hints: stemming is a difficult task for the Arabic language because words are often combined into one word (called agglutination).\n",
    "#     You should first visually inspect all the words in your corpus to get an idea about which words are good candidates for stemming ...\n",
    "#     Then try to think of a few simple stemming heuristics (regular expressions), such as: remove certain prefixes (e.g. al), remove certain suffixes (e.g. 'ouna') ...\n",
    "\n",
    "# SKIP THIS STEP IN CLASS TO SAVE TIME. COMPLETE IT AT HOME.\n",
    "import argparse\n",
    "from nltk.stem.isri import ISRIStemmer\n",
    "\n",
    "def light_stem(text):\n",
    "    words = text.split()\n",
    "    result = list()\n",
    "    stemmer = ISRIStemmer()\n",
    "    for word in words:\n",
    "        word = stemmer.norm(word, num=1)      # remove diacritics which representing Arabic short vowels\n",
    "        if not word in stemmer.stop_words:    # exclude stop words from being processed\n",
    "            word = stemmer.pre32(word)        # remove length three and length two prefixes in this order\n",
    "            word = stemmer.suf32(word)        # remove length three and length two suffixes in this order\n",
    "            word = stemmer.waw(word)          # remove connective ‘و’ if it precedes a word beginning with ‘و’\n",
    "            word = stemmer.norm(word, num=2)  # normalize initial hamza to bare alif\n",
    "        result.append(word)\n",
    "    return ' '.join(result)\n",
    "\n",
    "ara_corpus_clean =  [light_stem(doc) for doc in ara_corpus_clean]\n",
    "ara_corpus_tokenized =  [tokenizer.tokenize(doc) for doc in ara_corpus_clean]\n",
    "ara_corpus_tokenized[0]\n",
    "\n"
   ]
  },
  {
   "cell_type": "code",
   "execution_count": 27,
   "metadata": {},
   "outputs": [
    {
     "data": {
      "text/plain": [
       "count    48703.000000\n",
       "mean         5.063548\n",
       "std          1.421948\n",
       "min          1.000000\n",
       "25%          4.000000\n",
       "50%          5.000000\n",
       "75%          6.000000\n",
       "max         30.000000\n",
       "dtype: float64"
      ]
     },
     "execution_count": 27,
     "metadata": {},
     "output_type": "execute_result"
    }
   ],
   "source": [
    "##7. Remove words that are too short or too long.\n",
    "# Very short words are usually not very meaningful.\n",
    "# Very long words are usually either wrong, or elongated, or derived words that should be stemmed (normalized).\n",
    "\n",
    "# ENTER YOUR CODE BELOW. See TD1.\n",
    "\n",
    "distinct_words = {word for doc in ara_corpus_tokenized for word in doc}\n",
    "type(distinct_words),len(distinct_words)\n",
    "\n",
    "words_len = pd.Series([len(word) for word in distinct_words])\n",
    "words_len.describe()\n"
   ]
  },
  {
   "cell_type": "code",
   "execution_count": 28,
   "metadata": {},
   "outputs": [
    {
     "data": {
      "image/png": "[encoded data removed]",
      "text/plain": [
       "<Figure size 432x288 with 1 Axes>"
      ]
     },
     "metadata": {
      "needs_background": "light"
     },
     "output_type": "display_data"
    }
   ],
   "source": [
    "fig = words_len.plot(kind='hist', title=\"word length\")"
   ]
  },
  {
   "cell_type": "code",
   "execution_count": 29,
   "metadata": {},
   "outputs": [
    {
     "data": {
      "text/plain": [
       "(list, 10773)"
      ]
     },
     "execution_count": 29,
     "metadata": {},
     "output_type": "execute_result"
    }
   ],
   "source": [
    "ara_corpus_tokenized = [[word for word in doc if len(word)>=4] for doc in ara_corpus_tokenized]\n",
    "type(ara_corpus_tokenized),len(ara_corpus_tokenized)\n",
    "\n",
    "\n"
   ]
  },
  {
   "cell_type": "markdown",
   "metadata": {},
   "source": [
    "****"
   ]
  },
  {
   "cell_type": "code",
   "execution_count": 30,
   "metadata": {},
   "outputs": [
    {
     "data": {
      "text/plain": [
       "(list, 10773)"
      ]
     },
     "execution_count": 30,
     "metadata": {},
     "output_type": "execute_result"
    }
   ],
   "source": [
    "ara_corpus_tokenized = [[word for word in doc if len(word)<=12] for doc in ara_corpus_tokenized]\n",
    "type(ara_corpus_tokenized),len(ara_corpus_tokenized)"
   ]
  },
  {
   "cell_type": "markdown",
   "metadata": {},
   "source": [
    "## Document Representation\n",
    "Remember that the goal of this step is to transform each document from a list of words to a numeric *feature vector*. Each feature corresponds to a distinct word in a selected vocabulary. These feature vectors are stored in a numeric matrix called the **Document-Term Matrix (DTM)**.\n",
    "\n",
    "We will achieve this using *tfidf-BOW* method, as we did in **TD1**."
   ]
  },
  {
   "cell_type": "code",
   "execution_count": 31,
   "metadata": {},
   "outputs": [],
   "source": [
    "# EXECUTE THE CODE BELOW THEN ANSWER THE QUESTIONS IN THE EXERCISE.\n"
   ]
  },
  {
   "cell_type": "markdown",
   "metadata": {},
   "source": [
    "#### Prepare the corpus for BOW"
   ]
  },
  {
   "cell_type": "code",
   "execution_count": 32,
   "metadata": {},
   "outputs": [],
   "source": [
    "# First, concatenate the words in the cleaned corpus (because BOW method in scikit-learn requires this format)\n",
    "ara_corpus_bow = [' '.join(doc) for doc in ara_corpus_tokenized]"
   ]
  },
  {
   "cell_type": "code",
   "execution_count": 33,
   "metadata": {},
   "outputs": [],
   "source": [
    "assert(len(ara_corpus_tokenized)==len(ara_corpus_bow))"
   ]
  },
  {
   "cell_type": "code",
   "execution_count": 34,
   "metadata": {},
   "outputs": [
    {
     "name": "stdout",
     "output_type": "stream",
     "text": [
      "['مكان', 'حقيقي', 'نظيف', 'واصلي', 'ومارك', 'غالي', 'روعه']\n"
     ]
    }
   ],
   "source": [
    "print(ara_corpus_tokenized[0])"
   ]
  },
  {
   "cell_type": "code",
   "execution_count": 35,
   "metadata": {},
   "outputs": [
    {
     "name": "stdout",
     "output_type": "stream",
     "text": [
      "مكان حقيقي نظيف واصلي ومارك غالي روعه\n"
     ]
    }
   ],
   "source": [
    "print(ara_corpus_bow[0])"
   ]
  },
  {
   "cell_type": "markdown",
   "metadata": {},
   "source": [
    "#### Build the vocabulary set\n",
    "Extract the vocabulary set from our corpus and calculate IDF values of each word in this set."
   ]
  },
  {
   "cell_type": "code",
   "execution_count": 36,
   "metadata": {},
   "outputs": [],
   "source": [
    "from sklearn.feature_extraction.text import TfidfVectorizer"
   ]
  },
  {
   "cell_type": "code",
   "execution_count": 37,
   "metadata": {},
   "outputs": [],
   "source": [
    "# Configuration parameters of the BOW model\n",
    "# FEEL FREE TO MODIFY THESE PARAMETERS AS NEEDED ...\n",
    "max_words = 10000\n",
    "maxdf = 0.7\n",
    "mindf = 5"
   ]
  },
  {
   "cell_type": "code",
   "execution_count": 38,
   "metadata": {},
   "outputs": [],
   "source": [
    "# create an instance of this class\n",
    "bow_model = TfidfVectorizer(max_df=maxdf, min_df=mindf, max_features=max_words, stop_words=[], use_idf = True)"
   ]
  },
  {
   "cell_type": "code",
   "execution_count": 39,
   "metadata": {},
   "outputs": [
    {
     "data": {
      "text/plain": [
       "TfidfVectorizer(analyzer='word', binary=False, decode_error='strict',\n",
       "        dtype=<class 'numpy.int64'>, encoding='utf-8', input='content',\n",
       "        lowercase=True, max_df=0.7, max_features=10000, min_df=5,\n",
       "        ngram_range=(1, 1), norm='l2', preprocessor=None, smooth_idf=True,\n",
       "        stop_words=[], strip_accents=None, sublinear_tf=False,\n",
       "        token_pattern='(?u)\\\\b\\\\w\\\\w+\\\\b', tokenizer=None, use_idf=True,\n",
       "        vocabulary=None)"
      ]
     },
     "execution_count": 39,
     "metadata": {},
     "output_type": "execute_result"
    }
   ],
   "source": [
    "# call fit() method in order to prepare BOW method (determine vocabulary and IDF values)\n",
    "bow_model.fit( ara_corpus_bow )"
   ]
  },
  {
   "cell_type": "markdown",
   "metadata": {},
   "source": [
    "#### Build the DTM matrix"
   ]
  },
  {
   "cell_type": "code",
   "execution_count": 40,
   "metadata": {},
   "outputs": [],
   "source": [
    "# Call the transform method in order to calculate DTM matrix of our corpus\n",
    "ara_bow_dtm = bow_model.transform(ara_corpus_bow)"
   ]
  },
  {
   "cell_type": "code",
   "execution_count": 41,
   "metadata": {},
   "outputs": [
    {
     "name": "stdout",
     "output_type": "stream",
     "text": [
      "<class 'scipy.sparse.csr.csr_matrix'>\n",
      "(10773, 8365)\n"
     ]
    }
   ],
   "source": [
    "# Verify the type and size of this matrix\n",
    "print(type(ara_bow_dtm))\n",
    "print(ara_bow_dtm.shape)"
   ]
  },
  {
   "cell_type": "markdown",
   "metadata": {},
   "source": [
    "#### Visually inspect the vocabulary\n",
    "This should help you **tune** the BOW configuration parameters (i.e. min_df, max_df, etc.) ..."
   ]
  },
  {
   "cell_type": "code",
   "execution_count": 42,
   "metadata": {},
   "outputs": [
    {
     "data": {
      "text/plain": [
       "(list, 8365)"
      ]
     },
     "execution_count": 42,
     "metadata": {},
     "output_type": "execute_result"
    }
   ],
   "source": [
    "# The vocabulary of BOW -- i.e. the words that were selected by BOW method to be in the vocabulary\n",
    "bow_vocab = bow_model.get_feature_names()\n",
    "type(bow_vocab), len(bow_vocab)"
   ]
  },
  {
   "cell_type": "code",
   "execution_count": 43,
   "metadata": {},
   "outputs": [
    {
     "data": {
      "text/plain": [
       "(set, 35358)"
      ]
     },
     "execution_count": 43,
     "metadata": {},
     "output_type": "execute_result"
    }
   ],
   "source": [
    "# The words that were ignored (and were not included in the vocabulary)\n",
    "ignored_words = bow_model.stop_words_\n",
    "type(ignored_words),len(ignored_words)"
   ]
  },
  {
   "cell_type": "code",
   "execution_count": 44,
   "metadata": {},
   "outputs": [
    {
     "data": {
      "text/plain": [
       "{'بحتار',\n",
       " 'زكيه',\n",
       " 'تارجت',\n",
       " 'عنفا',\n",
       " 'تهذي',\n",
       " 'ولابس',\n",
       " 'جواهر',\n",
       " 'ميتي',\n",
       " 'بلادت',\n",
       " 'سلبيه',\n",
       " 'ويحفظك',\n",
       " 'صفارت',\n",
       " 'تتفظل',\n",
       " 'اختارت',\n",
       " 'ايرنيس',\n",
       " 'يتعافي',\n",
       " 'لاتفتح',\n",
       " 'رقاويه',\n",
       " 'سباغيتي',\n",
       " 'وبكير',\n",
       " 'فبرظت',\n",
       " 'بخطءي',\n",
       " 'نتفا',\n",
       " 'وبرشلونت',\n",
       " 'بغيته',\n",
       " 'ارباعه',\n",
       " 'ونسدد',\n",
       " 'بنقص',\n",
       " 'انمغصت',\n",
       " 'تشحت',\n",
       " 'زوال',\n",
       " '1429لم',\n",
       " 'مربعا',\n",
       " 'باعمار',\n",
       " 'وببنود',\n",
       " 'دفتر',\n",
       " 'ماجيت',\n",
       " 'يللي',\n",
       " 'تاسيساتي',\n",
       " 'اخوانه',\n",
       " 'بقرص',\n",
       " 'لقرار',\n",
       " 'تناثر',\n",
       " 'بتحسس',\n",
       " 'وجماله',\n",
       " 'اسما',\n",
       " 'بمسرحيت',\n",
       " 'ريءس',\n",
       " 'خططا',\n",
       " 'كماهو',\n",
       " 'بلدك',\n",
       " 'مدفءت',\n",
       " 'بحقيقت',\n",
       " 'مسيره',\n",
       " '2130',\n",
       " 'وبشاشت',\n",
       " 'لبنت',\n",
       " 'يطعمونه',\n",
       " 'اوثوريتي',\n",
       " 'امجاد',\n",
       " 'بيارت',\n",
       " 'صامد',\n",
       " 'نتركه',\n",
       " 'سنتظرونك',\n",
       " 'شهري',\n",
       " 'قصدت',\n",
       " 'ب990فلس',\n",
       " 'بتزي',\n",
       " 'ولويه',\n",
       " '150يورو',\n",
       " 'لسباك',\n",
       " 'ازدهاره',\n",
       " 'مزدوجه',\n",
       " 'لحرص',\n",
       " 'سيعتن',\n",
       " 'دوامت',\n",
       " 'مهملت',\n",
       " 'تلاجت',\n",
       " 'ماسلا',\n",
       " 'مبذولت',\n",
       " 'هدفه',\n",
       " 'بمرافق',\n",
       " 'وخيالي',\n",
       " 'لابءس',\n",
       " 'مبللا',\n",
       " 'بمشوك',\n",
       " 'بناطيل',\n",
       " 'ليليه',\n",
       " 'ومعاك',\n",
       " 'فالصباح',\n",
       " 'تهدهد',\n",
       " 'باتوبيس',\n",
       " 'نشحد',\n",
       " 'ويقعد',\n",
       " 'اﻵهتمام',\n",
       " 'حشوات',\n",
       " 'علتي',\n",
       " 'تغمر',\n",
       " 'مطبج',\n",
       " 'سويته',\n",
       " 'فتنت',\n",
       " 'انيت',\n",
       " 'ارهقت',\n",
       " 'عساء',\n",
       " 'ولونه',\n",
       " 'ساعت10',\n",
       " 'اتهمت',\n",
       " 'لاستقبالي',\n",
       " 'sport',\n",
       " 'بيرشكا',\n",
       " 'وحلاق',\n",
       " 'تسالك',\n",
       " 'بميس',\n",
       " 'تفظي',\n",
       " 'لتستريح',\n",
       " 'احتياليت',\n",
       " 'للغت',\n",
       " 'فريقي',\n",
       " 'mattylad11',\n",
       " 'وتواظع',\n",
       " 'استذكار',\n",
       " 'واجهنا',\n",
       " 'بصلصت',\n",
       " 'روحني',\n",
       " 'days',\n",
       " 'وفرد',\n",
       " 'ملقتش',\n",
       " 'كجناح',\n",
       " 'وتتقابل',\n",
       " 'استعرت',\n",
       " 'يصحو',\n",
       " 'معادن',\n",
       " 'لشاي',\n",
       " 'ومتعه',\n",
       " 'دراير',\n",
       " 'جندي',\n",
       " 'متلا',\n",
       " 'وتراجع',\n",
       " 'تجادل',\n",
       " 'لمبيد',\n",
       " 'وحصول',\n",
       " 'بعربت',\n",
       " 'مدربه',\n",
       " 'عبدالرحمن',\n",
       " 'خسرو',\n",
       " 'كباريه',\n",
       " 'وتساعدك',\n",
       " 'مظاعف',\n",
       " 'بنسيم',\n",
       " 'غبارا',\n",
       " 'راهي',\n",
       " 'نيبيه',\n",
       " 'صحيا',\n",
       " 'صراااحه',\n",
       " 'ومويه',\n",
       " 'لنوا',\n",
       " 'توعا',\n",
       " 'ورشح',\n",
       " 'ترجعهانصيحت',\n",
       " 'وتظفي',\n",
       " 'فنصاءحه',\n",
       " 'بتدفيعي',\n",
       " 'اصنع',\n",
       " 'نقرا',\n",
       " 'حداا',\n",
       " 'لايتوفر',\n",
       " 'زميله',\n",
       " 'ويعطونك',\n",
       " 'شيكو',\n",
       " 'قيامه',\n",
       " 'وكيلي',\n",
       " 'ادمنت',\n",
       " 'بعقدت',\n",
       " 'بوتجاز',\n",
       " 'متنافس',\n",
       " 'مسحته',\n",
       " 'غيرر',\n",
       " 'يعرظه',\n",
       " 'فخفظ',\n",
       " 'بيغل',\n",
       " 'بيصبر',\n",
       " 'لخطوط',\n",
       " 'وشوكلاتت',\n",
       " 'ولانو',\n",
       " 'وعصريت',\n",
       " 'نابيت',\n",
       " 'وتحذير',\n",
       " 'ويقنعك',\n",
       " 'واطعمت',\n",
       " 'كاجازت',\n",
       " 'لناا',\n",
       " 'مغلي',\n",
       " 'وسنابه',\n",
       " 'وذكرت',\n",
       " 'تبطيل',\n",
       " 'بعدذلك',\n",
       " 'ومواكبت',\n",
       " 'تكنس',\n",
       " 'قتيل',\n",
       " 'يحصلو',\n",
       " 'وافكر',\n",
       " 'تتسرق',\n",
       " 'اجزتي',\n",
       " 'ياعمي',\n",
       " '7غرف',\n",
       " 'وخبزه',\n",
       " 'للحر',\n",
       " 'ulica',\n",
       " 'ولااستطيع',\n",
       " 'تلبك',\n",
       " 'واسلاك',\n",
       " 'وافقرت',\n",
       " 'علييت',\n",
       " 'اسءاجازه',\n",
       " 'وابتسم',\n",
       " 'ايفي',\n",
       " 'talal',\n",
       " 'نقرر',\n",
       " 'قمامه',\n",
       " 'قطعتي',\n",
       " 'ويجاور',\n",
       " 'تستقيل',\n",
       " 'واعمل',\n",
       " 'كجودت',\n",
       " 'وبرادو',\n",
       " 'بطلا',\n",
       " 'لودا',\n",
       " 'اصطناعيت',\n",
       " 'استياء',\n",
       " 'غارقت',\n",
       " 'يترجم',\n",
       " 'وتشقق',\n",
       " 'بلحمت',\n",
       " 'انعزم',\n",
       " 'نعيد',\n",
       " 'مكانته',\n",
       " 'ينادي',\n",
       " 'بجري',\n",
       " 'فلين',\n",
       " 'دوماا',\n",
       " 'نجحت',\n",
       " 'واسهال',\n",
       " 'ومخد',\n",
       " 'لسمو',\n",
       " 'استفراغ',\n",
       " 'ومرشدك',\n",
       " 'لبارت',\n",
       " 'لرحلتك',\n",
       " 'زراعيت',\n",
       " 'بتكفيك',\n",
       " 'وفاتك',\n",
       " 'هجري',\n",
       " 'بمايكروويف',\n",
       " 'وموهل',\n",
       " 'انوه',\n",
       " 'تعيينه',\n",
       " 'شايفه',\n",
       " 'لاتحدث',\n",
       " 'سبايسز',\n",
       " 'موسيقا',\n",
       " 'بتفوق',\n",
       " 'ونشكر',\n",
       " 'لاتساخ',\n",
       " 'لندنيت',\n",
       " 'بخيم',\n",
       " 'وحلي',\n",
       " 'توريه',\n",
       " 'افششل',\n",
       " 'كونتننتال',\n",
       " 'ءطعه',\n",
       " 'وايرلندا',\n",
       " 'لجوالات',\n",
       " 'ايبس',\n",
       " 'تسقيه',\n",
       " 'وستعيش',\n",
       " 'اخدتل',\n",
       " 'توليت',\n",
       " 'افاجء',\n",
       " 'ونصيحت',\n",
       " 'يليت',\n",
       " 'وشاقت',\n",
       " 'مسمم',\n",
       " 'لدورت',\n",
       " 'مناظد',\n",
       " 'جربتو',\n",
       " 'اتمنء',\n",
       " 'ابنظافه',\n",
       " 'لانعرف',\n",
       " 'تعتيم',\n",
       " 'guest',\n",
       " 'اتذوقه',\n",
       " 'فالحد',\n",
       " 'اسعارشويت',\n",
       " 'بمنطقه',\n",
       " 'بليله',\n",
       " 'kids',\n",
       " 'عاءلتت',\n",
       " 'كاسيرو',\n",
       " 'مسموظف',\n",
       " 'سوان',\n",
       " 'عظلاوجدت',\n",
       " 'رالي',\n",
       " 'ومءامرات',\n",
       " 'ياقوت',\n",
       " 'وهاه',\n",
       " 'جدمت',\n",
       " 'اسالو',\n",
       " 'الخخ',\n",
       " 'تزبط',\n",
       " 'تستقطب',\n",
       " 'ولهجت',\n",
       " 'وبدايت',\n",
       " 'ليسلي',\n",
       " 'بلاستك',\n",
       " 'وجبال',\n",
       " 'فوظعو',\n",
       " 'اعانك',\n",
       " 'وترتيبه',\n",
       " 'بتحسي',\n",
       " 'توما',\n",
       " '1600',\n",
       " 'يلتصق',\n",
       " 'مخشب',\n",
       " 'يفانتا',\n",
       " 'تقنع',\n",
       " 'ومستانس',\n",
       " 'اتناوله',\n",
       " 'بجراج',\n",
       " 'بتعقد',\n",
       " 'فورملا',\n",
       " 'وتوابل',\n",
       " 'مستفيظت',\n",
       " 'مفطح',\n",
       " 'لايتورع',\n",
       " 'متالقت',\n",
       " 'مليءا',\n",
       " 'وشيف',\n",
       " 'يتبادل',\n",
       " 'لامبور',\n",
       " 'مييزه',\n",
       " 'جانا',\n",
       " 'وبيتعب',\n",
       " 'بمسحت',\n",
       " 'بتقفل',\n",
       " 'ساغير',\n",
       " 'يوجه',\n",
       " 'قارور',\n",
       " 'ناسف',\n",
       " 'بتحنيط',\n",
       " 'لازياء',\n",
       " 'فحديقت',\n",
       " 'فجاء',\n",
       " 'اولريك',\n",
       " 'هيبي',\n",
       " 'نعنع',\n",
       " 'بذيله',\n",
       " 'مقسوم',\n",
       " 'عالدرج',\n",
       " 'وفسيح',\n",
       " 'تحتاس',\n",
       " 'كالتي',\n",
       " 'مواهب',\n",
       " 'لظبظ',\n",
       " 'وقالتلي',\n",
       " 'فالصحن',\n",
       " 'ونظافتت',\n",
       " 'سنانك',\n",
       " 'معنيه',\n",
       " 'تترسخ',\n",
       " 'بويت',\n",
       " 'نجدت',\n",
       " 'استكهولم',\n",
       " 'يروي',\n",
       " 'اتفقد',\n",
       " 'ولحافه',\n",
       " 'تقيء',\n",
       " 'بمرحاظ',\n",
       " 'متهتك',\n",
       " 'وحبيتو',\n",
       " 'شظيت',\n",
       " 'قييم',\n",
       " 'وتاسفت',\n",
       " 'تبسط',\n",
       " 'جولتك',\n",
       " 'وردو',\n",
       " 'جدود',\n",
       " 'تترسب',\n",
       " 'يخربولي',\n",
       " 'وتسجل',\n",
       " 'بجدت',\n",
       " 'مطالبه',\n",
       " 'ومظيءا',\n",
       " 'ومكتوب',\n",
       " 'توستر',\n",
       " 'وبخدمت',\n",
       " 'ينحذف',\n",
       " 'تلبسيه',\n",
       " 'واكلت',\n",
       " 'هيله',\n",
       " 'وتشغل',\n",
       " 'لزاءري',\n",
       " 'وبامك',\n",
       " 'رجااء',\n",
       " 'خياراتو',\n",
       " 'مااتطلع',\n",
       " 'منين',\n",
       " 'تحاكي',\n",
       " 'مءكول',\n",
       " 'يتوجه',\n",
       " 'ومستويه',\n",
       " 'حلوياتت',\n",
       " 'نعمته',\n",
       " 'اخماد',\n",
       " 'تلاست',\n",
       " 'محتوياتت',\n",
       " 'وتسليمي',\n",
       " 'مسامتحت',\n",
       " 'وسماع',\n",
       " 'يتفوه',\n",
       " 'ناءبي',\n",
       " 'بيحمل',\n",
       " 'وليذيت',\n",
       " 'بنشتري',\n",
       " 'وحنا',\n",
       " 'وتمكنت',\n",
       " 'نوجع',\n",
       " 'arabiata',\n",
       " 'اعتمدت',\n",
       " 'سريا',\n",
       " 'بناطل',\n",
       " 'انااردت',\n",
       " 'شلوي',\n",
       " 'يراقبون',\n",
       " 'بيفتقد',\n",
       " 'عملولي',\n",
       " 'موكب',\n",
       " 'تاجه',\n",
       " 'ماستغ',\n",
       " 'بصبر',\n",
       " 'حصتي',\n",
       " 'اجهاد',\n",
       " 'تتطابق',\n",
       " 'براج',\n",
       " 'لويبدت',\n",
       " 'ويستلاندز',\n",
       " 'حربت',\n",
       " 'تاريـخ',\n",
       " 'استاجرنا',\n",
       " 'كحالت',\n",
       " 'جراسنت',\n",
       " 'كليه',\n",
       " 'تجيلك',\n",
       " 'نهمل',\n",
       " 'قارس',\n",
       " 'تسطيع',\n",
       " 'منصفا',\n",
       " 'تورك',\n",
       " 'وتواجدي',\n",
       " 'لهامي',\n",
       " 'تقيق',\n",
       " 'فيمكن',\n",
       " 'بوجبتي',\n",
       " 'ببيتك',\n",
       " 'واذلال',\n",
       " 'كولو',\n",
       " 'بلوور',\n",
       " 'وحظاره',\n",
       " 'وياخد',\n",
       " 'لانتشار',\n",
       " 'وفاشلت',\n",
       " 'ليصل',\n",
       " 'نستلت',\n",
       " 'استخدمنا',\n",
       " 'يغورو',\n",
       " 'بماسيمو',\n",
       " 'بجزيل',\n",
       " 'وجيده',\n",
       " 'فلاح',\n",
       " 'لاعلي',\n",
       " 'تجهز',\n",
       " 'وبقين',\n",
       " 'ومتاكده',\n",
       " 'شوجر',\n",
       " 'اراي',\n",
       " 'بايجاد',\n",
       " 'لباسا',\n",
       " 'لتزوره',\n",
       " '5دقاءق',\n",
       " 'الصح',\n",
       " 'تتخذو',\n",
       " 'بارادايس',\n",
       " 'نساءم',\n",
       " 'وحبسه',\n",
       " 'ليمد',\n",
       " 'عمول',\n",
       " 'سوفاتيل',\n",
       " 'لومبارد',\n",
       " 'وازبل',\n",
       " 'برابط',\n",
       " 'كايرو',\n",
       " 'بارظي',\n",
       " 'فنجد',\n",
       " 'arch',\n",
       " 'ترك100ريال',\n",
       " 'كيماءيت',\n",
       " 'امنه',\n",
       " 'اموظف',\n",
       " 'نحاسب',\n",
       " 'شاالله',\n",
       " 'خشخشت',\n",
       " 'انتظاره',\n",
       " 'وحبوب',\n",
       " 'نزيلت',\n",
       " 'متعاف',\n",
       " 'عيبت',\n",
       " 'لعازف',\n",
       " 'بتزكر',\n",
       " 'ماريكا',\n",
       " 'ديجا',\n",
       " 'بطعامت',\n",
       " 'ينبوع',\n",
       " 'يعشقه',\n",
       " 'يتسغرقه',\n",
       " 'مسرعا',\n",
       " 'دامك',\n",
       " 'وساحث',\n",
       " 'وكلتاه',\n",
       " 'خانوك',\n",
       " 'ومقالي',\n",
       " 'تتنازع',\n",
       " 'ساحقه',\n",
       " 'اشمو',\n",
       " 'حقدت',\n",
       " 'بر525',\n",
       " 'خوان',\n",
       " 'اجيبه',\n",
       " 'محاوله',\n",
       " 'كحارس',\n",
       " 'دريع',\n",
       " 'ناءيت',\n",
       " 'تمادي',\n",
       " 'كالذي',\n",
       " 'شراع',\n",
       " 'واعدت',\n",
       " 'تجفف',\n",
       " 'فعلاا',\n",
       " 'راستا',\n",
       " '1984',\n",
       " 'وظيفته',\n",
       " 'طراق',\n",
       " 'اتبسط',\n",
       " 'نوافق',\n",
       " 'سيقيم',\n",
       " 'يروحه',\n",
       " 'نسيان',\n",
       " 'وعلا',\n",
       " 'ولافطار',\n",
       " 'بكابل',\n",
       " 'ويحم',\n",
       " 'يتلاءم',\n",
       " 'فاخذت',\n",
       " 'محترمي',\n",
       " 'اصطد',\n",
       " 'مقدرا',\n",
       " 'يديم',\n",
       " 'مناور',\n",
       " 'ويحملوك',\n",
       " 'يحطون',\n",
       " 'حقيره',\n",
       " 'بمعسكر',\n",
       " 'بستحق',\n",
       " 'واخطط',\n",
       " 'بتصميمه',\n",
       " 'وحكيتيبمر',\n",
       " 'باعطاءه',\n",
       " 'dream',\n",
       " 'ومجهود',\n",
       " 'ملاقي',\n",
       " 'بيجبلك',\n",
       " 'افيت',\n",
       " 'ياستغرامي',\n",
       " 'باغت',\n",
       " 'غرباء',\n",
       " 'توميه',\n",
       " 'مغمور',\n",
       " '3شهور',\n",
       " 'اقلق',\n",
       " 'وفعلت',\n",
       " 'ويغادر',\n",
       " 'محاسبتك',\n",
       " 'شحات',\n",
       " 'بكتشف',\n",
       " 'قيصر',\n",
       " 'برخورد',\n",
       " 'وكاساد',\n",
       " 'مسءوليتي',\n",
       " 'دمار',\n",
       " 'وكوزمو',\n",
       " 'طلبا',\n",
       " 'ياللي',\n",
       " 'خسارته',\n",
       " 'بقراء',\n",
       " 'طعميت',\n",
       " 'سسيء',\n",
       " 'مشوشت',\n",
       " 'وليبس',\n",
       " 'almemari',\n",
       " 'عندالاتصال',\n",
       " 'وفيلا',\n",
       " 'وتوبت',\n",
       " 'الغاء',\n",
       " 'وبعدت',\n",
       " 'عاءقا',\n",
       " 'دخليه',\n",
       " 'بدمج',\n",
       " 'بانفسه',\n",
       " 'لعين',\n",
       " 'ثلاثماءت',\n",
       " 'واجــود',\n",
       " 'غليت',\n",
       " 'وفناء',\n",
       " 'وحوله',\n",
       " 'دومينيك',\n",
       " 'غريق',\n",
       " 'لنزولت',\n",
       " 'تنعطف',\n",
       " 'هدءء',\n",
       " 'حتحب',\n",
       " 'فيستفال',\n",
       " 'فريدوم',\n",
       " 'كصديق',\n",
       " 'وترحال',\n",
       " 'زاويه',\n",
       " 'دلاس',\n",
       " 'بيظبط',\n",
       " 'وستاءر',\n",
       " 'اسامت',\n",
       " 'سخونته',\n",
       " 'بذكر',\n",
       " 'بيقولي',\n",
       " 'جليل',\n",
       " 'لااستطيع',\n",
       " 'خاارجي',\n",
       " 'لاها',\n",
       " 'يستورد',\n",
       " 'فاليك',\n",
       " 'كتتيير',\n",
       " 'اوصال',\n",
       " 'بتتصدق',\n",
       " 'غليظ',\n",
       " 'بظلمك',\n",
       " 'باظواء',\n",
       " 'بمجادلت',\n",
       " 'موتزاريلا',\n",
       " 'جباره',\n",
       " 'باصوات',\n",
       " 'لتغطي',\n",
       " 'ابارت',\n",
       " 'تغريم',\n",
       " 'marshed',\n",
       " 'وتنتهي',\n",
       " 'تكثيف',\n",
       " 'وسيعود',\n",
       " 'مماتتخيل',\n",
       " '1961',\n",
       " 'نيويوركي',\n",
       " 'فلير',\n",
       " 'تشرحله',\n",
       " 'عييب',\n",
       " 'لاقت',\n",
       " 'لستك',\n",
       " 'اتجرب',\n",
       " 'يلغيه',\n",
       " 'ديكتاتوري',\n",
       " 'كبنايت',\n",
       " 'تركز',\n",
       " 'وتظيع',\n",
       " 'يتوقعه',\n",
       " '2003',\n",
       " 'ابداه',\n",
       " 'يكتبو',\n",
       " 'عجبي',\n",
       " 'ويفصلك',\n",
       " 'ومتوقفه',\n",
       " 'طيار',\n",
       " 'ومرن',\n",
       " 'منقلو',\n",
       " 'بترمي',\n",
       " 'ورقص',\n",
       " 'مخصوص',\n",
       " 'خدووم',\n",
       " 'لتحصيل',\n",
       " 'وبطء',\n",
       " 'موزع',\n",
       " 'حماسا',\n",
       " 'هيفظل',\n",
       " 'موفره',\n",
       " 'واجعله',\n",
       " 'مقشره',\n",
       " 'فءيز',\n",
       " 'وشنط',\n",
       " 'سوفيا',\n",
       " 'وتهالك',\n",
       " 'لجعلك',\n",
       " 'ولااعرف',\n",
       " 'بيتعملي',\n",
       " 'كاقامت',\n",
       " 'سمان',\n",
       " 'واجنحه',\n",
       " 'وكريمه',\n",
       " 'قياد',\n",
       " 'شاوينج',\n",
       " 'بسيارته',\n",
       " 'معطي',\n",
       " 'تايبيه',\n",
       " 'ايرلنديت',\n",
       " 'يفتحوه',\n",
       " 'غروسفنور',\n",
       " 'ويمثل',\n",
       " 'وستفقد',\n",
       " 'بتغلب',\n",
       " 'وغيرجيدت',\n",
       " 'واسهل',\n",
       " 'وتتسوقي',\n",
       " 'برحابت',\n",
       " 'كذبت',\n",
       " 'لاتوبيس',\n",
       " 'لنصل',\n",
       " 'انسدت',\n",
       " 'فتتو',\n",
       " 'tulip',\n",
       " 'لابو',\n",
       " 'اكلات',\n",
       " 'جويل',\n",
       " 'مستحدمت',\n",
       " 'بيقولولك',\n",
       " 'ببركته',\n",
       " 'روزادا',\n",
       " 'ننكر',\n",
       " 'تعاملك',\n",
       " 'بداءت',\n",
       " 'ومجرب',\n",
       " 'تراجع',\n",
       " 'قومت',\n",
       " 'جوارك',\n",
       " 'مارينيي',\n",
       " 'كونك',\n",
       " 'منعشا',\n",
       " 'ايدن',\n",
       " 'عنوان',\n",
       " 'وبتجنن',\n",
       " 'وران',\n",
       " 'مستحقاتك',\n",
       " 'هتتعب',\n",
       " 'زاءفه',\n",
       " 'بشبك',\n",
       " 'بصداع',\n",
       " 'مشدد',\n",
       " 'اخوتي',\n",
       " 'غادرا',\n",
       " 'وشوك',\n",
       " 'ستالاغ',\n",
       " 'بتتمشي',\n",
       " 'تعيدي',\n",
       " 'تتقبل',\n",
       " 'مريبا',\n",
       " 'تحديثت',\n",
       " 'ماظول',\n",
       " 'تتمع',\n",
       " 'وقاءع',\n",
       " 'ظهرك',\n",
       " 'يدها',\n",
       " 'ويطلق',\n",
       " 'فوات',\n",
       " 'زبونت',\n",
       " 'موللبرنامج',\n",
       " 'نزيلا',\n",
       " 'وصلل',\n",
       " 'ومرمطو',\n",
       " 'زبــالت',\n",
       " 'بشراءط',\n",
       " 'تيرا',\n",
       " 'وخاصيت',\n",
       " 'ماسمعت',\n",
       " 'وكاف',\n",
       " 'ديباك',\n",
       " 'لقواعد',\n",
       " 'ولرجال',\n",
       " 'باختياري',\n",
       " 'لمءسست',\n",
       " 'بيقولو',\n",
       " 'mcdonald',\n",
       " 'وشاشت',\n",
       " 'سهيل',\n",
       " 'بتواصل',\n",
       " 'لتغير',\n",
       " 'ويبد',\n",
       " 'اوصو',\n",
       " 'ودودو',\n",
       " 'وندرت',\n",
       " 'بنصحو',\n",
       " 'تغقرمش',\n",
       " 'متخلفه',\n",
       " 'شقرت',\n",
       " 'روزينكا',\n",
       " 'ناول',\n",
       " 'سوست',\n",
       " 'ywca',\n",
       " 'حذرنا',\n",
       " 'انطلاقا',\n",
       " 'خاالص',\n",
       " 'لاحاجت',\n",
       " 'ورديء',\n",
       " 'متنفذه',\n",
       " 'لاستعراظ',\n",
       " 'تسحر',\n",
       " 'تفرشه',\n",
       " 'كرنب',\n",
       " 'تعالج',\n",
       " 'واستطعت',\n",
       " 'بطلطس',\n",
       " 'تتنوع',\n",
       " 'تمارس',\n",
       " 'زحممه',\n",
       " 'اندلوسيه',\n",
       " 'مقلد',\n",
       " 'استقالتت',\n",
       " 'ولقبو',\n",
       " 'فيرست',\n",
       " 'ويفوح',\n",
       " 'مءذيت',\n",
       " 'بودونج',\n",
       " 'تيريبلز',\n",
       " 'وحركاته',\n",
       " 'ااغرف',\n",
       " 'تشكي',\n",
       " 'تستذكر',\n",
       " 'لشوربت',\n",
       " 'نيكو',\n",
       " 'شﻻﻻت',\n",
       " 'لذييذه',\n",
       " 'ميدا',\n",
       " 'تدارك',\n",
       " 'متمركز',\n",
       " 'بكراج',\n",
       " 'بوشتوبز',\n",
       " 'elio',\n",
       " 'cool',\n",
       " 'يارخيص',\n",
       " 'ميكانيكيت',\n",
       " 'اظخم',\n",
       " 'تعليت',\n",
       " 'تءرق',\n",
       " 'بوجوه',\n",
       " 'كمامت',\n",
       " 'وابديت',\n",
       " 'وهدوءت',\n",
       " 'نهرب',\n",
       " 'مخرجي',\n",
       " 'بهالموقف',\n",
       " 'saudi',\n",
       " 'وساخته',\n",
       " 'ذكريات',\n",
       " 'تذهبو',\n",
       " 'اعطاءك',\n",
       " 'ابناءك',\n",
       " 'ثاتي',\n",
       " 'فتحته',\n",
       " 'معير',\n",
       " 'فوارغ',\n",
       " 'استجاب',\n",
       " 'ايسر',\n",
       " 'عملتو',\n",
       " 'يذلل',\n",
       " 'غزايم',\n",
       " 'تفيظ',\n",
       " 'متداول',\n",
       " 'هاتفه',\n",
       " 'كتذكار',\n",
       " 'بنقط',\n",
       " 'لوصفه',\n",
       " 'واجتماعي',\n",
       " 'نصعد',\n",
       " 'وخرب',\n",
       " 'يراظي',\n",
       " 'وتبعته',\n",
       " 'شواطءه',\n",
       " 'وانغام',\n",
       " 'بارز',\n",
       " 'اكاذيب',\n",
       " 'اقمامه',\n",
       " 'اهذب',\n",
       " 'وتقعدي',\n",
       " 'بقاعت',\n",
       " 'وادخالت',\n",
       " 'سافا',\n",
       " 'نسيته',\n",
       " 'carole',\n",
       " 'بحاله',\n",
       " 'انوالبدلت',\n",
       " 'ماءا',\n",
       " 'ويقولي',\n",
       " 'تموج',\n",
       " 'ومتوفرت',\n",
       " 'بماذن',\n",
       " 'كرواسو',\n",
       " 'ومجموعه',\n",
       " 'بتوصل',\n",
       " 'vacuum',\n",
       " 'حزمت',\n",
       " 'ياثر',\n",
       " 'غيرمباشره',\n",
       " 'هانز',\n",
       " 'هيلن',\n",
       " 'مجازفا',\n",
       " 'كفايـت',\n",
       " 'فيول',\n",
       " 'واوظ',\n",
       " 'واشخاصا',\n",
       " 'دخلتوش',\n",
       " 'بجنبت',\n",
       " 'محجوزه',\n",
       " 'ومانقول',\n",
       " 'تظور',\n",
       " 'nomadix',\n",
       " 'ومكشر',\n",
       " 'لمصلحتك',\n",
       " 'باوند',\n",
       " 'مازح',\n",
       " 'محتقر',\n",
       " 'ساقيت',\n",
       " 'station',\n",
       " 'ارسلوه',\n",
       " '٢٣دينار',\n",
       " 'اغري',\n",
       " 'اندام',\n",
       " 'فحقا',\n",
       " 'معبيه',\n",
       " 'اروحلو',\n",
       " 'باستخدامت',\n",
       " 'ليجعلوك',\n",
       " 'باتريك',\n",
       " 'باوتيستا',\n",
       " 'استيديو',\n",
       " 'بفتفت',\n",
       " 'فللاسف',\n",
       " 'لسريلانكا',\n",
       " 'لتظمن',\n",
       " 'تمساح',\n",
       " 'علبي',\n",
       " 'ملفته',\n",
       " 'محتفل',\n",
       " 'ويقلك',\n",
       " 'وجامع',\n",
       " 'ورطبا',\n",
       " 'نخبه',\n",
       " 'زباءنك',\n",
       " 'فريدريك',\n",
       " 'والم',\n",
       " 'تشاب',\n",
       " 'ومقززت',\n",
       " 'يتسحق',\n",
       " 'واثارت',\n",
       " 'بجواب',\n",
       " 'كاكياس',\n",
       " 'اكتنور',\n",
       " 'فهتك',\n",
       " 'وظفادع',\n",
       " 'ويدعم',\n",
       " 'فالقاعدت',\n",
       " 'وياحلو',\n",
       " 'فساختار',\n",
       " 'هتستمتع',\n",
       " 'كفرد',\n",
       " 'عاوزت',\n",
       " 'ويسار',\n",
       " 'افوز',\n",
       " 'طاظه',\n",
       " 'لايصلحل',\n",
       " 'ومميزات',\n",
       " 'وباعداد',\n",
       " 'hobie',\n",
       " 'بخمست',\n",
       " 'يخسارت',\n",
       " 'بمتر',\n",
       " 'وكدت',\n",
       " 'بقريب',\n",
       " 'قالوه',\n",
       " 'عشاءالموظف',\n",
       " 'لتذوق',\n",
       " 'يقفز',\n",
       " 'تتفاجي',\n",
       " 'اتنمـﯽ',\n",
       " 'تناولوه',\n",
       " 'عراك',\n",
       " 'حقارت',\n",
       " 'بوجد',\n",
       " 'يشيلو',\n",
       " 'اكشف',\n",
       " 'باوجت',\n",
       " ...}"
      ]
     },
     "execution_count": 44,
     "metadata": {},
     "output_type": "execute_result"
    }
   ],
   "source": [
    "# DON'T DO THIS !!! THERE ARE TOO MANY IGNORED WORDS\n",
    "ignored_words"
   ]
  },
  {
   "cell_type": "code",
   "execution_count": 45,
   "metadata": {},
   "outputs": [],
   "source": [
    "# Put vocavulary and their IDF values in a data frame\n",
    "df = pd.DataFrame(dict(Word=bow_vocab,IDF=bow_model.idf_))"
   ]
  },
  {
   "cell_type": "code",
   "execution_count": 46,
   "metadata": {},
   "outputs": [
    {
     "data": {
      "text/html": [
       "<div>\n",
       "<style scoped>\n",
       "    .dataframe tbody tr th:only-of-type {\n",
       "        vertical-align: middle;\n",
       "    }\n",
       "\n",
       "    .dataframe tbody tr th {\n",
       "        vertical-align: top;\n",
       "    }\n",
       "\n",
       "    .dataframe thead th {\n",
       "        text-align: right;\n",
       "    }\n",
       "</style>\n",
       "<table border=\"1\" class=\"dataframe\">\n",
       "  <thead>\n",
       "    <tr style=\"text-align: right;\">\n",
       "      <th></th>\n",
       "      <th>Word</th>\n",
       "      <th>IDF</th>\n",
       "    </tr>\n",
       "  </thead>\n",
       "  <tbody>\n",
       "    <tr>\n",
       "      <th>0</th>\n",
       "      <td>1200</td>\n",
       "      <td>8.338981</td>\n",
       "    </tr>\n",
       "    <tr>\n",
       "      <th>1</th>\n",
       "      <td>1500</td>\n",
       "      <td>8.338981</td>\n",
       "    </tr>\n",
       "    <tr>\n",
       "      <th>2</th>\n",
       "      <td>1800</td>\n",
       "      <td>8.493132</td>\n",
       "    </tr>\n",
       "    <tr>\n",
       "      <th>3</th>\n",
       "      <td>2007</td>\n",
       "      <td>8.338981</td>\n",
       "    </tr>\n",
       "    <tr>\n",
       "      <th>4</th>\n",
       "      <td>2008</td>\n",
       "      <td>7.645834</td>\n",
       "    </tr>\n",
       "    <tr>\n",
       "      <th>5</th>\n",
       "      <td>2009</td>\n",
       "      <td>7.719942</td>\n",
       "    </tr>\n",
       "    <tr>\n",
       "      <th>6</th>\n",
       "      <td>2010</td>\n",
       "      <td>6.729543</td>\n",
       "    </tr>\n",
       "    <tr>\n",
       "      <th>7</th>\n",
       "      <td>2011</td>\n",
       "      <td>6.571319</td>\n",
       "    </tr>\n",
       "    <tr>\n",
       "      <th>8</th>\n",
       "      <td>2012</td>\n",
       "      <td>5.522717</td>\n",
       "    </tr>\n",
       "    <tr>\n",
       "      <th>9</th>\n",
       "      <td>2013</td>\n",
       "      <td>5.994432</td>\n",
       "    </tr>\n",
       "    <tr>\n",
       "      <th>10</th>\n",
       "      <td>2014</td>\n",
       "      <td>6.333647</td>\n",
       "    </tr>\n",
       "    <tr>\n",
       "      <th>11</th>\n",
       "      <td>2500</td>\n",
       "      <td>8.087667</td>\n",
       "    </tr>\n",
       "    <tr>\n",
       "      <th>12</th>\n",
       "      <td>5نجوم</td>\n",
       "      <td>8.338981</td>\n",
       "    </tr>\n",
       "    <tr>\n",
       "      <th>13</th>\n",
       "      <td>animation</td>\n",
       "      <td>8.205450</td>\n",
       "    </tr>\n",
       "    <tr>\n",
       "      <th>14</th>\n",
       "      <td>beach</td>\n",
       "      <td>7.799984</td>\n",
       "    </tr>\n",
       "    <tr>\n",
       "      <th>15</th>\n",
       "      <td>best</td>\n",
       "      <td>8.493132</td>\n",
       "    </tr>\n",
       "    <tr>\n",
       "      <th>16</th>\n",
       "      <td>booking</td>\n",
       "      <td>7.240369</td>\n",
       "    </tr>\n",
       "    <tr>\n",
       "      <th>17</th>\n",
       "      <td>check</td>\n",
       "      <td>8.493132</td>\n",
       "    </tr>\n",
       "    <tr>\n",
       "      <th>18</th>\n",
       "      <td>city</td>\n",
       "      <td>8.205450</td>\n",
       "    </tr>\n",
       "    <tr>\n",
       "      <th>19</th>\n",
       "      <td>club</td>\n",
       "      <td>8.087667</td>\n",
       "    </tr>\n",
       "    <tr>\n",
       "      <th>20</th>\n",
       "      <td>dubai</td>\n",
       "      <td>8.493132</td>\n",
       "    </tr>\n",
       "    <tr>\n",
       "      <th>21</th>\n",
       "      <td>good</td>\n",
       "      <td>8.087667</td>\n",
       "    </tr>\n",
       "    <tr>\n",
       "      <th>22</th>\n",
       "      <td>grand</td>\n",
       "      <td>8.493132</td>\n",
       "    </tr>\n",
       "    <tr>\n",
       "      <th>23</th>\n",
       "      <td>hotel</td>\n",
       "      <td>6.850904</td>\n",
       "    </tr>\n",
       "    <tr>\n",
       "      <th>24</th>\n",
       "      <td>hotels</td>\n",
       "      <td>8.493132</td>\n",
       "    </tr>\n",
       "    <tr>\n",
       "      <th>25</th>\n",
       "      <td>house</td>\n",
       "      <td>8.205450</td>\n",
       "    </tr>\n",
       "    <tr>\n",
       "      <th>26</th>\n",
       "      <td>inclusive</td>\n",
       "      <td>8.493132</td>\n",
       "    </tr>\n",
       "    <tr>\n",
       "      <th>27</th>\n",
       "      <td>mall</td>\n",
       "      <td>8.493132</td>\n",
       "    </tr>\n",
       "    <tr>\n",
       "      <th>28</th>\n",
       "      <td>nice</td>\n",
       "      <td>8.338981</td>\n",
       "    </tr>\n",
       "    <tr>\n",
       "      <th>29</th>\n",
       "      <td>park</td>\n",
       "      <td>8.493132</td>\n",
       "    </tr>\n",
       "    <tr>\n",
       "      <th>30</th>\n",
       "      <td>resort</td>\n",
       "      <td>7.799984</td>\n",
       "    </tr>\n",
       "    <tr>\n",
       "      <th>31</th>\n",
       "      <td>staff</td>\n",
       "      <td>8.338981</td>\n",
       "    </tr>\n",
       "    <tr>\n",
       "      <th>32</th>\n",
       "      <td>trip</td>\n",
       "      <td>8.338981</td>\n",
       "    </tr>\n",
       "    <tr>\n",
       "      <th>33</th>\n",
       "      <td>tripadvisor</td>\n",
       "      <td>7.886996</td>\n",
       "    </tr>\n",
       "    <tr>\n",
       "      <th>34</th>\n",
       "      <td>very</td>\n",
       "      <td>8.087667</td>\n",
       "    </tr>\n",
       "    <tr>\n",
       "      <th>35</th>\n",
       "      <td>wifi</td>\n",
       "      <td>7.719942</td>\n",
       "    </tr>\n",
       "    <tr>\n",
       "      <th>36</th>\n",
       "      <td>اءتم</td>\n",
       "      <td>7.066015</td>\n",
       "    </tr>\n",
       "    <tr>\n",
       "      <th>37</th>\n",
       "      <td>اءتمانيت</td>\n",
       "      <td>7.799984</td>\n",
       "    </tr>\n",
       "    <tr>\n",
       "      <th>38</th>\n",
       "      <td>اءكد</td>\n",
       "      <td>8.338981</td>\n",
       "    </tr>\n",
       "    <tr>\n",
       "      <th>39</th>\n",
       "      <td>االي</td>\n",
       "      <td>8.338981</td>\n",
       "    </tr>\n",
       "    <tr>\n",
       "      <th>40</th>\n",
       "      <td>ابتداء</td>\n",
       "      <td>7.576841</td>\n",
       "    </tr>\n",
       "    <tr>\n",
       "      <th>41</th>\n",
       "      <td>ابتداءا</td>\n",
       "      <td>8.338981</td>\n",
       "    </tr>\n",
       "    <tr>\n",
       "      <th>42</th>\n",
       "      <td>ابتسام</td>\n",
       "      <td>7.576841</td>\n",
       "    </tr>\n",
       "    <tr>\n",
       "      <th>43</th>\n",
       "      <td>ابتسامت</td>\n",
       "      <td>6.095236</td>\n",
       "    </tr>\n",
       "    <tr>\n",
       "      <th>44</th>\n",
       "      <td>ابتسامه</td>\n",
       "      <td>6.917595</td>\n",
       "    </tr>\n",
       "    <tr>\n",
       "      <th>45</th>\n",
       "      <td>ابتعاد</td>\n",
       "      <td>7.240369</td>\n",
       "    </tr>\n",
       "    <tr>\n",
       "      <th>46</th>\n",
       "      <td>ابتعد</td>\n",
       "      <td>6.989054</td>\n",
       "    </tr>\n",
       "    <tr>\n",
       "      <th>47</th>\n",
       "      <td>ابتكار</td>\n",
       "      <td>8.087667</td>\n",
       "    </tr>\n",
       "    <tr>\n",
       "      <th>48</th>\n",
       "      <td>ابحث</td>\n",
       "      <td>6.883694</td>\n",
       "    </tr>\n",
       "    <tr>\n",
       "      <th>49</th>\n",
       "      <td>ابدا</td>\n",
       "      <td>4.293427</td>\n",
       "    </tr>\n",
       "  </tbody>\n",
       "</table>\n",
       "</div>"
      ],
      "text/plain": [
       "           Word       IDF\n",
       "0          1200  8.338981\n",
       "1          1500  8.338981\n",
       "2          1800  8.493132\n",
       "3          2007  8.338981\n",
       "4          2008  7.645834\n",
       "5          2009  7.719942\n",
       "6          2010  6.729543\n",
       "7          2011  6.571319\n",
       "8          2012  5.522717\n",
       "9          2013  5.994432\n",
       "10         2014  6.333647\n",
       "11         2500  8.087667\n",
       "12        5نجوم  8.338981\n",
       "13    animation  8.205450\n",
       "14        beach  7.799984\n",
       "15         best  8.493132\n",
       "16      booking  7.240369\n",
       "17        check  8.493132\n",
       "18         city  8.205450\n",
       "19         club  8.087667\n",
       "20        dubai  8.493132\n",
       "21         good  8.087667\n",
       "22        grand  8.493132\n",
       "23        hotel  6.850904\n",
       "24       hotels  8.493132\n",
       "25        house  8.205450\n",
       "26    inclusive  8.493132\n",
       "27         mall  8.493132\n",
       "28         nice  8.338981\n",
       "29         park  8.493132\n",
       "30       resort  7.799984\n",
       "31        staff  8.338981\n",
       "32         trip  8.338981\n",
       "33  tripadvisor  7.886996\n",
       "34         very  8.087667\n",
       "35         wifi  7.719942\n",
       "36         اءتم  7.066015\n",
       "37     اءتمانيت  7.799984\n",
       "38         اءكد  8.338981\n",
       "39         االي  8.338981\n",
       "40       ابتداء  7.576841\n",
       "41      ابتداءا  8.338981\n",
       "42       ابتسام  7.576841\n",
       "43      ابتسامت  6.095236\n",
       "44      ابتسامه  6.917595\n",
       "45       ابتعاد  7.240369\n",
       "46        ابتعد  6.989054\n",
       "47       ابتكار  8.087667\n",
       "48         ابحث  6.883694\n",
       "49         ابدا  4.293427"
      ]
     },
     "execution_count": 46,
     "metadata": {},
     "output_type": "execute_result"
    }
   ],
   "source": [
    "df.head(50)"
   ]
  },
  {
   "cell_type": "code",
   "execution_count": 47,
   "metadata": {},
   "outputs": [
    {
     "data": {
      "text/html": [
       "<div>\n",
       "<style scoped>\n",
       "    .dataframe tbody tr th:only-of-type {\n",
       "        vertical-align: middle;\n",
       "    }\n",
       "\n",
       "    .dataframe tbody tr th {\n",
       "        vertical-align: top;\n",
       "    }\n",
       "\n",
       "    .dataframe thead th {\n",
       "        text-align: right;\n",
       "    }\n",
       "</style>\n",
       "<table border=\"1\" class=\"dataframe\">\n",
       "  <thead>\n",
       "    <tr style=\"text-align: right;\">\n",
       "      <th></th>\n",
       "      <th>Word</th>\n",
       "      <th>IDF</th>\n",
       "    </tr>\n",
       "  </thead>\n",
       "  <tbody>\n",
       "    <tr>\n",
       "      <th>8360</th>\n",
       "      <td>يوميه</td>\n",
       "      <td>8.087667</td>\n",
       "    </tr>\n",
       "    <tr>\n",
       "      <th>8361</th>\n",
       "      <td>يونيو</td>\n",
       "      <td>7.066015</td>\n",
       "    </tr>\n",
       "    <tr>\n",
       "      <th>8362</th>\n",
       "      <td>٢٠١٣</td>\n",
       "      <td>8.338981</td>\n",
       "    </tr>\n",
       "    <tr>\n",
       "      <th>8363</th>\n",
       "      <td>٢٠١٤</td>\n",
       "      <td>8.205450</td>\n",
       "    </tr>\n",
       "    <tr>\n",
       "      <th>8364</th>\n",
       "      <td>ﻻيوجد</td>\n",
       "      <td>8.493132</td>\n",
       "    </tr>\n",
       "  </tbody>\n",
       "</table>\n",
       "</div>"
      ],
      "text/plain": [
       "       Word       IDF\n",
       "8360  يوميه  8.087667\n",
       "8361  يونيو  7.066015\n",
       "8362   ٢٠١٣  8.338981\n",
       "8363   ٢٠١٤  8.205450\n",
       "8364  ﻻيوجد  8.493132"
      ]
     },
     "execution_count": 47,
     "metadata": {},
     "output_type": "execute_result"
    }
   ],
   "source": [
    "df.tail()"
   ]
  },
  {
   "cell_type": "code",
   "execution_count": 48,
   "metadata": {},
   "outputs": [
    {
     "data": {
      "text/html": [
       "<div>\n",
       "<style scoped>\n",
       "    .dataframe tbody tr th:only-of-type {\n",
       "        vertical-align: middle;\n",
       "    }\n",
       "\n",
       "    .dataframe tbody tr th {\n",
       "        vertical-align: top;\n",
       "    }\n",
       "\n",
       "    .dataframe thead th {\n",
       "        text-align: right;\n",
       "    }\n",
       "</style>\n",
       "<table border=\"1\" class=\"dataframe\">\n",
       "  <thead>\n",
       "    <tr style=\"text-align: right;\">\n",
       "      <th></th>\n",
       "      <th>Word</th>\n",
       "      <th>IDF</th>\n",
       "    </tr>\n",
       "  </thead>\n",
       "  <tbody>\n",
       "    <tr>\n",
       "      <th>4547</th>\n",
       "      <td>فندق</td>\n",
       "      <td>2.024915</td>\n",
       "    </tr>\n",
       "    <tr>\n",
       "      <th>6212</th>\n",
       "      <td>مكان</td>\n",
       "      <td>2.581432</td>\n",
       "    </tr>\n",
       "    <tr>\n",
       "      <th>4764</th>\n",
       "      <td>كانت</td>\n",
       "      <td>2.723249</td>\n",
       "    </tr>\n",
       "    <tr>\n",
       "      <th>3206</th>\n",
       "      <td>راءع</td>\n",
       "      <td>2.753339</td>\n",
       "    </tr>\n",
       "    <tr>\n",
       "      <th>2974</th>\n",
       "      <td>خدمت</td>\n",
       "      <td>2.844744</td>\n",
       "    </tr>\n",
       "    <tr>\n",
       "      <th>6784</th>\n",
       "      <td>هناك</td>\n",
       "      <td>2.905883</td>\n",
       "    </tr>\n",
       "    <tr>\n",
       "      <th>4333</th>\n",
       "      <td>غرفت</td>\n",
       "      <td>2.914031</td>\n",
       "    </tr>\n",
       "    <tr>\n",
       "      <th>7656</th>\n",
       "      <td>ولكن</td>\n",
       "      <td>3.025775</td>\n",
       "    </tr>\n",
       "    <tr>\n",
       "      <th>5987</th>\n",
       "      <td>مطعم</td>\n",
       "      <td>3.055777</td>\n",
       "    </tr>\n",
       "    <tr>\n",
       "      <th>836</th>\n",
       "      <td>التي</td>\n",
       "      <td>3.134974</td>\n",
       "    </tr>\n",
       "  </tbody>\n",
       "</table>\n",
       "</div>"
      ],
      "text/plain": [
       "      Word       IDF\n",
       "4547  فندق  2.024915\n",
       "6212  مكان  2.581432\n",
       "4764  كانت  2.723249\n",
       "3206  راءع  2.753339\n",
       "2974  خدمت  2.844744\n",
       "6784  هناك  2.905883\n",
       "4333  غرفت  2.914031\n",
       "7656  ولكن  3.025775\n",
       "5987  مطعم  3.055777\n",
       "836   التي  3.134974"
      ]
     },
     "execution_count": 48,
     "metadata": {},
     "output_type": "execute_result"
    }
   ],
   "source": [
    "# Show vocabulary words that have SMALLEST IDF values (i.e. that have the largest document frequencies)\n",
    "df.sort_values(\"IDF\", inplace=False, ascending = True).head(10)"
   ]
  },
  {
   "cell_type": "code",
   "execution_count": 49,
   "metadata": {},
   "outputs": [
    {
     "data": {
      "text/html": [
       "<div>\n",
       "<style scoped>\n",
       "    .dataframe tbody tr th:only-of-type {\n",
       "        vertical-align: middle;\n",
       "    }\n",
       "\n",
       "    .dataframe tbody tr th {\n",
       "        vertical-align: top;\n",
       "    }\n",
       "\n",
       "    .dataframe thead th {\n",
       "        text-align: right;\n",
       "    }\n",
       "</style>\n",
       "<table border=\"1\" class=\"dataframe\">\n",
       "  <thead>\n",
       "    <tr style=\"text-align: right;\">\n",
       "      <th></th>\n",
       "      <th>Word</th>\n",
       "      <th>IDF</th>\n",
       "    </tr>\n",
       "  </thead>\n",
       "  <tbody>\n",
       "    <tr>\n",
       "      <th>8364</th>\n",
       "      <td>ﻻيوجد</td>\n",
       "      <td>8.493132</td>\n",
       "    </tr>\n",
       "    <tr>\n",
       "      <th>5887</th>\n",
       "      <td>مسليه</td>\n",
       "      <td>8.493132</td>\n",
       "    </tr>\n",
       "    <tr>\n",
       "      <th>1100</th>\n",
       "      <td>اوركيد</td>\n",
       "      <td>8.493132</td>\n",
       "    </tr>\n",
       "    <tr>\n",
       "      <th>4373</th>\n",
       "      <td>فاتحت</td>\n",
       "      <td>8.493132</td>\n",
       "    </tr>\n",
       "    <tr>\n",
       "      <th>4376</th>\n",
       "      <td>فاتيك</td>\n",
       "      <td>8.493132</td>\n",
       "    </tr>\n",
       "    <tr>\n",
       "      <th>4378</th>\n",
       "      <td>فاجاب</td>\n",
       "      <td>8.493132</td>\n",
       "    </tr>\n",
       "    <tr>\n",
       "      <th>4379</th>\n",
       "      <td>فاخبر</td>\n",
       "      <td>8.493132</td>\n",
       "    </tr>\n",
       "    <tr>\n",
       "      <th>4386</th>\n",
       "      <td>فارسي</td>\n",
       "      <td>8.493132</td>\n",
       "    </tr>\n",
       "    <tr>\n",
       "      <th>4395</th>\n",
       "      <td>فاصل</td>\n",
       "      <td>8.493132</td>\n",
       "    </tr>\n",
       "    <tr>\n",
       "      <th>4401</th>\n",
       "      <td>فالجميع</td>\n",
       "      <td>8.493132</td>\n",
       "    </tr>\n",
       "  </tbody>\n",
       "</table>\n",
       "</div>"
      ],
      "text/plain": [
       "         Word       IDF\n",
       "8364    ﻻيوجد  8.493132\n",
       "5887    مسليه  8.493132\n",
       "1100   اوركيد  8.493132\n",
       "4373    فاتحت  8.493132\n",
       "4376    فاتيك  8.493132\n",
       "4378    فاجاب  8.493132\n",
       "4379    فاخبر  8.493132\n",
       "4386    فارسي  8.493132\n",
       "4395     فاصل  8.493132\n",
       "4401  فالجميع  8.493132"
      ]
     },
     "execution_count": 49,
     "metadata": {},
     "output_type": "execute_result"
    }
   ],
   "source": [
    "# Show vocabulary words that have LARGEST IDF values (i.e. that have the smallest document frequencies)\n",
    "df.sort_values(\"IDF\", inplace=False, ascending = False).head(10)"
   ]
  },
  {
   "cell_type": "code",
   "execution_count": 50,
   "metadata": {},
   "outputs": [],
   "source": [
    "# If you want, you can save the vocabulary into a file\n",
    "df.sort_values(\"IDF\", inplace=False, ascending = True).to_csv(\"./bow_vocab.csv\", index=False, header=True)"
   ]
  },
  {
   "cell_type": "markdown",
   "metadata": {},
   "source": [
    "#### Remove documents that do not contain any vocabulary terms\n",
    "i.e. remove rows in the DTM that are all zeros."
   ]
  },
  {
   "cell_type": "code",
   "execution_count": 51,
   "metadata": {},
   "outputs": [
    {
     "data": {
      "text/plain": [
       "((10773, 8365), (10773,))"
      ]
     },
     "execution_count": 51,
     "metadata": {},
     "output_type": "execute_result"
    }
   ],
   "source": [
    "nb_terms_per_doc = np.array((ara_bow_dtm>0).sum(axis=1))  # calculate sum of rows of DTM matrix\n",
    "nb_terms_per_doc = nb_terms_per_doc.ravel()  # convert result to a 1D array (instead of 2D array)\n",
    "ara_bow_dtm.shape,nb_terms_per_doc.shape"
   ]
  },
  {
   "cell_type": "code",
   "execution_count": 52,
   "metadata": {},
   "outputs": [
    {
     "data": {
      "text/plain": [
       "count    10773.000000\n",
       "mean        27.265571\n",
       "std         25.753605\n",
       "min          0.000000\n",
       "25%          9.000000\n",
       "50%         21.000000\n",
       "75%         36.000000\n",
       "max        369.000000\n",
       "dtype: float64"
      ]
     },
     "execution_count": 52,
     "metadata": {},
     "output_type": "execute_result"
    }
   ],
   "source": [
    "pd.Series(nb_terms_per_doc).describe()"
   ]
  },
  {
   "cell_type": "code",
   "execution_count": 53,
   "metadata": {},
   "outputs": [
    {
     "data": {
      "text/plain": [
       "<matplotlib.axes._subplots.AxesSubplot at 0x1d80e810f60>"
      ]
     },
     "execution_count": 53,
     "metadata": {},
     "output_type": "execute_result"
    },
    {
     "data": {
      "image/png": "[encoded data removed]",
      "text/plain": [
       "<Figure size 432x288 with 1 Axes>"
      ]
     },
     "metadata": {
      "needs_background": "light"
     },
     "output_type": "display_data"
    }
   ],
   "source": [
    "pd.Series(nb_terms_per_doc).plot(kind='hist')"
   ]
  },
  {
   "cell_type": "code",
   "execution_count": 54,
   "metadata": {},
   "outputs": [
    {
     "data": {
      "text/plain": [
       "<matplotlib.axes._subplots.AxesSubplot at 0x1d80fa86d30>"
      ]
     },
     "execution_count": 54,
     "metadata": {},
     "output_type": "execute_result"
    },
    {
     "data": {
      "image/png": "[encoded data removed]",
      "text/plain": [
       "<Figure size 432x288 with 1 Axes>"
      ]
     },
     "metadata": {
      "needs_background": "light"
     },
     "output_type": "display_data"
    }
   ],
   "source": [
    "pd.Series(nb_terms_per_doc[nb_terms_per_doc<100]).plot(kind='hist')"
   ]
  },
  {
   "cell_type": "code",
   "execution_count": 55,
   "metadata": {},
   "outputs": [
    {
     "data": {
      "text/plain": [
       "1784"
      ]
     },
     "execution_count": 55,
     "metadata": {},
     "output_type": "execute_result"
    }
   ],
   "source": [
    "# Number of documents that contain LESS THAN 5 vocabulary term\n",
    "np.sum(nb_terms_per_doc<=5)"
   ]
  },
  {
   "cell_type": "code",
   "execution_count": 56,
   "metadata": {},
   "outputs": [
    {
     "data": {
      "text/plain": [
       "107"
      ]
     },
     "execution_count": 56,
     "metadata": {},
     "output_type": "execute_result"
    }
   ],
   "source": [
    "# Number of documents that contain ZERO vocabulary terms\n",
    "np.sum(nb_terms_per_doc==0)"
   ]
  },
  {
   "cell_type": "code",
   "execution_count": 57,
   "metadata": {},
   "outputs": [
    {
     "data": {
      "text/plain": [
       "['خطاه خيرلامي',\n",
       " '',\n",
       " 'وبالتوفيق',\n",
       " 'وطنا',\n",
       " '',\n",
       " 'هنجم',\n",
       " '',\n",
       " 'مفيده',\n",
       " 'جيــد',\n",
       " 'مبرو مبروك',\n",
       " '',\n",
       " 'فاوفي',\n",
       " '',\n",
       " 'ممتاازت',\n",
       " 'يابطل',\n",
       " 'حميلت',\n",
       " 'بودرت كوﻻج',\n",
       " '',\n",
       " 'ياابوجلال وخلي يشرب لاتخلوه يطرش ويخرج خبابير احسل ياابوجلال هنجمه',\n",
       " '',\n",
       " 'تاجرت صادقت',\n",
       " 'واحببته',\n",
       " '',\n",
       " 'يسلموو',\n",
       " '',\n",
       " 'مزبله تاريـخ',\n",
       " 'ممــتازت',\n",
       " 'متوافقه',\n",
       " 'ممتاززت',\n",
       " '',\n",
       " 'حميل',\n",
       " '',\n",
       " 'كتابه ماعم براسل',\n",
       " 'ارحم',\n",
       " 'حتودو داهيت',\n",
       " 'ياخروف',\n",
       " 'جيلك نهرظت',\n",
       " '',\n",
       " '',\n",
       " 'كسمك',\n",
       " '',\n",
       " '',\n",
       " 'خاين',\n",
       " '',\n",
       " 'كداب',\n",
       " '',\n",
       " 'تفريخ لجان',\n",
       " 'لافتح معاملتك تصرفاتك',\n",
       " 'اسكت توتو',\n",
       " 'بهيمه',\n",
       " '',\n",
       " 'خراط',\n",
       " 'معترظ',\n",
       " 'تقتل قتيل وتمش جنازته',\n",
       " 'دمنا وبره',\n",
       " 'يادنبوع',\n",
       " 'ينفعش',\n",
       " 'اخرف',\n",
       " 'قرعه',\n",
       " 'ثعاب وترويظ ياعبدربت',\n",
       " '',\n",
       " '',\n",
       " 'كسمك',\n",
       " 'انعل مرشدك',\n",
       " 'معترظ',\n",
       " 'انطق اخبل',\n",
       " '',\n",
       " 'عبيط',\n",
       " '',\n",
       " 'هيحرق',\n",
       " 'عزاء',\n",
       " 'لالا',\n",
       " '',\n",
       " 'هتحرق',\n",
       " 'كفايـت نهظـت',\n",
       " '',\n",
       " 'هتحرقو',\n",
       " 'طرطور',\n",
       " '',\n",
       " '',\n",
       " 'نيفسك تهفك',\n",
       " '',\n",
       " 'تصلحو موبايلات تبدلو',\n",
       " '',\n",
       " 'زحممه دمرت وصخو وكسرو',\n",
       " '',\n",
       " '',\n",
       " 'زحممه دمرت وصخو وكسرو',\n",
       " '',\n",
       " 'تابليت',\n",
       " 'ماتشتغل',\n",
       " 'شكرل',\n",
       " '',\n",
       " '',\n",
       " '',\n",
       " '',\n",
       " '',\n",
       " 'ممتازتوشيك',\n",
       " 'مغالي',\n",
       " '',\n",
       " '',\n",
       " 'مظروبت',\n",
       " '',\n",
       " '',\n",
       " '',\n",
       " '',\n",
       " 'شكراا']"
      ]
     },
     "execution_count": 57,
     "metadata": {},
     "output_type": "execute_result"
    }
   ],
   "source": [
    "# Which documents have length 0? (i.e. contain 0 words)\n",
    "[doc for i,doc in enumerate(ara_corpus_bow) if nb_terms_per_doc[i]==0]"
   ]
  },
  {
   "cell_type": "code",
   "execution_count": 58,
   "metadata": {},
   "outputs": [],
   "source": [
    "idx = nb_terms_per_doc>0\n",
    "ara_bow_dtm_filt = ara_bow_dtm[nb_terms_per_doc>0,:]\n",
    "ara_corpus_bow_filt = [ara_corpus_bow[i] for i,x in enumerate(idx) if x]\n",
    "ara_corpus_sentiment_filt = [ara_corpus_sentiment[i] for i,x in enumerate(idx) if x]"
   ]
  },
  {
   "cell_type": "code",
   "execution_count": 59,
   "metadata": {},
   "outputs": [
    {
     "data": {
      "text/plain": [
       "((10773, 8365), 10773)"
      ]
     },
     "execution_count": 59,
     "metadata": {},
     "output_type": "execute_result"
    }
   ],
   "source": [
    "ara_bow_dtm.shape,len(ara_corpus_bow)"
   ]
  },
  {
   "cell_type": "code",
   "execution_count": 60,
   "metadata": {},
   "outputs": [
    {
     "data": {
      "text/plain": [
       "((10666, 8365), 10666, 10666)"
      ]
     },
     "execution_count": 60,
     "metadata": {},
     "output_type": "execute_result"
    }
   ],
   "source": [
    "ara_bow_dtm_filt.shape,len(ara_corpus_bow_filt),len(ara_corpus_sentiment_filt)"
   ]
  },
  {
   "cell_type": "markdown",
   "metadata": {},
   "source": [
    "### EXERCISE 2\n",
    "\n",
    "Answer the following questions based on visual inspection of the above results:\n",
    "\n",
    "1. How many words are then in the BOW vocabulary and how many words were ignored?\n",
    "2. Give examples of 5 words in the vocabulary set of BOW but are not very useful for machine learning.\n",
    "3. Give examples of 5 words that are **not** in the voabulary of BOW but might be useful.\n",
    "4. Give examples of 5 words in the vocabulary set of BOW that are useful but should be stemmed or normalized.\n",
    "5. Propose new values of the configuration parameters of BOW in order to tune the vocabulary to be more satisfactory. \n",
    "\n",
    "**Important Remarks**:\n",
    "- Your answer to all questions will depend on how you do **text cleaning**. So you should rectify your answers after completing text cleaning part (at home).\n",
    "- Your answer to Q4 will be quite **subjective**, so you just need to justify your choice. \n"
   ]
  },
  {
   "cell_type": "markdown",
   "metadata": {},
   "source": [
    "#1\n",
    "The number of words in the BOW vocabulary =8327\n",
    "The number of words that were ignored = 34790\n",
    "#2\n",
    "االي\t\n",
    "اءتم\n",
    "حن \n",
    "طظ\n",
    "#3\n",
    "'فااشلت'\n",
    "'منعو'\n",
    "'موحشه'\n",
    "'لاقلق'\n",
    "'صرخ'\n",
    "#4\n",
    "عزيزي\n",
    "ممتازت\n",
    "#5\n",
    "maxdf = 0.8\n",
    "mindf = 10"
   ]
  },
  {
   "cell_type": "markdown",
   "metadata": {},
   "source": [
    "******"
   ]
  },
  {
   "cell_type": "markdown",
   "metadata": {},
   "source": [
    "## Build Sentiment Classifier\n",
    "We will use the machine learning approach, i.e. train a classifier."
   ]
  },
  {
   "cell_type": "code",
   "execution_count": 61,
   "metadata": {},
   "outputs": [],
   "source": [
    "from sklearn.model_selection import train_test_split\n",
    "\n",
    "from sklearn.linear_model import LogisticRegression\n",
    "from sklearn.naive_bayes import MultinomialNB\n",
    "from sklearn import metrics"
   ]
  },
  {
   "cell_type": "code",
   "execution_count": 62,
   "metadata": {},
   "outputs": [],
   "source": [
    "X = ara_bow_dtm_filt\n",
    "y = ara_corpus_sentiment_filt"
   ]
  },
  {
   "cell_type": "code",
   "execution_count": 63,
   "metadata": {},
   "outputs": [],
   "source": [
    "# Split the data into training and testing\n",
    "\n",
    "X_train, X_test, y_train, y_test = train_test_split(X, y, test_size = 0.3, random_state=1996)"
   ]
  },
  {
   "cell_type": "code",
   "execution_count": 64,
   "metadata": {},
   "outputs": [
    {
     "name": "stdout",
     "output_type": "stream",
     "text": [
      "(7466, 8365)\n",
      "7466\n",
      "(3200, 8365)\n",
      "3200\n"
     ]
    }
   ],
   "source": [
    "print(X_train.shape)\n",
    "print(len(y_train))\n",
    "print(X_test.shape)\n",
    "print(len(y_test))\n",
    "assert(len(y_test)+len(y_train)==len(y))"
   ]
  },
  {
   "cell_type": "markdown",
   "metadata": {},
   "source": [
    "### Train classifier using logistic regression"
   ]
  },
  {
   "cell_type": "code",
   "execution_count": 65,
   "metadata": {},
   "outputs": [],
   "source": [
    "# Read documentation\n",
    "# ?LogisticRegression"
   ]
  },
  {
   "cell_type": "code",
   "execution_count": 66,
   "metadata": {},
   "outputs": [
    {
     "data": {
      "text/plain": [
       "LogisticRegression(C=1.0, class_weight=None, dual=False, fit_intercept=True,\n",
       "          intercept_scaling=1, max_iter=100, multi_class='ovr', n_jobs=1,\n",
       "          penalty='l2', random_state=None, solver='liblinear', tol=0.0001,\n",
       "          verbose=0, warm_start=False)"
      ]
     },
     "execution_count": 66,
     "metadata": {},
     "output_type": "execute_result"
    }
   ],
   "source": [
    "# Train the model using Logistic Regression method\n",
    "\n",
    "LR_model = LogisticRegression(penalty='l2')\n",
    "LR_model.fit(X_train, y_train)"
   ]
  },
  {
   "cell_type": "code",
   "execution_count": 67,
   "metadata": {},
   "outputs": [],
   "source": [
    "# Use this model to predict the sentiment category of test documents\n",
    "y_pred_LR = LR_model.predict(X_test)"
   ]
  },
  {
   "cell_type": "code",
   "execution_count": 68,
   "metadata": {},
   "outputs": [
    {
     "data": {
      "text/plain": [
       "(numpy.ndarray, 3200)"
      ]
     },
     "execution_count": 68,
     "metadata": {},
     "output_type": "execute_result"
    }
   ],
   "source": [
    "type(y_pred_LR),len(y_pred_LR)"
   ]
  },
  {
   "cell_type": "code",
   "execution_count": 69,
   "metadata": {},
   "outputs": [
    {
     "data": {
      "text/plain": [
       "0.8803125"
      ]
     },
     "execution_count": 69,
     "metadata": {},
     "output_type": "execute_result"
    }
   ],
   "source": [
    "# Calculate the classification rate of this classifier\n",
    "metrics.accuracy_score(y_test, y_pred_LR)"
   ]
  },
  {
   "cell_type": "code",
   "execution_count": 70,
   "metadata": {},
   "outputs": [
    {
     "name": "stdout",
     "output_type": "stream",
     "text": [
      "[[1223  201]\n",
      " [ 182 1594]]\n"
     ]
    }
   ],
   "source": [
    "# Display the confusion matrix\n",
    "print(metrics.confusion_matrix(y_test, y_pred_LR))"
   ]
  },
  {
   "cell_type": "markdown",
   "metadata": {},
   "source": [
    "### Interpret parameter values of  this model\n",
    "- The logistic regression model has one parameter per feature (i.e. vocabulary word).\n",
    "- Most positive values indicate parameters that contribute most to class 1\n",
    "- Most negative values indicate parameters contribute most to class -1"
   ]
  },
  {
   "cell_type": "code",
   "execution_count": 71,
   "metadata": {},
   "outputs": [
    {
     "data": {
      "text/plain": [
       "LogisticRegression(C=1.0, class_weight=None, dual=False, fit_intercept=True,\n",
       "          intercept_scaling=1, max_iter=100, multi_class='ovr', n_jobs=1,\n",
       "          penalty='l2', random_state=None, solver='liblinear', tol=0.0001,\n",
       "          verbose=0, warm_start=False)"
      ]
     },
     "execution_count": 71,
     "metadata": {},
     "output_type": "execute_result"
    }
   ],
   "source": [
    "# Re-train the model using ALL DATA\n",
    "LR_model2 = LogisticRegression(penalty='l2')\n",
    "LR_model2.fit(X, y)"
   ]
  },
  {
   "cell_type": "code",
   "execution_count": 72,
   "metadata": {},
   "outputs": [
    {
     "name": "stdout",
     "output_type": "stream",
     "text": [
      "<class 'numpy.ndarray'>\n",
      "(8365,)\n"
     ]
    }
   ],
   "source": [
    "# get the coefficients (parameter) of the LR model\n",
    "LR_coefs = LR_model2.coef_   #2D array with only one row\n",
    "LR_coefs = LR_coefs.ravel()  #convert to a 1D array\n",
    "print(type(LR_coefs))\n",
    "print(LR_coefs.shape)"
   ]
  },
  {
   "cell_type": "code",
   "execution_count": 73,
   "metadata": {},
   "outputs": [],
   "source": [
    "# Verify that the number of coefficients = number of words in vocabulary\n",
    "assert(len(bow_model.get_feature_names())==len(LR_coefs))"
   ]
  },
  {
   "cell_type": "code",
   "execution_count": 74,
   "metadata": {},
   "outputs": [
    {
     "data": {
      "text/plain": [
       "count    8365.000000\n",
       "mean        0.015516\n",
       "std         0.465373\n",
       "min        -7.097766\n",
       "25%        -0.182381\n",
       "50%         0.006523\n",
       "75%         0.192966\n",
       "max         8.067931\n",
       "dtype: float64"
      ]
     },
     "execution_count": 74,
     "metadata": {},
     "output_type": "execute_result"
    }
   ],
   "source": [
    "# Put the coefficients in a Pandas Series for ease of visualization\n",
    "pd.Series(LR_coefs).describe()"
   ]
  },
  {
   "cell_type": "code",
   "execution_count": 75,
   "metadata": {},
   "outputs": [
    {
     "data": {
      "text/plain": [
       "<matplotlib.axes._subplots.AxesSubplot at 0x1d80e8d6208>"
      ]
     },
     "execution_count": 75,
     "metadata": {},
     "output_type": "execute_result"
    },
    {
     "data": {
      "image/png": "[encoded data removed]",
      "text/plain": [
       "<Figure size 432x288 with 1 Axes>"
      ]
     },
     "metadata": {
      "needs_background": "light"
     },
     "output_type": "display_data"
    }
   ],
   "source": [
    "pd.Series(LR_coefs).plot(kind='hist')"
   ]
  },
  {
   "cell_type": "code",
   "execution_count": 76,
   "metadata": {},
   "outputs": [
    {
     "data": {
      "text/html": [
       "<div>\n",
       "<style scoped>\n",
       "    .dataframe tbody tr th:only-of-type {\n",
       "        vertical-align: middle;\n",
       "    }\n",
       "\n",
       "    .dataframe tbody tr th {\n",
       "        vertical-align: top;\n",
       "    }\n",
       "\n",
       "    .dataframe thead th {\n",
       "        text-align: right;\n",
       "    }\n",
       "</style>\n",
       "<table border=\"1\" class=\"dataframe\">\n",
       "  <thead>\n",
       "    <tr style=\"text-align: right;\">\n",
       "      <th></th>\n",
       "      <th>Word</th>\n",
       "      <th>Coef</th>\n",
       "    </tr>\n",
       "  </thead>\n",
       "  <tbody>\n",
       "    <tr>\n",
       "      <th>5134</th>\n",
       "      <td>لطيف</td>\n",
       "      <td>2.516767</td>\n",
       "    </tr>\n",
       "    <tr>\n",
       "      <th>3810</th>\n",
       "      <td>شكرا</td>\n",
       "      <td>2.532786</td>\n",
       "    </tr>\n",
       "    <tr>\n",
       "      <th>7011</th>\n",
       "      <td>وانصح</td>\n",
       "      <td>2.565476</td>\n",
       "    </tr>\n",
       "    <tr>\n",
       "      <th>2694</th>\n",
       "      <td>جميله</td>\n",
       "      <td>2.574724</td>\n",
       "    </tr>\n",
       "    <tr>\n",
       "      <th>3355</th>\n",
       "      <td>روعه</td>\n",
       "      <td>2.623594</td>\n",
       "    </tr>\n",
       "    <tr>\n",
       "      <th>6328</th>\n",
       "      <td>مناسبت</td>\n",
       "      <td>2.761679</td>\n",
       "    </tr>\n",
       "    <tr>\n",
       "      <th>3234</th>\n",
       "      <td>راقي</td>\n",
       "      <td>2.771645</td>\n",
       "    </tr>\n",
       "    <tr>\n",
       "      <th>344</th>\n",
       "      <td>اروع</td>\n",
       "      <td>2.773280</td>\n",
       "    </tr>\n",
       "    <tr>\n",
       "      <th>742</th>\n",
       "      <td>افظل</td>\n",
       "      <td>2.850215</td>\n",
       "    </tr>\n",
       "    <tr>\n",
       "      <th>2689</th>\n",
       "      <td>جميع</td>\n",
       "      <td>2.908104</td>\n",
       "    </tr>\n",
       "    <tr>\n",
       "      <th>3209</th>\n",
       "      <td>راءعه</td>\n",
       "      <td>3.094081</td>\n",
       "    </tr>\n",
       "    <tr>\n",
       "      <th>158</th>\n",
       "      <td>اجمل</td>\n",
       "      <td>3.182284</td>\n",
       "    </tr>\n",
       "    <tr>\n",
       "      <th>6299</th>\n",
       "      <td>ممتازه</td>\n",
       "      <td>3.209490</td>\n",
       "    </tr>\n",
       "    <tr>\n",
       "      <th>3354</th>\n",
       "      <td>روعت</td>\n",
       "      <td>3.293792</td>\n",
       "    </tr>\n",
       "    <tr>\n",
       "      <th>2693</th>\n",
       "      <td>جميلت</td>\n",
       "      <td>3.304824</td>\n",
       "    </tr>\n",
       "    <tr>\n",
       "      <th>2691</th>\n",
       "      <td>جميل</td>\n",
       "      <td>4.087597</td>\n",
       "    </tr>\n",
       "    <tr>\n",
       "      <th>6296</th>\n",
       "      <td>ممتاز</td>\n",
       "      <td>5.603927</td>\n",
       "    </tr>\n",
       "    <tr>\n",
       "      <th>6298</th>\n",
       "      <td>ممتازت</td>\n",
       "      <td>5.667601</td>\n",
       "    </tr>\n",
       "    <tr>\n",
       "      <th>3208</th>\n",
       "      <td>راءعت</td>\n",
       "      <td>6.384792</td>\n",
       "    </tr>\n",
       "    <tr>\n",
       "      <th>3206</th>\n",
       "      <td>راءع</td>\n",
       "      <td>8.067931</td>\n",
       "    </tr>\n",
       "  </tbody>\n",
       "</table>\n",
       "</div>"
      ],
      "text/plain": [
       "        Word      Coef\n",
       "5134    لطيف  2.516767\n",
       "3810    شكرا  2.532786\n",
       "7011   وانصح  2.565476\n",
       "2694   جميله  2.574724\n",
       "3355    روعه  2.623594\n",
       "6328  مناسبت  2.761679\n",
       "3234    راقي  2.771645\n",
       "344     اروع  2.773280\n",
       "742     افظل  2.850215\n",
       "2689    جميع  2.908104\n",
       "3209   راءعه  3.094081\n",
       "158     اجمل  3.182284\n",
       "6299  ممتازه  3.209490\n",
       "3354    روعت  3.293792\n",
       "2693   جميلت  3.304824\n",
       "2691    جميل  4.087597\n",
       "6296   ممتاز  5.603927\n",
       "6298  ممتازت  5.667601\n",
       "3208   راءعت  6.384792\n",
       "3206    راءع  8.067931"
      ]
     },
     "execution_count": 76,
     "metadata": {},
     "output_type": "execute_result"
    }
   ],
   "source": [
    "## COMPLETE THE CODE BELOW BASED ON THE INSTRUCTIONS IN THE COMMENTS.\n",
    "# HINT: put the coefficients and the vocabulary words in a Pandas DataFrame ...\n",
    "\n",
    "\n",
    "# 1) Sort coefficient values in ascending order\n",
    "dfc = pd.DataFrame(dict(Word=bow_vocab, Coef=LR_coefs))\n",
    "dfc = dfc.sort_values(\"Coef\", inplace=False, ascending = True)\n",
    "\n",
    "# 2) Display the 20 largest coefficients and their corresponding words\n",
    "dfc.tail(20)"
   ]
  },
  {
   "cell_type": "code",
   "execution_count": 77,
   "metadata": {},
   "outputs": [
    {
     "data": {
      "text/html": [
       "<div>\n",
       "<style scoped>\n",
       "    .dataframe tbody tr th:only-of-type {\n",
       "        vertical-align: middle;\n",
       "    }\n",
       "\n",
       "    .dataframe tbody tr th {\n",
       "        vertical-align: top;\n",
       "    }\n",
       "\n",
       "    .dataframe thead th {\n",
       "        text-align: right;\n",
       "    }\n",
       "</style>\n",
       "<table border=\"1\" class=\"dataframe\">\n",
       "  <thead>\n",
       "    <tr style=\"text-align: right;\">\n",
       "      <th></th>\n",
       "      <th>Word</th>\n",
       "      <th>Coef</th>\n",
       "    </tr>\n",
       "  </thead>\n",
       "  <tbody>\n",
       "    <tr>\n",
       "      <th>3674</th>\n",
       "      <td>سيءت</td>\n",
       "      <td>-7.097766</td>\n",
       "    </tr>\n",
       "    <tr>\n",
       "      <th>509</th>\n",
       "      <td>اسوا</td>\n",
       "      <td>-4.616624</td>\n",
       "    </tr>\n",
       "    <tr>\n",
       "      <th>49</th>\n",
       "      <td>ابدا</td>\n",
       "      <td>-4.264613</td>\n",
       "    </tr>\n",
       "    <tr>\n",
       "      <th>508</th>\n",
       "      <td>اسوء</td>\n",
       "      <td>-3.535722</td>\n",
       "    </tr>\n",
       "    <tr>\n",
       "      <th>4107</th>\n",
       "      <td>عادي</td>\n",
       "      <td>-3.518342</td>\n",
       "    </tr>\n",
       "    <tr>\n",
       "      <th>3675</th>\n",
       "      <td>سيءه</td>\n",
       "      <td>-3.516525</td>\n",
       "    </tr>\n",
       "    <tr>\n",
       "      <th>4654</th>\n",
       "      <td>قذرت</td>\n",
       "      <td>-2.631641</td>\n",
       "    </tr>\n",
       "    <tr>\n",
       "      <th>5388</th>\n",
       "      <td>مبالغ</td>\n",
       "      <td>-2.625203</td>\n",
       "    </tr>\n",
       "    <tr>\n",
       "      <th>4648</th>\n",
       "      <td>قديم</td>\n",
       "      <td>-2.419248</td>\n",
       "    </tr>\n",
       "    <tr>\n",
       "      <th>599</th>\n",
       "      <td>اطلاق</td>\n",
       "      <td>-2.344333</td>\n",
       "    </tr>\n",
       "    <tr>\n",
       "      <th>3203</th>\n",
       "      <td>راءحت</td>\n",
       "      <td>-2.231938</td>\n",
       "    </tr>\n",
       "    <tr>\n",
       "      <th>4311</th>\n",
       "      <td>غالي</td>\n",
       "      <td>-2.161621</td>\n",
       "    </tr>\n",
       "    <tr>\n",
       "      <th>7528</th>\n",
       "      <td>وغير</td>\n",
       "      <td>-2.124290</td>\n",
       "    </tr>\n",
       "    <tr>\n",
       "      <th>4396</th>\n",
       "      <td>فاظي</td>\n",
       "      <td>-2.050077</td>\n",
       "    </tr>\n",
       "    <tr>\n",
       "      <th>3287</th>\n",
       "      <td>رديءت</td>\n",
       "      <td>-2.018531</td>\n",
       "    </tr>\n",
       "    <tr>\n",
       "      <th>7627</th>\n",
       "      <td>وكيل</td>\n",
       "      <td>-1.974939</td>\n",
       "    </tr>\n",
       "    <tr>\n",
       "      <th>1492</th>\n",
       "      <td>بسبب</td>\n",
       "      <td>-1.932930</td>\n",
       "    </tr>\n",
       "    <tr>\n",
       "      <th>8208</th>\n",
       "      <td>يعمل</td>\n",
       "      <td>-1.919847</td>\n",
       "    </tr>\n",
       "    <tr>\n",
       "      <th>5269</th>\n",
       "      <td>ليست</td>\n",
       "      <td>-1.909357</td>\n",
       "    </tr>\n",
       "    <tr>\n",
       "      <th>5869</th>\n",
       "      <td>مستوي</td>\n",
       "      <td>-1.879439</td>\n",
       "    </tr>\n",
       "  </tbody>\n",
       "</table>\n",
       "</div>"
      ],
      "text/plain": [
       "       Word      Coef\n",
       "3674   سيءت -7.097766\n",
       "509    اسوا -4.616624\n",
       "49     ابدا -4.264613\n",
       "508    اسوء -3.535722\n",
       "4107   عادي -3.518342\n",
       "3675   سيءه -3.516525\n",
       "4654   قذرت -2.631641\n",
       "5388  مبالغ -2.625203\n",
       "4648   قديم -2.419248\n",
       "599   اطلاق -2.344333\n",
       "3203  راءحت -2.231938\n",
       "4311   غالي -2.161621\n",
       "7528   وغير -2.124290\n",
       "4396   فاظي -2.050077\n",
       "3287  رديءت -2.018531\n",
       "7627   وكيل -1.974939\n",
       "1492   بسبب -1.932930\n",
       "8208   يعمل -1.919847\n",
       "5269   ليست -1.909357\n",
       "5869  مستوي -1.879439"
      ]
     },
     "execution_count": 77,
     "metadata": {},
     "output_type": "execute_result"
    }
   ],
   "source": [
    "# 3) Display the 20 smallest coefficients and their corresponding words\n",
    "dfc.head(20)"
   ]
  },
  {
   "cell_type": "markdown",
   "metadata": {},
   "source": [
    "### EXERCISE 3\n",
    "\n",
    "Answer the following questions based on the results of the logistic regression model.\n",
    "\n",
    "1. Based on the *confusion matrix* above, is this classifier **biased**?  Note: we say a classifier is *biased* if it makes *significantly* more errors for one class than the other (false positives vs. false negatives).\n",
    "2. Which 5 words are most aossicatd with positive sentiment?  (hint: see most positive coefficients)\n",
    "3. Which 5 words are most aossicatd with negative sentiment?  (hint: see most negative coefficients)\n",
    "4. Do these results make sense?  (if they don't, then there is something wrong with the data and/or processing pipeline ...)\n",
    "5. (OPTIONAL) Show all test documents that are positive but are predicted negative by this classifier. Do you notice any trends?\n",
    "6. (OPTIONAL) Show all test documents that are negative but are predicted positive by this classifier. Do you notice any trends?"
   ]
  },
  {
   "cell_type": "markdown",
   "metadata": {},
   "source": [
    "#1 \n",
    "In binary classification, the count of true negatives is C(0,0) , false negatives is C(1,0) , true positives is C(1,1) and false positives is C(0,1).\n",
    "In our case : false negatives = 182\n",
    "              false positives = 201              \n",
    "Based on the confusion matrix above ,the classifier is a little biased.\n",
    "\n",
    "#2  \n",
    "راءع\n",
    "راءعت\n",
    "ممتازت\n",
    "ممتاز\n",
    "جميل\n",
    "\n",
    "#3 \n",
    "سيءت\n",
    "اسوا\n",
    "ابدا\n",
    "اسوء\n",
    "عادي\n",
    "\n",
    "#4\n",
    "yes the results make sense."
   ]
  },
  {
   "cell_type": "markdown",
   "metadata": {},
   "source": [
    "### Train classifier using Naive Bayes"
   ]
  },
  {
   "cell_type": "code",
   "execution_count": 78,
   "metadata": {},
   "outputs": [],
   "source": [
    "# read documentation\n",
    "# ?MultinomialNB"
   ]
  },
  {
   "cell_type": "code",
   "execution_count": 79,
   "metadata": {},
   "outputs": [
    {
     "data": {
      "text/plain": [
       "MultinomialNB(alpha=1.0, class_prior=None, fit_prior=True)"
      ]
     },
     "execution_count": 79,
     "metadata": {},
     "output_type": "execute_result"
    }
   ],
   "source": [
    "## Build Naive Bayes classification model\n",
    "\n",
    "NB_model = MultinomialNB(alpha = 1.0)\n",
    "NB_model.fit(X_train, y_train)"
   ]
  },
  {
   "cell_type": "code",
   "execution_count": 80,
   "metadata": {},
   "outputs": [],
   "source": [
    "# Use this model to predict the sentiment category of test documents\n",
    "y_pred_NB = NB_model.predict(X_test)"
   ]
  },
  {
   "cell_type": "code",
   "execution_count": 81,
   "metadata": {},
   "outputs": [
    {
     "data": {
      "text/plain": [
       "0.8671875"
      ]
     },
     "execution_count": 81,
     "metadata": {},
     "output_type": "execute_result"
    }
   ],
   "source": [
    "# Classification rate\n",
    "metrics.accuracy_score(y_test, y_pred_NB)"
   ]
  },
  {
   "cell_type": "code",
   "execution_count": 82,
   "metadata": {},
   "outputs": [
    {
     "data": {
      "text/plain": [
       "array([[1123,  301],\n",
       "       [ 124, 1652]], dtype=int64)"
      ]
     },
     "execution_count": 82,
     "metadata": {},
     "output_type": "execute_result"
    }
   ],
   "source": [
    "# Confusion matrix\n",
    "metrics.confusion_matrix(y_test, y_pred_NB)"
   ]
  },
  {
   "cell_type": "markdown",
   "metadata": {},
   "source": [
    "### Interpret parameters of  the model\n",
    "- Naive Bayes model has two parameters per feature (i.e. vocabulary word)\n",
    "- These parameters are stored in a 2x$n$ array, where $n$ is the number of vocabulary words\n",
    "- The first row of this array contains **log of conditional probabilities** Pr(xi|class1)\n",
    "- The second row contains **log of conditional probabilities** Pr(xi|class2)\n",
    "- Ideally, if parameter value $\\approx$ 0 then the corresponding vocabulary word is very important for that class\n",
    "- Ideally, if parameter value $\\approx - \\infty$ then the corresponding vocabulary word is not important at all for that class"
   ]
  },
  {
   "cell_type": "code",
   "execution_count": 83,
   "metadata": {},
   "outputs": [
    {
     "data": {
      "text/plain": [
       "MultinomialNB(alpha=1.0, class_prior=None, fit_prior=True)"
      ]
     },
     "execution_count": 83,
     "metadata": {},
     "output_type": "execute_result"
    }
   ],
   "source": [
    "# Re-train the model using ALL DATA\n",
    "NB_model2 = MultinomialNB(alpha = 1.0)\n",
    "NB_model2.fit(X, y)"
   ]
  },
  {
   "cell_type": "code",
   "execution_count": 84,
   "metadata": {},
   "outputs": [
    {
     "name": "stdout",
     "output_type": "stream",
     "text": [
      "<class 'numpy.ndarray'>\n",
      "(2, 8365)\n"
     ]
    }
   ],
   "source": [
    "# get NB model's coefficients\n",
    "NB_coefs = NB_model2.feature_log_prob_\n",
    "print(type(NB_coefs))\n",
    "print(NB_coefs.shape)"
   ]
  },
  {
   "cell_type": "code",
   "execution_count": 85,
   "metadata": {},
   "outputs": [],
   "source": [
    "assert(NB_coefs.shape[0] == 2)\n",
    "assert(NB_coefs.shape[1] == len(bow_model.get_feature_names()))"
   ]
  },
  {
   "cell_type": "code",
   "execution_count": 86,
   "metadata": {},
   "outputs": [
    {
     "data": {
      "text/plain": [
       "array([-1,  1])"
      ]
     },
     "execution_count": 86,
     "metadata": {},
     "output_type": "execute_result"
    }
   ],
   "source": [
    "# determine the order of classes in this model\n",
    "NB_model2.classes_"
   ]
  },
  {
   "cell_type": "code",
   "execution_count": 87,
   "metadata": {},
   "outputs": [],
   "source": [
    "# paramaters associated with the NEGATIVE class\n",
    "NB_coefs_neg_class = NB_coefs[0,:]"
   ]
  },
  {
   "cell_type": "code",
   "execution_count": 88,
   "metadata": {},
   "outputs": [],
   "source": [
    "# paramaters associated with the POSITIVE class\n",
    "NB_coefs_pos_class = NB_coefs[1,:]"
   ]
  },
  {
   "cell_type": "code",
   "execution_count": 89,
   "metadata": {},
   "outputs": [
    {
     "data": {
      "text/plain": [
       "count    8365.000000\n",
       "mean       -9.374079\n",
       "std         0.685892\n",
       "min       -10.262439\n",
       "25%        -9.847389\n",
       "50%        -9.532099\n",
       "75%        -9.070893\n",
       "max        -5.017771\n",
       "dtype: float64"
      ]
     },
     "execution_count": 89,
     "metadata": {},
     "output_type": "execute_result"
    }
   ],
   "source": [
    "pd.Series(NB_coefs_neg_class).describe()"
   ]
  },
  {
   "cell_type": "code",
   "execution_count": 90,
   "metadata": {},
   "outputs": [
    {
     "data": {
      "text/plain": [
       "<matplotlib.axes._subplots.AxesSubplot at 0x1d80efa7a90>"
      ]
     },
     "execution_count": 90,
     "metadata": {},
     "output_type": "execute_result"
    },
    {
     "data": {
      "image/png": "[encoded data removed]",
      "text/plain": [
       "<Figure size 432x288 with 1 Axes>"
      ]
     },
     "metadata": {
      "needs_background": "light"
     },
     "output_type": "display_data"
    }
   ],
   "source": [
    "pd.Series(NB_coefs_neg_class).plot(kind='hist')"
   ]
  },
  {
   "cell_type": "code",
   "execution_count": 91,
   "metadata": {},
   "outputs": [
    {
     "data": {
      "text/plain": [
       "<matplotlib.axes._subplots.AxesSubplot at 0x1d80f51cb38>"
      ]
     },
     "execution_count": 91,
     "metadata": {},
     "output_type": "execute_result"
    },
    {
     "data": {
      "image/png": "[encoded data removed]",
      "text/plain": [
       "<Figure size 432x288 with 1 Axes>"
      ]
     },
     "metadata": {
      "needs_background": "light"
     },
     "output_type": "display_data"
    }
   ],
   "source": [
    "pd.Series(NB_coefs_pos_class).plot(kind='hist')"
   ]
  },
  {
   "cell_type": "code",
   "execution_count": 92,
   "metadata": {},
   "outputs": [
    {
     "data": {
      "text/html": [
       "<div>\n",
       "<style scoped>\n",
       "    .dataframe tbody tr th:only-of-type {\n",
       "        vertical-align: middle;\n",
       "    }\n",
       "\n",
       "    .dataframe tbody tr th {\n",
       "        vertical-align: top;\n",
       "    }\n",
       "\n",
       "    .dataframe thead th {\n",
       "        text-align: right;\n",
       "    }\n",
       "</style>\n",
       "<table border=\"1\" class=\"dataframe\">\n",
       "  <thead>\n",
       "    <tr style=\"text-align: right;\">\n",
       "      <th></th>\n",
       "      <th>Word</th>\n",
       "      <th>Coef</th>\n",
       "    </tr>\n",
       "  </thead>\n",
       "  <tbody>\n",
       "    <tr>\n",
       "      <th>4739</th>\n",
       "      <td>كاذبت</td>\n",
       "      <td>-10.478805</td>\n",
       "    </tr>\n",
       "    <tr>\n",
       "      <th>726</th>\n",
       "      <td>افتراظ</td>\n",
       "      <td>-10.478805</td>\n",
       "    </tr>\n",
       "    <tr>\n",
       "      <th>3655</th>\n",
       "      <td>سوءا</td>\n",
       "      <td>-10.478805</td>\n",
       "    </tr>\n",
       "    <tr>\n",
       "      <th>323</th>\n",
       "      <td>ارحمو</td>\n",
       "      <td>-10.478805</td>\n",
       "    </tr>\n",
       "    <tr>\n",
       "      <th>3640</th>\n",
       "      <td>سندويشه</td>\n",
       "      <td>-10.478805</td>\n",
       "    </tr>\n",
       "    <tr>\n",
       "      <th>321</th>\n",
       "      <td>ارجيله</td>\n",
       "      <td>-10.478805</td>\n",
       "    </tr>\n",
       "    <tr>\n",
       "      <th>3639</th>\n",
       "      <td>سندويشت</td>\n",
       "      <td>-10.478805</td>\n",
       "    </tr>\n",
       "    <tr>\n",
       "      <th>6188</th>\n",
       "      <td>مقرفه</td>\n",
       "      <td>-10.478805</td>\n",
       "    </tr>\n",
       "    <tr>\n",
       "      <th>6190</th>\n",
       "      <td>مقزز</td>\n",
       "      <td>-10.478805</td>\n",
       "    </tr>\n",
       "    <tr>\n",
       "      <th>6191</th>\n",
       "      <td>مقززت</td>\n",
       "      <td>-10.478805</td>\n",
       "    </tr>\n",
       "    <tr>\n",
       "      <th>316</th>\n",
       "      <td>ارجاع</td>\n",
       "      <td>-10.478805</td>\n",
       "    </tr>\n",
       "    <tr>\n",
       "      <th>3627</th>\n",
       "      <td>سمعه</td>\n",
       "      <td>-10.478805</td>\n",
       "    </tr>\n",
       "    <tr>\n",
       "      <th>313</th>\n",
       "      <td>ارتكب</td>\n",
       "      <td>-10.478805</td>\n",
       "    </tr>\n",
       "    <tr>\n",
       "      <th>3617</th>\n",
       "      <td>سمارت</td>\n",
       "      <td>-10.478805</td>\n",
       "    </tr>\n",
       "    <tr>\n",
       "      <th>6211</th>\n",
       "      <td>مكالمه</td>\n",
       "      <td>-10.478805</td>\n",
       "    </tr>\n",
       "    <tr>\n",
       "      <th>737</th>\n",
       "      <td>افشل</td>\n",
       "      <td>-10.478805</td>\n",
       "    </tr>\n",
       "    <tr>\n",
       "      <th>6227</th>\n",
       "      <td>مكررت</td>\n",
       "      <td>-10.478805</td>\n",
       "    </tr>\n",
       "    <tr>\n",
       "      <th>6232</th>\n",
       "      <td>مكسرت</td>\n",
       "      <td>-10.478805</td>\n",
       "    </tr>\n",
       "    <tr>\n",
       "      <th>6234</th>\n",
       "      <td>مكسورا</td>\n",
       "      <td>-10.478805</td>\n",
       "    </tr>\n",
       "    <tr>\n",
       "      <th>6253</th>\n",
       "      <td>ملاءت</td>\n",
       "      <td>-10.478805</td>\n",
       "    </tr>\n",
       "  </tbody>\n",
       "</table>\n",
       "</div>"
      ],
      "text/plain": [
       "         Word       Coef\n",
       "4739    كاذبت -10.478805\n",
       "726    افتراظ -10.478805\n",
       "3655     سوءا -10.478805\n",
       "323     ارحمو -10.478805\n",
       "3640  سندويشه -10.478805\n",
       "321    ارجيله -10.478805\n",
       "3639  سندويشت -10.478805\n",
       "6188    مقرفه -10.478805\n",
       "6190     مقزز -10.478805\n",
       "6191    مقززت -10.478805\n",
       "316     ارجاع -10.478805\n",
       "3627     سمعه -10.478805\n",
       "313     ارتكب -10.478805\n",
       "3617    سمارت -10.478805\n",
       "6211   مكالمه -10.478805\n",
       "737      افشل -10.478805\n",
       "6227    مكررت -10.478805\n",
       "6232    مكسرت -10.478805\n",
       "6234   مكسورا -10.478805\n",
       "6253    ملاءت -10.478805"
      ]
     },
     "execution_count": 92,
     "metadata": {},
     "output_type": "execute_result"
    }
   ],
   "source": [
    "## COMPLETE THE CODE BELOW\n",
    "\n",
    "# Sort the coefficient values of the POSITIVE CLASS in ascending order\n",
    "dfcp = pd.DataFrame(dict(Word=bow_vocab, Coef=NB_coefs_pos_class))\n",
    "dfcp = dfcp.sort_values(\"Coef\", inplace=False, ascending = True)\n",
    "\n",
    "# Display the 20 smallest and largest coefficients and their corresponding vocabulary words\n",
    "# the 20 smallest coefficients and their corresponding vocabulary words\n",
    "dfcp.head(20)"
   ]
  },
  {
   "cell_type": "code",
   "execution_count": 93,
   "metadata": {},
   "outputs": [
    {
     "data": {
      "text/html": [
       "<div>\n",
       "<style scoped>\n",
       "    .dataframe tbody tr th:only-of-type {\n",
       "        vertical-align: middle;\n",
       "    }\n",
       "\n",
       "    .dataframe tbody tr th {\n",
       "        vertical-align: top;\n",
       "    }\n",
       "\n",
       "    .dataframe thead th {\n",
       "        text-align: right;\n",
       "    }\n",
       "</style>\n",
       "<table border=\"1\" class=\"dataframe\">\n",
       "  <thead>\n",
       "    <tr style=\"text-align: right;\">\n",
       "      <th></th>\n",
       "      <th>Word</th>\n",
       "      <th>Coef</th>\n",
       "    </tr>\n",
       "  </thead>\n",
       "  <tbody>\n",
       "    <tr>\n",
       "      <th>798</th>\n",
       "      <td>اكثر</td>\n",
       "      <td>-6.122838</td>\n",
       "    </tr>\n",
       "    <tr>\n",
       "      <th>4015</th>\n",
       "      <td>طعام</td>\n",
       "      <td>-6.114908</td>\n",
       "    </tr>\n",
       "    <tr>\n",
       "      <th>4333</th>\n",
       "      <td>غرفت</td>\n",
       "      <td>-6.077317</td>\n",
       "    </tr>\n",
       "    <tr>\n",
       "      <th>7656</th>\n",
       "      <td>ولكن</td>\n",
       "      <td>-6.065158</td>\n",
       "    </tr>\n",
       "    <tr>\n",
       "      <th>2733</th>\n",
       "      <td>جيدت</td>\n",
       "      <td>-6.043356</td>\n",
       "    </tr>\n",
       "    <tr>\n",
       "      <th>6465</th>\n",
       "      <td>موقع</td>\n",
       "      <td>-6.017279</td>\n",
       "    </tr>\n",
       "    <tr>\n",
       "      <th>6298</th>\n",
       "      <td>ممتازت</td>\n",
       "      <td>-6.015979</td>\n",
       "    </tr>\n",
       "    <tr>\n",
       "      <th>6784</th>\n",
       "      <td>هناك</td>\n",
       "      <td>-6.014044</td>\n",
       "    </tr>\n",
       "    <tr>\n",
       "      <th>742</th>\n",
       "      <td>افظل</td>\n",
       "      <td>-5.936476</td>\n",
       "    </tr>\n",
       "    <tr>\n",
       "      <th>2689</th>\n",
       "      <td>جميع</td>\n",
       "      <td>-5.927712</td>\n",
       "    </tr>\n",
       "    <tr>\n",
       "      <th>1026</th>\n",
       "      <td>انصح</td>\n",
       "      <td>-5.918558</td>\n",
       "    </tr>\n",
       "    <tr>\n",
       "      <th>5987</th>\n",
       "      <td>مطعم</td>\n",
       "      <td>-5.882117</td>\n",
       "    </tr>\n",
       "    <tr>\n",
       "      <th>4764</th>\n",
       "      <td>كانت</td>\n",
       "      <td>-5.844175</td>\n",
       "    </tr>\n",
       "    <tr>\n",
       "      <th>2974</th>\n",
       "      <td>خدمت</td>\n",
       "      <td>-5.797145</td>\n",
       "    </tr>\n",
       "    <tr>\n",
       "      <th>3208</th>\n",
       "      <td>راءعت</td>\n",
       "      <td>-5.760894</td>\n",
       "    </tr>\n",
       "    <tr>\n",
       "      <th>2691</th>\n",
       "      <td>جميل</td>\n",
       "      <td>-5.718334</td>\n",
       "    </tr>\n",
       "    <tr>\n",
       "      <th>6296</th>\n",
       "      <td>ممتاز</td>\n",
       "      <td>-5.526793</td>\n",
       "    </tr>\n",
       "    <tr>\n",
       "      <th>6212</th>\n",
       "      <td>مكان</td>\n",
       "      <td>-5.468427</td>\n",
       "    </tr>\n",
       "    <tr>\n",
       "      <th>3206</th>\n",
       "      <td>راءع</td>\n",
       "      <td>-5.126341</td>\n",
       "    </tr>\n",
       "    <tr>\n",
       "      <th>4547</th>\n",
       "      <td>فندق</td>\n",
       "      <td>-4.723430</td>\n",
       "    </tr>\n",
       "  </tbody>\n",
       "</table>\n",
       "</div>"
      ],
      "text/plain": [
       "        Word      Coef\n",
       "798     اكثر -6.122838\n",
       "4015    طعام -6.114908\n",
       "4333    غرفت -6.077317\n",
       "7656    ولكن -6.065158\n",
       "2733    جيدت -6.043356\n",
       "6465    موقع -6.017279\n",
       "6298  ممتازت -6.015979\n",
       "6784    هناك -6.014044\n",
       "742     افظل -5.936476\n",
       "2689    جميع -5.927712\n",
       "1026    انصح -5.918558\n",
       "5987    مطعم -5.882117\n",
       "4764    كانت -5.844175\n",
       "2974    خدمت -5.797145\n",
       "3208   راءعت -5.760894\n",
       "2691    جميل -5.718334\n",
       "6296   ممتاز -5.526793\n",
       "6212    مكان -5.468427\n",
       "3206    راءع -5.126341\n",
       "4547    فندق -4.723430"
      ]
     },
     "execution_count": 93,
     "metadata": {},
     "output_type": "execute_result"
    }
   ],
   "source": [
    "# the 20 largest coefficients and their corresponding vocabulary words\n",
    "dfcp.tail(20)"
   ]
  },
  {
   "cell_type": "code",
   "execution_count": 94,
   "metadata": {},
   "outputs": [
    {
     "data": {
      "text/html": [
       "<div>\n",
       "<style scoped>\n",
       "    .dataframe tbody tr th:only-of-type {\n",
       "        vertical-align: middle;\n",
       "    }\n",
       "\n",
       "    .dataframe tbody tr th {\n",
       "        vertical-align: top;\n",
       "    }\n",
       "\n",
       "    .dataframe thead th {\n",
       "        text-align: right;\n",
       "    }\n",
       "</style>\n",
       "<table border=\"1\" class=\"dataframe\">\n",
       "  <thead>\n",
       "    <tr style=\"text-align: right;\">\n",
       "      <th></th>\n",
       "      <th>Word</th>\n",
       "      <th>Coef</th>\n",
       "    </tr>\n",
       "  </thead>\n",
       "  <tbody>\n",
       "    <tr>\n",
       "      <th>3670</th>\n",
       "      <td>سويسرا</td>\n",
       "      <td>-10.262439</td>\n",
       "    </tr>\n",
       "    <tr>\n",
       "      <th>4401</th>\n",
       "      <td>فالجميع</td>\n",
       "      <td>-10.262439</td>\n",
       "    </tr>\n",
       "    <tr>\n",
       "      <th>6783</th>\n",
       "      <td>هناء</td>\n",
       "      <td>-10.262439</td>\n",
       "    </tr>\n",
       "    <tr>\n",
       "      <th>490</th>\n",
       "      <td>اسلاميت</td>\n",
       "      <td>-10.262439</td>\n",
       "    </tr>\n",
       "    <tr>\n",
       "      <th>3594</th>\n",
       "      <td>سلاحف</td>\n",
       "      <td>-10.262439</td>\n",
       "    </tr>\n",
       "    <tr>\n",
       "      <th>3593</th>\n",
       "      <td>سكينت</td>\n",
       "      <td>-10.262439</td>\n",
       "    </tr>\n",
       "    <tr>\n",
       "      <th>6782</th>\n",
       "      <td>همبرجر</td>\n",
       "      <td>-10.262439</td>\n",
       "    </tr>\n",
       "    <tr>\n",
       "      <th>6091</th>\n",
       "      <td>معماريت</td>\n",
       "      <td>-10.262439</td>\n",
       "    </tr>\n",
       "    <tr>\n",
       "      <th>3588</th>\n",
       "      <td>سكري</td>\n",
       "      <td>-10.262439</td>\n",
       "    </tr>\n",
       "    <tr>\n",
       "      <th>3575</th>\n",
       "      <td>سعيده</td>\n",
       "      <td>-10.262439</td>\n",
       "    </tr>\n",
       "    <tr>\n",
       "      <th>6773</th>\n",
       "      <td>هديه</td>\n",
       "      <td>-10.262439</td>\n",
       "    </tr>\n",
       "    <tr>\n",
       "      <th>5210</th>\n",
       "      <td>لمستر</td>\n",
       "      <td>-10.262439</td>\n",
       "    </tr>\n",
       "    <tr>\n",
       "      <th>4927</th>\n",
       "      <td>لاتوصف</td>\n",
       "      <td>-10.262439</td>\n",
       "    </tr>\n",
       "    <tr>\n",
       "      <th>6767</th>\n",
       "      <td>هايل</td>\n",
       "      <td>-10.262439</td>\n",
       "    </tr>\n",
       "    <tr>\n",
       "      <th>1872</th>\n",
       "      <td>تاسع</td>\n",
       "      <td>-10.262439</td>\n",
       "    </tr>\n",
       "    <tr>\n",
       "      <th>3576</th>\n",
       "      <td>سفارت</td>\n",
       "      <td>-10.262439</td>\n",
       "    </tr>\n",
       "    <tr>\n",
       "      <th>3563</th>\n",
       "      <td>سعدت</td>\n",
       "      <td>-10.262439</td>\n",
       "    </tr>\n",
       "    <tr>\n",
       "      <th>5332</th>\n",
       "      <td>ماشاءالله</td>\n",
       "      <td>-10.262439</td>\n",
       "    </tr>\n",
       "    <tr>\n",
       "      <th>1979</th>\n",
       "      <td>تجربو</td>\n",
       "      <td>-10.262439</td>\n",
       "    </tr>\n",
       "    <tr>\n",
       "      <th>8002</th>\n",
       "      <td>يجعلونك</td>\n",
       "      <td>-10.262439</td>\n",
       "    </tr>\n",
       "  </tbody>\n",
       "</table>\n",
       "</div>"
      ],
      "text/plain": [
       "           Word       Coef\n",
       "3670     سويسرا -10.262439\n",
       "4401    فالجميع -10.262439\n",
       "6783       هناء -10.262439\n",
       "490     اسلاميت -10.262439\n",
       "3594      سلاحف -10.262439\n",
       "3593      سكينت -10.262439\n",
       "6782     همبرجر -10.262439\n",
       "6091    معماريت -10.262439\n",
       "3588       سكري -10.262439\n",
       "3575      سعيده -10.262439\n",
       "6773       هديه -10.262439\n",
       "5210      لمستر -10.262439\n",
       "4927     لاتوصف -10.262439\n",
       "6767       هايل -10.262439\n",
       "1872       تاسع -10.262439\n",
       "3576      سفارت -10.262439\n",
       "3563       سعدت -10.262439\n",
       "5332  ماشاءالله -10.262439\n",
       "1979      تجربو -10.262439\n",
       "8002    يجعلونك -10.262439"
      ]
     },
     "execution_count": 94,
     "metadata": {},
     "output_type": "execute_result"
    }
   ],
   "source": [
    "# Repeat the same thing for the coefficients of the negative class\n",
    "# Sort the coefficient values of the POSITIVE CLASS in ascending order\n",
    "dfcn = pd.DataFrame(dict(Word=bow_vocab, Coef=NB_coefs_neg_class))\n",
    "dfcn = dfcn.sort_values(\"Coef\", inplace=False, ascending = True)\n",
    "\n",
    "# Display the 20 smallest and largest coefficients and their corresponding vocabulary words\n",
    "# the 20 smallest coefficients and their corresponding vocabulary words\n",
    "dfcn.head(20)"
   ]
  },
  {
   "cell_type": "code",
   "execution_count": 95,
   "metadata": {},
   "outputs": [
    {
     "data": {
      "text/html": [
       "<div>\n",
       "<style scoped>\n",
       "    .dataframe tbody tr th:only-of-type {\n",
       "        vertical-align: middle;\n",
       "    }\n",
       "\n",
       "    .dataframe tbody tr th {\n",
       "        vertical-align: top;\n",
       "    }\n",
       "\n",
       "    .dataframe thead th {\n",
       "        text-align: right;\n",
       "    }\n",
       "</style>\n",
       "<table border=\"1\" class=\"dataframe\">\n",
       "  <thead>\n",
       "    <tr style=\"text-align: right;\">\n",
       "      <th></th>\n",
       "      <th>Word</th>\n",
       "      <th>Coef</th>\n",
       "    </tr>\n",
       "  </thead>\n",
       "  <tbody>\n",
       "    <tr>\n",
       "      <th>8210</th>\n",
       "      <td>يعني</td>\n",
       "      <td>-6.428041</td>\n",
       "    </tr>\n",
       "    <tr>\n",
       "      <th>438</th>\n",
       "      <td>استقبال</td>\n",
       "      <td>-6.404050</td>\n",
       "    </tr>\n",
       "    <tr>\n",
       "      <th>509</th>\n",
       "      <td>اسوا</td>\n",
       "      <td>-6.392933</td>\n",
       "    </tr>\n",
       "    <tr>\n",
       "      <th>49</th>\n",
       "      <td>ابدا</td>\n",
       "      <td>-6.334928</td>\n",
       "    </tr>\n",
       "    <tr>\n",
       "      <th>4015</th>\n",
       "      <td>طعام</td>\n",
       "      <td>-6.283594</td>\n",
       "    </tr>\n",
       "    <tr>\n",
       "      <th>890</th>\n",
       "      <td>اللي</td>\n",
       "      <td>-6.267078</td>\n",
       "    </tr>\n",
       "    <tr>\n",
       "      <th>889</th>\n",
       "      <td>الله</td>\n",
       "      <td>-6.266941</td>\n",
       "    </tr>\n",
       "    <tr>\n",
       "      <th>1026</th>\n",
       "      <td>انصح</td>\n",
       "      <td>-6.224949</td>\n",
       "    </tr>\n",
       "    <tr>\n",
       "      <th>6450</th>\n",
       "      <td>موظف</td>\n",
       "      <td>-6.214049</td>\n",
       "    </tr>\n",
       "    <tr>\n",
       "      <th>2900</th>\n",
       "      <td>حمام</td>\n",
       "      <td>-6.163794</td>\n",
       "    </tr>\n",
       "    <tr>\n",
       "      <th>8343</th>\n",
       "      <td>يوجد</td>\n",
       "      <td>-6.086834</td>\n",
       "    </tr>\n",
       "    <tr>\n",
       "      <th>7656</th>\n",
       "      <td>ولكن</td>\n",
       "      <td>-6.047815</td>\n",
       "    </tr>\n",
       "    <tr>\n",
       "      <th>2974</th>\n",
       "      <td>خدمت</td>\n",
       "      <td>-5.989729</td>\n",
       "    </tr>\n",
       "    <tr>\n",
       "      <th>5987</th>\n",
       "      <td>مطعم</td>\n",
       "      <td>-5.984502</td>\n",
       "    </tr>\n",
       "    <tr>\n",
       "      <th>6784</th>\n",
       "      <td>هناك</td>\n",
       "      <td>-5.968337</td>\n",
       "    </tr>\n",
       "    <tr>\n",
       "      <th>4764</th>\n",
       "      <td>كانت</td>\n",
       "      <td>-5.813750</td>\n",
       "    </tr>\n",
       "    <tr>\n",
       "      <th>3674</th>\n",
       "      <td>سيءت</td>\n",
       "      <td>-5.795061</td>\n",
       "    </tr>\n",
       "    <tr>\n",
       "      <th>6212</th>\n",
       "      <td>مكان</td>\n",
       "      <td>-5.772130</td>\n",
       "    </tr>\n",
       "    <tr>\n",
       "      <th>4333</th>\n",
       "      <td>غرفت</td>\n",
       "      <td>-5.711792</td>\n",
       "    </tr>\n",
       "    <tr>\n",
       "      <th>4547</th>\n",
       "      <td>فندق</td>\n",
       "      <td>-5.017771</td>\n",
       "    </tr>\n",
       "  </tbody>\n",
       "</table>\n",
       "</div>"
      ],
      "text/plain": [
       "         Word      Coef\n",
       "8210     يعني -6.428041\n",
       "438   استقبال -6.404050\n",
       "509      اسوا -6.392933\n",
       "49       ابدا -6.334928\n",
       "4015     طعام -6.283594\n",
       "890      اللي -6.267078\n",
       "889      الله -6.266941\n",
       "1026     انصح -6.224949\n",
       "6450     موظف -6.214049\n",
       "2900     حمام -6.163794\n",
       "8343     يوجد -6.086834\n",
       "7656     ولكن -6.047815\n",
       "2974     خدمت -5.989729\n",
       "5987     مطعم -5.984502\n",
       "6784     هناك -5.968337\n",
       "4764     كانت -5.813750\n",
       "3674     سيءت -5.795061\n",
       "6212     مكان -5.772130\n",
       "4333     غرفت -5.711792\n",
       "4547     فندق -5.017771"
      ]
     },
     "execution_count": 95,
     "metadata": {},
     "output_type": "execute_result"
    }
   ],
   "source": [
    "dfcn.tail(20)"
   ]
  },
  {
   "cell_type": "markdown",
   "metadata": {},
   "source": [
    "### EXERCISE 4\n",
    "\n",
    "Answer the following questions based on the results of the Naive Bayes model.\n",
    "\n",
    "1. Based on the *confusion matrix* above, is this Naive Bayes classifier **biased**?  Note: we say a classifier is *biased* if it makes significantly more errors for one class than the other (false positives vs. false negatives).\n",
    "2. Which classification method is more accurate for this data: \n",
    "2. Which 5 words are most aossicatd with positive sentiment?  (hint: see most positive coefficients)\n",
    "3. Which 5 words are most aossicatd with negative sentiment?  (hint: see most negative coefficients)\n",
    "4. Do these results make sense?  (if they don't, then there is something wrong with the data and/or processing pipeline ...)"
   ]
  },
  {
   "cell_type": "markdown",
   "metadata": {},
   "source": [
    "****"
   ]
  },
  {
   "cell_type": "markdown",
   "metadata": {},
   "source": [
    "#1 \n",
    "In binary classification, the count of true negatives is C(0,0) , false negatives is C(1,0) , true positives is C(1,1) and false positives is C(0,1).\n",
    "In our case : false negatives = 124\n",
    "              false positives = 301              \n",
    "Based on the confusion matrix above ,the classifier is very biased. 301 >>> 124\n",
    "\n",
    "#2\n",
    "The first classification method (logistic regression) is more accurate for this data.\n",
    "\n",
    "#3\n",
    "فندق\n",
    "راءع\n",
    "مكان\n",
    "ممتاز\n",
    "جميل\n",
    "\n",
    "#4\n",
    "سويسرا\n",
    "فالجميع\n",
    "هناء\n",
    "اسلاميت\n",
    "سلاحف\n",
    "\n",
    "#5\n",
    "Not all of these results make sense ! "
   ]
  },
  {
   "cell_type": "markdown",
   "metadata": {},
   "source": [
    "### EXERCISE 5 (OPTIONAL)\n",
    "Repeat thE entire TD for TUN corpus.  This is optional for the TD, but you need to do it anyway for the final project."
   ]
  },
  {
   "cell_type": "code",
   "execution_count": 96,
   "metadata": {},
   "outputs": [],
   "source": [
    "tun_corpus_files = [ './sentiment_data_TUN_pos.txt', './sentiment_data_TUN_neg.txt' ]"
   ]
  },
  {
   "cell_type": "code",
   "execution_count": 100,
   "metadata": {},
   "outputs": [],
   "source": [
    "import pickle\n",
    "filename = 'lang_sens_model.pkl'\n",
    "pickle.dump(NB_model2, open(filename, 'wb'))"
   ]
  },
  {
   "cell_type": "code",
   "execution_count": 104,
   "metadata": {},
   "outputs": [],
   "source": [
    "filename = 'bow_model.pkl'\n",
    "pickle.dump(bow_model, open(filename, 'wb'))"
   ]
  },
  {
   "cell_type": "code",
   "execution_count": 103,
   "metadata": {},
   "outputs": [
    {
     "name": "stdout",
     "output_type": "stream",
     "text": [
      "[ 1 -1]\n"
     ]
    }
   ],
   "source": [
    "wiou=pd.Series(['كوميدي  ','لمحادثات المخفية المحادثات المخفية الخاصية دي اتلغت ليه ممكن حد يفهمني'])\n",
    "dtm=bow_model.transform(wiou)\n",
    "print(NB_model2.predict(dtm))"
   ]
  },
  {
   "cell_type": "code",
   "execution_count": null,
   "metadata": {},
   "outputs": [],
   "source": []
  },
  {
   "cell_type": "code",
   "execution_count": null,
   "metadata": {},
   "outputs": [],
   "source": []
  },
  {
   "cell_type": "code",
   "execution_count": null,
   "metadata": {},
   "outputs": [],
   "source": []
  },
  {
   "cell_type": "code",
   "execution_count": null,
   "metadata": {},
   "outputs": [],
   "source": []
  }
 ],
 "metadata": {
  "kernelspec": {
   "display_name": "Python 3",
   "language": "python",
   "name": "python3"
  },
  "language_info": {
   "codemirror_mode": {
    "name": "ipython",
    "version": 3
   },
   "file_extension": ".py",
   "mimetype": "text/x-python",
   "name": "python",
   "nbconvert_exporter": "python",
   "pygments_lexer": "ipython3",
   "version": "3.7.0"
  }
 },
 "nbformat": 4,
 "nbformat_minor": 2
}
