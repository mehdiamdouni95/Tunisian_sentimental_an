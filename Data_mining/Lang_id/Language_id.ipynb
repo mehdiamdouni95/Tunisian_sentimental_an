{
 "cells": [
  {
   "cell_type": "markdown",
   "metadata": {},
   "source": [
    "# Language Identification"
   ]
  },
  {
   "cell_type": "markdown",
   "metadata": {},
   "source": [
    "**Outline:**\n",
    "1. Read raw data\n",
    "2. Clean data\n",
    "3. Try existing language identification libraries\n",
    "4. Construct our own dictionary-based language classifier\n",
    "5. Construct our own language classifier using supervised learning\n",
    "\n",
    "**What you need to do:** \n",
    "- Read and execute the source code below and answer the questions in **EXERCISE 1 - EXERCISE 6**. \n",
    "- **Submit** the modifiled file ``TD2.ipynb`` on google drive."
   ]
  },
  {
   "cell_type": "code",
   "execution_count": 37,
   "metadata": {},
   "outputs": [],
   "source": [
    "import pandas as pd\n",
    "import numpy as np"
   ]
  },
  {
   "cell_type": "code",
   "execution_count": 38,
   "metadata": {},
   "outputs": [],
   "source": [
    "from matplotlib import pyplot as plt\n",
    "%matplotlib inline\n",
    "\n",
    "# set the font size of plots\n",
    "plt.rcParams['font.size'] = 14"
   ]
  },
  {
   "cell_type": "code",
   "execution_count": 39,
   "metadata": {},
   "outputs": [],
   "source": [
    "np.set_printoptions(precision=3)"
   ]
  },
  {
   "cell_type": "markdown",
   "metadata": {},
   "source": [
    "## Read raw data"
   ]
  },
  {
   "cell_type": "code",
   "execution_count": 40,
   "metadata": {},
   "outputs": [],
   "source": [
    "corpus_files = ['./langid_data_TUN-AR.txt', './langid_data_ARA.txt']"
   ]
  },
  {
   "cell_type": "code",
   "execution_count": 41,
   "metadata": {},
   "outputs": [],
   "source": [
    "def read_text_file(filename):\n",
    "    print('Reading file ' + filename + \"...\")\n",
    "    with open(filename, \"r\", encoding='utf8') as textfile:\n",
    "        L = []\n",
    "        for line in textfile:\n",
    "            L.append(line.strip())\n",
    "        print('File contains ', len(L), \"lines.\\n\")\n",
    "        return L"
   ]
  },
  {
   "cell_type": "code",
   "execution_count": 42,
   "metadata": {},
   "outputs": [
    {
     "name": "stdout",
     "output_type": "stream",
     "text": [
      "Reading file ./langid_data_TUN-AR.txt...\n",
      "File contains  13932 lines.\n",
      "\n",
      "Reading file ./langid_data_ARA.txt...\n",
      "File contains  21787 lines.\n",
      "\n"
     ]
    }
   ],
   "source": [
    "tun_corpus = read_text_file(corpus_files[0])\n",
    "ara_corpus = read_text_file(corpus_files[1])"
   ]
  },
  {
   "cell_type": "markdown",
   "metadata": {},
   "source": [
    "## Text Cleaning\n",
    "For language identification, we usually only need to remove non-word characters and replace them with spaces. But since our corpus contains social media text, a few other operations are necessary.\n",
    "\n",
    "- Remove non-word symbols (punctuation, math symbols, emoticons, URLs, hashtags, etc.).\n",
    "- Replace punctuation and white space with a single space.\n",
    "- Normalize word elongations and word repetitions.\n",
    "- Remove documents that contain a large fraction of latin characters (some documents contain english or french words).\n",
    "- Remove very short documents."
   ]
  },
  {
   "cell_type": "code",
   "execution_count": 43,
   "metadata": {},
   "outputs": [
    {
     "data": {
      "text/plain": [
       "'This just a simple js jshd jhsd js dh asjh test'"
      ]
     },
     "execution_count": 43,
     "metadata": {},
     "output_type": "execute_result"
    }
   ],
   "source": [
    "import re\n",
    "\n",
    "# regexp for word elongation: matches 3 or more repetitions of a word character.\n",
    "two_plus_letters_RE = re.compile(r\"(\\w)\\1{1,}\", re.DOTALL)\n",
    "three_plus_letters_RE = re.compile(r\"(\\w)\\1{2,}\", re.DOTALL)\n",
    "# regexp for repeated words\n",
    "two_plus_words_RE = re.compile(r\"(\\w+\\s+)\\1{1,}\", re.DOTALL)\n",
    "\n",
    "\n",
    "def cleanup_text(text):\n",
    "    # Remove URLs\n",
    "    text = re.sub('((www\\.[^\\s]+)|(https?://[^\\s]+))', '', text)\n",
    "\n",
    "    # Remove user mentions of the form @username\n",
    "    text = re.sub('@[^\\s]+', '', text)\n",
    "    \n",
    "    # Replace special html-encoded characters with their ASCII equivalent, for example: &#39 ==> '\n",
    "    #if re.search(\"&#\",text):\n",
    "        #text = html.unescape(text)\n",
    "\n",
    "    # Remove special useless characters such as _x000D_\n",
    "    text = re.sub(r'_[xX]000[dD]_', '', text)\n",
    "\n",
    "    # Replace all non-word characters (such as emoticons, punctuation, end of line characters, etc.) with a space\n",
    "    text = re.sub('[\\W_]', ' ', text)\n",
    "\n",
    "    # Remove redundant white spaces\n",
    "    text = text.strip()\n",
    "    text = re.sub('[\\s]+', ' ', text)\n",
    "\n",
    "    # normalize word elongations (characters repeated more than twice)\n",
    "    text = two_plus_letters_RE.sub(r\"\\1\\1\", text)\n",
    "\n",
    "    # remove repeated words\n",
    "    text = two_plus_words_RE.sub(r\"\\1\", text)\n",
    "\n",
    "    return text\n",
    "\n",
    "# unit test of this function\n",
    "cleanup_text(\"This is just a simple. js .... jshd)jhsd__js--dh \\n\\n asjh\\n test !!\")"
   ]
  },
  {
   "cell_type": "markdown",
   "metadata": {},
   "source": [
    "### EXERCISE 1\n",
    "\n",
    "Do the following operations for **each** corpus. Store the new corpora in new variables called ``tun_corpus_clean`` and ``ara_corpus_clean``\n",
    "1. Clean up each document in the corpus using the ``cleanup_text`` function given above.\n",
    "2. Remove all documents that contain a large fraction of latin characters (for example more than 70%).  **Hint**: use a regular expression with pattern [a-zA-Z]\n",
    "3. Remove very short documents (containing less than 10 characters, for e.g.).\n",
    "4. Display the number of documents in the clean corpus."
   ]
  },
  {
   "cell_type": "code",
   "execution_count": 44,
   "metadata": {},
   "outputs": [
    {
     "name": "stdout",
     "output_type": "stream",
     "text": [
      "13932 21787\n"
     ]
    }
   ],
   "source": [
    "## COMPLETE THE CODE BELOW\n",
    "#1\n",
    "tun_corpus_clean = [cleanup_text(doc) for doc in tun_corpus]\n",
    "ara_corpus_clean = [cleanup_text(doc) for doc in ara_corpus]\n",
    "\n",
    "print(len(tun_corpus_clean), len(ara_corpus_clean))"
   ]
  },
  {
   "cell_type": "code",
   "execution_count": 45,
   "metadata": {},
   "outputs": [],
   "source": [
    "#2\n",
    "#tun_corpus_clean=[re.sub('[a-zA-Z]+','',doc) for doc in tun_corpus_clean]\n",
    "tun_corpus_clean2=[doc for doc in tun_corpus_clean if (len(re.findall('[a-zA-Z]+',doc))/len(doc))<0.7]"
   ]
  },
  {
   "cell_type": "code",
   "execution_count": 46,
   "metadata": {},
   "outputs": [],
   "source": [
    "#2\n",
    "#ara_corpus_clean=[re.sub(' [a-zA-Z]+','',doc) for doc in ara_corpus_clean]\n",
    "ara_corpus_clean2=[doc for doc in ara_corpus_clean if (len(re.findall('[a-zA-Z]+',doc))/len(doc))<0.7]"
   ]
  },
  {
   "cell_type": "code",
   "execution_count": 47,
   "metadata": {},
   "outputs": [
    {
     "name": "stdout",
     "output_type": "stream",
     "text": [
      "12039 21459\n"
     ]
    }
   ],
   "source": [
    "#3\n",
    "tun_corpus_clean3 = [cleanup_text(doc) for doc in tun_corpus_clean2 if len(doc)>10]\n",
    "ara_corpus_clean3 = [cleanup_text(doc) for doc in ara_corpus_clean2 if len(doc)>10]\n",
    "print(len(tun_corpus_clean3), len(ara_corpus_clean3))"
   ]
  },
  {
   "cell_type": "markdown",
   "metadata": {},
   "source": [
    "## Try existing language identification libraries\n",
    "- In TD1, we used NLTK's textcat library.\n",
    "- In this TD, we will use another 2 libraries (``langdetect`` and ``langid``) which are actually more accurate than ``textcat``. However, as you will see they "
   ]
  },
  {
   "cell_type": "markdown",
   "metadata": {},
   "source": [
    "### Load special libraries for language identification"
   ]
  },
  {
   "cell_type": "code",
   "execution_count": 48,
   "metadata": {},
   "outputs": [],
   "source": [
    "test_doc = \"This is just a simple test !!\""
   ]
  },
  {
   "cell_type": "code",
   "execution_count": 49,
   "metadata": {},
   "outputs": [
    {
     "data": {
      "text/plain": [
       "[en:0.9999979865821665]"
      ]
     },
     "execution_count": 49,
     "metadata": {},
     "output_type": "execute_result"
    }
   ],
   "source": [
    "# langdetect library\n",
    "\n",
    "import langdetect\n",
    "from langdetect.lang_detect_exception import LangDetectException\n",
    "\n",
    "try:\n",
    "    res = langdetect.detect_langs(test_doc)   # LANGDETECT\n",
    "    #res = langdetect.detect(test_doc) \n",
    "except LangDetectException:\n",
    "    res = langdetect.language.Language(\"UNK\",0)\n",
    "res"
   ]
  },
  {
   "cell_type": "code",
   "execution_count": 50,
   "metadata": {},
   "outputs": [
    {
     "name": "stdout",
     "output_type": "stream",
     "text": [
      "('en', 0.9999998819046767)\n",
      "[('en', 0.9999998819046767), ('br', 1.1536448337940777e-07), ('la', 1.4557736338637932e-09)]\n"
     ]
    }
   ],
   "source": [
    "# langid library\n",
    "\n",
    "from langid.langid import LanguageIdentifier, model\n",
    "li = LanguageIdentifier.from_modelstring(model, norm_probs=True)\n",
    "print(li.classify(test_doc))\n",
    "print(li.rank(test_doc)[0:3])"
   ]
  },
  {
   "cell_type": "code",
   "execution_count": 51,
   "metadata": {},
   "outputs": [
    {
     "data": {
      "text/plain": [
       "'eng'"
      ]
     },
     "execution_count": 51,
     "metadata": {},
     "output_type": "execute_result"
    }
   ],
   "source": [
    "# NLTK textcat library - JUST IN CASE\n",
    "from nltk.classify.textcat import TextCat\n",
    "\n",
    "# create class instance\n",
    "tc = TextCat()\n",
    "tc.guess_language(test_doc)"
   ]
  },
  {
   "cell_type": "markdown",
   "metadata": {},
   "source": [
    "### Test ``langdetect`` on a small sample of Tunisian Corpus"
   ]
  },
  {
   "cell_type": "code",
   "execution_count": 52,
   "metadata": {},
   "outputs": [],
   "source": [
    "# Select a small random sample of 5000 documents from the corpus\n",
    "n = 5000\n",
    "random_indices = np.random.choice(np.arange(len(tun_corpus_clean3)), n, replace=False)\n",
    "small_corpus = [tun_corpus_clean[i] for i in random_indices]"
   ]
  },
  {
   "cell_type": "code",
   "execution_count": 53,
   "metadata": {},
   "outputs": [],
   "source": [
    "res_langdetect = []\n",
    "\n",
    "for doc in small_corpus:\n",
    "    try:\n",
    "        res_langdetect.append(langdetect.detect_langs(doc))\n",
    "    except LangDetectException:\n",
    "        res_langdetect.append([langdetect.language.Language(\"UNK\",0)])"
   ]
  },
  {
   "cell_type": "code",
   "execution_count": 54,
   "metadata": {},
   "outputs": [
    {
     "data": {
      "text/plain": [
       "(5000, 5000)"
      ]
     },
     "execution_count": 54,
     "metadata": {},
     "output_type": "execute_result"
    }
   ],
   "source": [
    "len(small_corpus),len(res_langdetect)"
   ]
  },
  {
   "cell_type": "markdown",
   "metadata": {},
   "source": [
    "### Visualize results"
   ]
  },
  {
   "cell_type": "code",
   "execution_count": 55,
   "metadata": {},
   "outputs": [
    {
     "data": {
      "text/html": [
       "<div>\n",
       "<style scoped>\n",
       "    .dataframe tbody tr th:only-of-type {\n",
       "        vertical-align: middle;\n",
       "    }\n",
       "\n",
       "    .dataframe tbody tr th {\n",
       "        vertical-align: top;\n",
       "    }\n",
       "\n",
       "    .dataframe thead th {\n",
       "        text-align: right;\n",
       "    }\n",
       "</style>\n",
       "<table border=\"1\" class=\"dataframe\">\n",
       "  <thead>\n",
       "    <tr style=\"text-align: right;\">\n",
       "      <th></th>\n",
       "      <th>document</th>\n",
       "      <th>language</th>\n",
       "      <th>probability</th>\n",
       "    </tr>\n",
       "  </thead>\n",
       "  <tbody>\n",
       "    <tr>\n",
       "      <th>0</th>\n",
       "      <td>مله مناظرامقلبه جابتهم هاثوره الكلبه تفوه</td>\n",
       "      <td>ar</td>\n",
       "      <td>0.999997</td>\n",
       "    </tr>\n",
       "    <tr>\n",
       "      <th>1</th>\n",
       "      <td>وحدك لطفي</td>\n",
       "      <td>ar</td>\n",
       "      <td>0.999999</td>\n",
       "    </tr>\n",
       "    <tr>\n",
       "      <th>2</th>\n",
       "      <td>موزاييك اذاعة الفواحش اصلا هه</td>\n",
       "      <td>ar</td>\n",
       "      <td>0.999999</td>\n",
       "    </tr>\n",
       "    <tr>\n",
       "      <th>3</th>\n",
       "      <td>شكونك انتي كنقارنوك باخيب امرة اكرانية من ناحي...</td>\n",
       "      <td>ar</td>\n",
       "      <td>0.999998</td>\n",
       "    </tr>\n",
       "    <tr>\n",
       "      <th>4</th>\n",
       "      <td>خير من نوفل</td>\n",
       "      <td>ar</td>\n",
       "      <td>0.999997</td>\n",
       "    </tr>\n",
       "  </tbody>\n",
       "</table>\n",
       "</div>"
      ],
      "text/plain": [
       "                                            document language  probability\n",
       "0          مله مناظرامقلبه جابتهم هاثوره الكلبه تفوه       ar     0.999997\n",
       "1                                          وحدك لطفي       ar     0.999999\n",
       "2                      موزاييك اذاعة الفواحش اصلا هه       ar     0.999999\n",
       "3  شكونك انتي كنقارنوك باخيب امرة اكرانية من ناحي...       ar     0.999998\n",
       "4                                        خير من نوفل       ar     0.999997"
      ]
     },
     "execution_count": 55,
     "metadata": {},
     "output_type": "execute_result"
    }
   ],
   "source": [
    "# Let's put the results in a data frame for ease of manipulation\n",
    "\n",
    "def foo1(x):\n",
    "    u = str(x).split(':')\n",
    "    return [u[0],float(u[1])]\n",
    "L = [[small_corpus[i]]+foo1(x[0]) for i,x in enumerate(res_langdetect)]\n",
    "df = pd.DataFrame(L)\n",
    "df.columns = ['document', 'language','probability']\n",
    "df.head()"
   ]
  },
  {
   "cell_type": "markdown",
   "metadata": {},
   "source": [
    "### EXERCISE 3\n",
    "1. Plot the distribution of languages (call value_counts() on the ``language`` column of ``df``)\n",
    "2. Plot the histogram of probabilities (call plot(kind='hist') on the ``probability`` column of ``df``)\n",
    "3. What are the top 2 languages identified in this corpus?\n",
    "4. For what fraction of documents is this language identifier more than 80% confident in its decision? (i.e. probability > 0.8)"
   ]
  },
  {
   "cell_type": "markdown",
   "metadata": {},
   "source": [
    "ENTER YOUR ANSWERS BELOW\n",
    "\n",
    "...\n",
    "\n",
    "...\n"
   ]
  },
  {
   "cell_type": "code",
   "execution_count": 56,
   "metadata": {},
   "outputs": [
    {
     "data": {
      "text/plain": [
       "[<matplotlib.lines.Line2D at 0x18b8c4ed5c0>]"
      ]
     },
     "execution_count": 56,
     "metadata": {},
     "output_type": "execute_result"
    },
    {
     "data": {
      "image/png": "[encoded data removed]",
      "text/plain": [
       "<Figure size 432x288 with 1 Axes>"
      ]
     },
     "metadata": {
      "needs_background": "light"
     },
     "output_type": "display_data"
    }
   ],
   "source": [
    "## ENTER YOUR SOURCE CODE BELOW\n",
    "\n",
    "#1\n",
    "plt.plot(df.language.value_counts())\n",
    "\n"
   ]
  },
  {
   "cell_type": "code",
   "execution_count": 57,
   "metadata": {},
   "outputs": [
    {
     "data": {
      "text/plain": [
       "<matplotlib.axes._subplots.AxesSubplot at 0x18b8c4e1940>"
      ]
     },
     "execution_count": 57,
     "metadata": {},
     "output_type": "execute_result"
    },
    {
     "data": {
      "image/png": "[encoded data removed]",
      "text/plain": [
       "<Figure size 432x288 with 1 Axes>"
      ]
     },
     "metadata": {
      "needs_background": "light"
     },
     "output_type": "display_data"
    }
   ],
   "source": [
    "#2\n",
    "df.probability.plot(kind='hist')\n",
    "#3\n",
    "# the top 2 languages identified in this corpus are Arabe and farsi"
   ]
  },
  {
   "cell_type": "code",
   "execution_count": 58,
   "metadata": {},
   "outputs": [
    {
     "data": {
      "text/plain": [
       "0.9746"
      ]
     },
     "execution_count": 58,
     "metadata": {},
     "output_type": "execute_result"
    }
   ],
   "source": [
    "#4\n",
    "fraction=len([a for a in df.probability if a >0.8]) / len(df.probability)\n",
    "fraction"
   ]
  },
  {
   "cell_type": "markdown",
   "metadata": {},
   "source": [
    "### EXERCISE 4 (homework - skip this during class)\n",
    "\n",
    "1. Test both libraries (``langdetect`` and ``langid``) on the **entire** ``ara_corpus_clean`` corpus.\n",
    "2. Which library seems to be more accurate for the Arabic language? Justify based on visual inspection of the results.\n",
    "3. Design a new language identification method that combines both libraries -- basically just use the result corresponding to the higher probability.\n",
    "4. Is this new method more accurate than the individual methods? Again, justify your answer based on visual inspection of the results."
   ]
  },
  {
   "cell_type": "markdown",
   "metadata": {},
   "source": [
    "Responses:\n",
    "1."
   ]
  },
  {
   "cell_type": "code",
   "execution_count": 59,
   "metadata": {},
   "outputs": [],
   "source": [
    "# Select a small random sample of 5000 documents from the corpus\n",
    "n = 5000\n",
    "random_indices = np.random.choice(np.arange(len(ara_corpus_clean3)), n, replace=False)\n",
    "small_corpus_ara = [ara_corpus_clean[i] for i in random_indices]\n",
    "\n",
    "#langid\n",
    "res_langid_ara = []\n",
    "for doc in small_corpus_ara:\n",
    "    res_langid_ara.append(li.classify(doc))\n",
    "    \n",
    "#langdetect\n",
    "res_langdetect_ara = []\n",
    "\n",
    "for doc in small_corpus_ara:\n",
    "    try:\n",
    "        res_langdetect_ara.append(langdetect.detect_langs(doc))\n",
    "    except LangDetectException:\n",
    "        res_langdetect_ara.append([langdetect.language.Language(\"UNK\",0)])\n"
   ]
  },
  {
   "cell_type": "markdown",
   "metadata": {},
   "source": [
    "******"
   ]
  },
  {
   "cell_type": "markdown",
   "metadata": {},
   "source": [
    "2. According to the following results,Langdetect seems to be more accurate for the Arabic language because it has the highest mean. (0.99>0.98)"
   ]
  },
  {
   "cell_type": "code",
   "execution_count": 60,
   "metadata": {},
   "outputs": [
    {
     "data": {
      "text/html": [
       "<div>\n",
       "<style scoped>\n",
       "    .dataframe tbody tr th:only-of-type {\n",
       "        vertical-align: middle;\n",
       "    }\n",
       "\n",
       "    .dataframe tbody tr th {\n",
       "        vertical-align: top;\n",
       "    }\n",
       "\n",
       "    .dataframe thead th {\n",
       "        text-align: right;\n",
       "    }\n",
       "</style>\n",
       "<table border=\"1\" class=\"dataframe\">\n",
       "  <thead>\n",
       "    <tr style=\"text-align: right;\">\n",
       "      <th></th>\n",
       "      <th>probability</th>\n",
       "    </tr>\n",
       "  </thead>\n",
       "  <tbody>\n",
       "    <tr>\n",
       "      <th>count</th>\n",
       "      <td>5000.000000</td>\n",
       "    </tr>\n",
       "    <tr>\n",
       "      <th>mean</th>\n",
       "      <td>0.996687</td>\n",
       "    </tr>\n",
       "    <tr>\n",
       "      <th>std</th>\n",
       "      <td>0.033840</td>\n",
       "    </tr>\n",
       "    <tr>\n",
       "      <th>min</th>\n",
       "      <td>0.000000</td>\n",
       "    </tr>\n",
       "    <tr>\n",
       "      <th>25%</th>\n",
       "      <td>0.999997</td>\n",
       "    </tr>\n",
       "    <tr>\n",
       "      <th>50%</th>\n",
       "      <td>0.999998</td>\n",
       "    </tr>\n",
       "    <tr>\n",
       "      <th>75%</th>\n",
       "      <td>0.999999</td>\n",
       "    </tr>\n",
       "    <tr>\n",
       "      <th>max</th>\n",
       "      <td>1.000000</td>\n",
       "    </tr>\n",
       "  </tbody>\n",
       "</table>\n",
       "</div>"
      ],
      "text/plain": [
       "       probability\n",
       "count  5000.000000\n",
       "mean      0.996687\n",
       "std       0.033840\n",
       "min       0.000000\n",
       "25%       0.999997\n",
       "50%       0.999998\n",
       "75%       0.999999\n",
       "max       1.000000"
      ]
     },
     "execution_count": 60,
     "metadata": {},
     "output_type": "execute_result"
    }
   ],
   "source": [
    "L=[foo1(x[0]) for i,x in enumerate(res_langdetect_ara)]\n",
    "df = pd.DataFrame(L)\n",
    "df.columns = ['language','probability']\n",
    "df.head()\n",
    "df.describe()"
   ]
  },
  {
   "cell_type": "code",
   "execution_count": 61,
   "metadata": {},
   "outputs": [
    {
     "data": {
      "text/html": [
       "<div>\n",
       "<style scoped>\n",
       "    .dataframe tbody tr th:only-of-type {\n",
       "        vertical-align: middle;\n",
       "    }\n",
       "\n",
       "    .dataframe tbody tr th {\n",
       "        vertical-align: top;\n",
       "    }\n",
       "\n",
       "    .dataframe thead th {\n",
       "        text-align: right;\n",
       "    }\n",
       "</style>\n",
       "<table border=\"1\" class=\"dataframe\">\n",
       "  <thead>\n",
       "    <tr style=\"text-align: right;\">\n",
       "      <th></th>\n",
       "      <th>probability</th>\n",
       "    </tr>\n",
       "  </thead>\n",
       "  <tbody>\n",
       "    <tr>\n",
       "      <th>count</th>\n",
       "      <td>5000.000000</td>\n",
       "    </tr>\n",
       "    <tr>\n",
       "      <th>mean</th>\n",
       "      <td>0.989119</td>\n",
       "    </tr>\n",
       "    <tr>\n",
       "      <th>std</th>\n",
       "      <td>0.063323</td>\n",
       "    </tr>\n",
       "    <tr>\n",
       "      <th>min</th>\n",
       "      <td>0.169462</td>\n",
       "    </tr>\n",
       "    <tr>\n",
       "      <th>25%</th>\n",
       "      <td>1.000000</td>\n",
       "    </tr>\n",
       "    <tr>\n",
       "      <th>50%</th>\n",
       "      <td>1.000000</td>\n",
       "    </tr>\n",
       "    <tr>\n",
       "      <th>75%</th>\n",
       "      <td>1.000000</td>\n",
       "    </tr>\n",
       "    <tr>\n",
       "      <th>max</th>\n",
       "      <td>1.000000</td>\n",
       "    </tr>\n",
       "  </tbody>\n",
       "</table>\n",
       "</div>"
      ],
      "text/plain": [
       "       probability\n",
       "count  5000.000000\n",
       "mean      0.989119\n",
       "std       0.063323\n",
       "min       0.169462\n",
       "25%       1.000000\n",
       "50%       1.000000\n",
       "75%       1.000000\n",
       "max       1.000000"
      ]
     },
     "execution_count": 61,
     "metadata": {},
     "output_type": "execute_result"
    }
   ],
   "source": [
    "dfid = pd.DataFrame(res_langid_ara)\n",
    "dfid.columns = ['language', 'probability']\n",
    "dfid.head()\n",
    "dfid.describe()"
   ]
  },
  {
   "cell_type": "markdown",
   "metadata": {},
   "source": [
    "3. The new language identification method that combines both libraries is : "
   ]
  },
  {
   "cell_type": "code",
   "execution_count": 63,
   "metadata": {},
   "outputs": [
    {
     "data": {
      "text/plain": [
       "[['ar', 0.9999982480653715],\n",
       " ['ar', 1.0],\n",
       " ['ar', 0.9999999999997533],\n",
       " ['ar', 1.0],\n",
       " ['ar', 1.0],\n",
       " ['ar', 1.0],\n",
       " ['ar', 1.0],\n",
       " ['ar', 1.0],\n",
       " ['ar', 1.0],\n",
       " ['ar', 1.0],\n",
       " ['ar', 1.0],\n",
       " ['ar', 1.0],\n",
       " ['ar', 0.9999964200235134],\n",
       " ['ar', 1.0],\n",
       " ['ar', 1.0],\n",
       " ['ar', 1.0],\n",
       " ['ar', 0.9999999998681559],\n",
       " ['ar', 1.0],\n",
       " ['ar', 1.0],\n",
       " ['ar', 1.0],\n",
       " ['ar', 0.9999999991986095],\n",
       " ['ar', 1.0],\n",
       " ['ar', 1.0],\n",
       " ['ar', 1.0],\n",
       " ['ar', 0.9999999999992943],\n",
       " ['ar', 1.0],\n",
       " ['ar', 0.9999998291804134],\n",
       " ['ar', 1.0],\n",
       " ['ar', 0.9999989153293266],\n",
       " ['ar', 1.0],\n",
       " ['ar', 0.9999991988257696],\n",
       " ['ar', 1.0],\n",
       " ['ar', 0.9999999916325598],\n",
       " ['ar', 1.0],\n",
       " ['ar', 0.9999999999999996],\n",
       " ['ar', 1.0],\n",
       " ['ar', 1.0],\n",
       " ['ar', 1.0],\n",
       " ['ar', 0.9999999999999996],\n",
       " ['ar', 0.9999970581110003],\n",
       " ['ar', 1.0],\n",
       " ['ar', 0.9999999999999929],\n",
       " ['ar', 0.9999999999999765],\n",
       " ['ar', 1.0],\n",
       " ['ar', 1.0],\n",
       " ['ar', 0.9999999893449384],\n",
       " ['ar', 1.0],\n",
       " ['ar', 0.9999976673048858],\n",
       " ['ar', 1.0],\n",
       " ['ar', 0.9999999999999989],\n",
       " ['ar', 1.0],\n",
       " ['ar', 1.0],\n",
       " ['ar', 1.0],\n",
       " ['ar', 1.0],\n",
       " ['ar', 1.0],\n",
       " ['ar', 1.0],\n",
       " ['ar', 1.0],\n",
       " ['ar', 1.0],\n",
       " ['ar', 0.9999999998054088],\n",
       " ['ar', 1.0],\n",
       " ['ar', 1.0],\n",
       " ['ar', 1.0],\n",
       " ['ar', 1.0],\n",
       " ['ar', 1.0],\n",
       " ['ar', 1.0],\n",
       " ['ar', 0.9999999999999991],\n",
       " ['ar', 1.0],\n",
       " ['ar', 1.0],\n",
       " ['ar', 1.0],\n",
       " ['ar', 1.0],\n",
       " ['ar', 1.0],\n",
       " ['ar', 1.0],\n",
       " ['ar', 0.9999973014979634],\n",
       " ['ar', 0.9999967879181783],\n",
       " ['ar', 1.0],\n",
       " ['ar', 0.9999999998026288],\n",
       " ['ar', 1.0],\n",
       " ['ar', 1.0],\n",
       " ['ar', 1.0],\n",
       " ['ar', 0.9999967728616628],\n",
       " ['ar', 1.0],\n",
       " ['ar', 1.0],\n",
       " ['ar', 1.0],\n",
       " ['ar', 1.0],\n",
       " ['ar', 1.0],\n",
       " ['ar', 1.0],\n",
       " ['ar', 0.9999999999999989],\n",
       " ['ar', 1.0],\n",
       " ['ar', 0.9999999931363364],\n",
       " ['ar', 1.0],\n",
       " ['ar', 1.0],\n",
       " ['ar', 0.9999986343483855],\n",
       " ['ar', 1.0],\n",
       " ['ar', 0.999999484852669],\n",
       " ['ar', 1.0],\n",
       " ['ar', 0.9999979317487229],\n",
       " ['ar', 1.0],\n",
       " ['ar', 0.9999999999999998],\n",
       " ['ar', 1.0],\n",
       " ['ar', 0.7142839052052276],\n",
       " ['ar', 0.999998358003115],\n",
       " ['ar', 1.0],\n",
       " ['ar', 1.0],\n",
       " ['ar', 1.0],\n",
       " ['ar', 1.0],\n",
       " ['ar', 1.0],\n",
       " ['ar', 1.0],\n",
       " ['ar', 1.0],\n",
       " ['ar', 1.0],\n",
       " ['ar', 1.0],\n",
       " ['ar', 1.0],\n",
       " ['ar', 1.0],\n",
       " ['ar', 1.0],\n",
       " ['ar', 1.0],\n",
       " ['ar', 1.0],\n",
       " ['ar', 1.0],\n",
       " ['ar', 1.0],\n",
       " ['ar', 1.0],\n",
       " ['ar', 1.0],\n",
       " ['ar', 1.0],\n",
       " ['ar', 1.0],\n",
       " ['ar', 1.0],\n",
       " ['ar', 1.0],\n",
       " ['ar', 1.0],\n",
       " ['ar', 1.0],\n",
       " ['ar', 1.0],\n",
       " ['ar', 0.9999999999996756],\n",
       " ['ar', 1.0],\n",
       " ['ar', 1.0],\n",
       " ['ar', 1.0],\n",
       " ['fa', 0.8571423365291533],\n",
       " ['ar', 1.0],\n",
       " ['ar', 1.0],\n",
       " ['ur', 0.9999959669324426],\n",
       " ['ar', 1.0],\n",
       " ['ar', 1.0],\n",
       " ['ar', 1.0],\n",
       " ['ar', 1.0],\n",
       " ['ar', 1.0],\n",
       " ['ar', 1.0],\n",
       " ['ar', 0.9999953985532402],\n",
       " ['ar', 1.0],\n",
       " ['ar', 0.9999999944888964],\n",
       " ['ar', 1.0],\n",
       " ['ar', 0.9999975962359011],\n",
       " ['ar', 1.0],\n",
       " ['ar', 1.0],\n",
       " ['ar', 1.0],\n",
       " ['ar', 1.0],\n",
       " ['ar', 0.9999955461416649],\n",
       " ['ar', 1.0],\n",
       " ['ar', 1.0],\n",
       " ['ar', 1.0],\n",
       " ['ar', 1.0],\n",
       " ['ar', 0.9999999441019807],\n",
       " ['ar', 1.0],\n",
       " ['ar', 1.0],\n",
       " ['ar', 1.0],\n",
       " ['ar', 1.0],\n",
       " ['fa', 0.8571397860640332],\n",
       " ['ar', 0.9999993265741095],\n",
       " ['ar', 0.9999999182477803],\n",
       " ['ar', 1.0],\n",
       " ['ar', 1.0],\n",
       " ['ar', 1.0],\n",
       " ['ar', 1.0],\n",
       " ['ar', 1.0],\n",
       " ['ar', 1.0],\n",
       " ['ar', 1.0],\n",
       " ['ar', 0.9999991196013815],\n",
       " ['ar', 1.0],\n",
       " ['ar', 0.9999964587514861],\n",
       " ['ar', 1.0],\n",
       " ['ar', 1.0],\n",
       " ['ar', 1.0],\n",
       " ['ar', 0.9999985581833892],\n",
       " ['ar', 1.0],\n",
       " ['ar', 1.0],\n",
       " ['ar', 1.0],\n",
       " ['ar', 0.9999982121114007],\n",
       " ['ar', 1.0],\n",
       " ['ar', 0.999999999778924],\n",
       " ['ar', 1.0],\n",
       " ['ar', 1.0],\n",
       " ['ar', 1.0],\n",
       " ['ar', 0.9999999999910454],\n",
       " ['ar', 1.0],\n",
       " ['ar', 0.9999994114201711],\n",
       " ['ar', 1.0],\n",
       " ['ar', 1.0],\n",
       " ['ar', 1.0],\n",
       " ['ar', 1.0],\n",
       " ['ar', 1.0],\n",
       " ['ar', 1.0],\n",
       " ['ar', 1.0],\n",
       " ['ar', 1.0],\n",
       " ['ar', 1.0],\n",
       " ['ar', 1.0],\n",
       " ['ar', 1.0],\n",
       " ['ar', 1.0],\n",
       " ['ar', 0.9999999427673989],\n",
       " ['ar', 1.0],\n",
       " ['ar', 1.0],\n",
       " ['ar', 1.0],\n",
       " ['ar', 0.9999967042272285],\n",
       " ['ar', 0.9999963892992476],\n",
       " ['zh', 1.0],\n",
       " ['ar', 0.9999974751144731],\n",
       " ['ar', 1.0],\n",
       " ['ar', 1.0],\n",
       " ['ar', 1.0],\n",
       " ['ar', 1.0],\n",
       " ['ar', 1.0],\n",
       " ['ar', 0.9999999995617823],\n",
       " ['ar', 1.0],\n",
       " ['ar', 1.0],\n",
       " ['ar', 1.0],\n",
       " ['ar', 0.9999971008926138],\n",
       " ['ar', 1.0],\n",
       " ['ar', 1.0],\n",
       " ['ar', 0.9999980060124491],\n",
       " ['ar', 1.0],\n",
       " ['ps', 0.7735749992083818],\n",
       " ['ar', 1.0],\n",
       " ['ar', 1.0],\n",
       " ['ar', 1.0],\n",
       " ['ar', 0.999999997891823],\n",
       " ['ar', 1.0],\n",
       " ['ar', 1.0],\n",
       " ['ar', 0.9999999999998894],\n",
       " ['ar', 0.9999988479780341],\n",
       " ['ar', 1.0],\n",
       " ['ar', 1.0],\n",
       " ['ar', 1.0],\n",
       " ['ar', 1.0],\n",
       " ['ar', 1.0],\n",
       " ['ar', 1.0],\n",
       " ['ar', 1.0],\n",
       " ['ar', 1.0],\n",
       " ['ar', 1.0],\n",
       " ['ar', 1.0],\n",
       " ['ar', 1.0],\n",
       " ['ar', 1.0],\n",
       " ['ar', 0.9999139973398471],\n",
       " ['ar', 1.0],\n",
       " ['ar', 1.0],\n",
       " ['ar', 0.9999976531479611],\n",
       " ['ar', 1.0],\n",
       " ['ar', 1.0],\n",
       " ['ar', 1.0],\n",
       " ['ar', 1.0],\n",
       " ['ar', 1.0],\n",
       " ['ar', 0.9999979546519425],\n",
       " ['ar', 1.0],\n",
       " ['ar', 1.0],\n",
       " ['ar', 1.0],\n",
       " ['ar', 0.9999999797059995],\n",
       " ['ar', 0.9999999999999192],\n",
       " ['ar', 1.0],\n",
       " ['ar', 1.0],\n",
       " ['ar', 0.9999999984761212],\n",
       " ['ar', 1.0],\n",
       " ['ar', 0.9999999999995595],\n",
       " ['ar', 1.0],\n",
       " ['ar', 1.0],\n",
       " ['ar', 1.0],\n",
       " ['ar', 0.9999999999953701],\n",
       " ['ar', 1.0],\n",
       " ['ar', 1.0],\n",
       " ['ar', 1.0],\n",
       " ['ar', 0.999999999998914],\n",
       " ['ar', 1.0],\n",
       " ['ar', 1.0],\n",
       " ['ar', 1.0],\n",
       " ['ar', 1.0],\n",
       " ['ar', 1.0],\n",
       " ['ar', 0.9999974003775073],\n",
       " ['ar', 1.0],\n",
       " ['ar', 1.0],\n",
       " ['ar', 1.0],\n",
       " ['ar', 1.0],\n",
       " ['ar', 0.9999977297375794],\n",
       " ['ar', 1.0],\n",
       " ['ar', 1.0],\n",
       " ['ar', 0.9999988946794753],\n",
       " ['ar', 1.0],\n",
       " ['ar', 1.0],\n",
       " ['ar', 0.9999996807804048],\n",
       " ['ar', 0.9999978254180324],\n",
       " ['ar', 1.0],\n",
       " ['ar', 1.0],\n",
       " ['ar', 0.9999999999971774],\n",
       " ['ar', 0.9999999998315017],\n",
       " ['ar', 1.0],\n",
       " ['ar', 0.9307376208108429],\n",
       " ['ar', 1.0],\n",
       " ['ar', 1.0],\n",
       " ['ar', 0.9999999999997187],\n",
       " ['ar', 1.0],\n",
       " ['ar', 1.0],\n",
       " ['ar', 1.0],\n",
       " ['ar', 1.0],\n",
       " ['ar', 0.9999979786842036],\n",
       " ['ar', 1.0],\n",
       " ['ar', 1.0],\n",
       " ['ar', 1.0],\n",
       " ['ar', 0.9999980069635593],\n",
       " ['ar', 1.0],\n",
       " ['ar', 1.0],\n",
       " ['ar', 1.0],\n",
       " ['ar', 0.9999999054812994],\n",
       " ['ar', 1.0],\n",
       " ['ar', 0.9999993233586204],\n",
       " ['ar', 0.9999999803274783],\n",
       " ['ar', 1.0],\n",
       " ['ar', 1.0],\n",
       " ['ar', 0.9999972607362405],\n",
       " ['ar', 1.0],\n",
       " ['ar', 1.0],\n",
       " ['ar', 1.0],\n",
       " ['ar', 1.0],\n",
       " ['ar', 0.9999984983090693],\n",
       " ['ar', 1.0],\n",
       " ['ar', 1.0],\n",
       " ['ar', 1.0],\n",
       " ['ar', 0.9999955740438607],\n",
       " ['ar', 0.9999980890300383],\n",
       " ['ar', 1.0],\n",
       " ['ar', 1.0],\n",
       " ['ar', 1.0],\n",
       " ['ar', 0.9999999999999984],\n",
       " ['ar', 1.0],\n",
       " ['ar', 1.0],\n",
       " ['ar', 1.0],\n",
       " ['ar', 1.0],\n",
       " ['ar', 1.0],\n",
       " ['ar', 1.0],\n",
       " ['ar', 0.9999999999976186],\n",
       " ['ar', 0.9999999999676692],\n",
       " ['ar', 1.0],\n",
       " ['ar', 0.9999999985621228],\n",
       " ['ar', 0.9999985501285619],\n",
       " ['ar', 1.0],\n",
       " ['ar', 0.9999978349583715],\n",
       " ['ar', 1.0],\n",
       " ['ar', 1.0],\n",
       " ['ar', 1.0],\n",
       " ['ar', 1.0],\n",
       " ['ar', 1.0],\n",
       " ['ar', 0.9999999999999984],\n",
       " ['ar', 1.0],\n",
       " ['ar', 1.0],\n",
       " ['ar', 1.0],\n",
       " ['ar', 1.0],\n",
       " ['ar', 1.0],\n",
       " ['ar', 1.0],\n",
       " ['ar', 1.0],\n",
       " ['fa', 0.9999989590672005],\n",
       " ['ar', 1.0],\n",
       " ['ar', 1.0],\n",
       " ['ar', 1.0],\n",
       " ['ar', 1.0],\n",
       " ['ar', 1.0],\n",
       " ['ar', 1.0],\n",
       " ['ar', 1.0],\n",
       " ['ar', 1.0],\n",
       " ['ar', 1.0],\n",
       " ['ar', 0.9999997226490568],\n",
       " ['ar', 1.0],\n",
       " ['ar', 1.0],\n",
       " ['ar', 1.0],\n",
       " ['ar', 1.0],\n",
       " ['ar', 0.9999999996286268],\n",
       " ['ar', 0.9999999999974625],\n",
       " ['ar', 0.9999999995999702],\n",
       " ['ar', 1.0],\n",
       " ['ar', 1.0],\n",
       " ['ar', 0.9999999999999987],\n",
       " ['ar', 0.999999998012715],\n",
       " ['ar', 1.0],\n",
       " ['en', 0.9999963753119117],\n",
       " ['ar', 0.9999999875943036],\n",
       " ['ar', 0.9999999995444222],\n",
       " ['ar', 1.0],\n",
       " ['ar', 1.0],\n",
       " ['ar', 0.9999986943450858],\n",
       " ['ar', 0.9999998492795684],\n",
       " ['ar', 1.0],\n",
       " ['ar', 1.0],\n",
       " ['ar', 1.0],\n",
       " ['ar', 0.9999999999999956],\n",
       " ['en', 1.0],\n",
       " ['ar', 1.0],\n",
       " ['ar', 1.0],\n",
       " ['ar', 1.0],\n",
       " ['ar', 0.9999974351059703],\n",
       " ['ar', 1.0],\n",
       " ['ar', 1.0],\n",
       " ['ar', 1.0],\n",
       " ['ar', 1.0],\n",
       " ['ar', 1.0],\n",
       " ['ar', 1.0],\n",
       " ['ar', 1.0],\n",
       " ['ar', 0.9999963462656112],\n",
       " ['ar', 1.0],\n",
       " ['ar', 1.0],\n",
       " ['ar', 1.0],\n",
       " ['ar', 1.0],\n",
       " ['ar', 1.0],\n",
       " ['ar', 1.0],\n",
       " ['ar', 0.9999944216672523],\n",
       " ['ar', 1.0],\n",
       " ['ar', 0.9999999993581847],\n",
       " ['ar', 1.0],\n",
       " ['ar', 0.9999963831874041],\n",
       " ['ar', 1.0],\n",
       " ['ar', 0.9999999999995997],\n",
       " ['ar', 1.0],\n",
       " ['ar', 1.0],\n",
       " ['ar', 1.0],\n",
       " ['ar', 1.0],\n",
       " ['ar', 1.0],\n",
       " ['ar', 0.9999999999999973],\n",
       " ['ar', 1.0],\n",
       " ['ar', 0.9999985858309061],\n",
       " ['ar', 0.9999999999952092],\n",
       " ['ar', 1.0],\n",
       " ['ar', 0.9999999999999969],\n",
       " ['ar', 1.0],\n",
       " ['ar', 1.0],\n",
       " ['ar', 1.0],\n",
       " ['ar', 0.9999999999991818],\n",
       " ['ar', 1.0],\n",
       " ['ar', 0.9999999999999984],\n",
       " ['ar', 1.0],\n",
       " ['ar', 1.0],\n",
       " ['ar', 1.0],\n",
       " ['ar', 1.0],\n",
       " ['ar', 1.0],\n",
       " ['ar', 0.9999988028721748],\n",
       " ['ar', 1.0],\n",
       " ['ar', 1.0],\n",
       " ['ar', 1.0],\n",
       " ['ar', 1.0],\n",
       " ['ar', 1.0],\n",
       " ['ar', 1.0],\n",
       " ['ar', 1.0],\n",
       " ['fa', 0.9999999999521523],\n",
       " ['ar', 1.0],\n",
       " ['ar', 1.0],\n",
       " ['ar', 1.0],\n",
       " ['ar', 1.0],\n",
       " ['ar', 1.0],\n",
       " ['ar', 0.9999999999998253],\n",
       " ['ar', 0.9999997632053282],\n",
       " ['ar', 1.0],\n",
       " ['ar', 0.9999999999994125],\n",
       " ['ar', 0.9999999999995657],\n",
       " ['ar', 1.0],\n",
       " ['ar', 1.0],\n",
       " ['ar', 0.999999989765996],\n",
       " ['ar', 1.0],\n",
       " ['ar', 0.9999969837496754],\n",
       " ['ar', 1.0],\n",
       " ['ar', 1.0],\n",
       " ['ar', 1.0],\n",
       " ['ar', 0.9999999999997906],\n",
       " ['ar', 1.0],\n",
       " ['ar', 1.0],\n",
       " ['ar', 0.9999988967647703],\n",
       " ['ar', 1.0],\n",
       " ['en', 0.9955163413692784],\n",
       " ['ar', 1.0],\n",
       " ['ar', 1.0],\n",
       " ['ar', 0.9999966085054706],\n",
       " ['ar', 1.0],\n",
       " ['ar', 1.0],\n",
       " ['ar', 1.0],\n",
       " ['ar', 0.9999999999695182],\n",
       " ['ar', 1.0],\n",
       " ['ar', 0.9999992663133248],\n",
       " ['ar', 1.0],\n",
       " ['ar', 0.9999974275756647],\n",
       " ['so', 0.9999983624504234],\n",
       " ['ar', 0.9999979527800309],\n",
       " ['ar', 0.9999973316233092],\n",
       " ['ar', 1.0],\n",
       " ['ar', 0.9999999999999993],\n",
       " ['ar', 0.9999941635909935],\n",
       " ['ar', 1.0],\n",
       " ['ar', 1.0],\n",
       " ['ar', 1.0],\n",
       " ['ar', 0.9999999997691045],\n",
       " ['ar', 1.0],\n",
       " ['ar', 1.0],\n",
       " ['ar', 0.9999970320841493],\n",
       " ['ar', 1.0],\n",
       " ['ar', 1.0],\n",
       " ['ar', 1.0],\n",
       " ['ar', 0.9999999656830897],\n",
       " ['ar', 1.0],\n",
       " ['ar', 1.0],\n",
       " ['ar', 1.0],\n",
       " ['ar', 0.9999981563623465],\n",
       " ['ar', 1.0],\n",
       " ['ar', 0.9999999999999984],\n",
       " ['ar', 1.0],\n",
       " ['ar', 0.999999993037239],\n",
       " ['ar', 1.0],\n",
       " ['ar', 1.0],\n",
       " ['ar', 1.0],\n",
       " ['ar', 1.0],\n",
       " ['ar', 1.0],\n",
       " ['ar', 0.8571403109009033],\n",
       " ['ar', 1.0],\n",
       " ['ar', 0.9999964329730323],\n",
       " ['ar', 1.0],\n",
       " ['ar', 1.0],\n",
       " ['ar', 1.0],\n",
       " ['ar', 1.0],\n",
       " ['ar', 1.0],\n",
       " ['ar', 1.0],\n",
       " ['ar', 0.999996338068353],\n",
       " ['ar', 1.0],\n",
       " ['ar', 1.0],\n",
       " ['ar', 1.0],\n",
       " ['ar', 1.0],\n",
       " ['ar', 1.0],\n",
       " ['ar', 1.0],\n",
       " ['ar', 1.0],\n",
       " ['ar', 0.9999999999411213],\n",
       " ['ar', 1.0],\n",
       " ['ar', 1.0],\n",
       " ['ar', 1.0],\n",
       " ['ar', 1.0],\n",
       " ['ar', 1.0],\n",
       " ['ar', 0.9999991405663732],\n",
       " ['ar', 1.0],\n",
       " ['ar', 0.9999999992553026],\n",
       " ['ar', 1.0],\n",
       " ['ar', 1.0],\n",
       " ['ar', 0.9999982217152927],\n",
       " ['ar', 1.0],\n",
       " ['ar', 1.0],\n",
       " ['ar', 1.0],\n",
       " ['ar', 0.9999963258501993],\n",
       " ['ar', 1.0],\n",
       " ['ar', 1.0],\n",
       " ['ar', 1.0],\n",
       " ['ar', 0.9999999999999687],\n",
       " ['ar', 0.9999999979358409],\n",
       " ['ar', 1.0],\n",
       " ['ar', 0.9999999998887996],\n",
       " ['ar', 1.0],\n",
       " ['ar', 0.9999999997538418],\n",
       " ['ar', 1.0],\n",
       " ['ar', 1.0],\n",
       " ['ar', 1.0],\n",
       " ['ar', 1.0],\n",
       " ['ar', 1.0],\n",
       " ['ar', 1.0],\n",
       " ['ar', 1.0],\n",
       " ['ar', 0.9999989929778812],\n",
       " ['ar', 1.0],\n",
       " ['ar', 0.9999999904599549],\n",
       " ['ar', 1.0],\n",
       " ['ar', 1.0],\n",
       " ['ar', 0.9999999999999998],\n",
       " ['ar', 1.0],\n",
       " ['ar', 1.0],\n",
       " ['ar', 0.9999969251189909],\n",
       " ['ar', 1.0],\n",
       " ['ar', 1.0],\n",
       " ['ar', 1.0],\n",
       " ['ar', 0.9999986271310153],\n",
       " ['ar', 1.0],\n",
       " ['ar', 1.0],\n",
       " ['ar', 1.0],\n",
       " ['ar', 1.0],\n",
       " ['ar', 1.0],\n",
       " ['ar', 1.0],\n",
       " ['ar', 1.0],\n",
       " ['ar', 1.0],\n",
       " ['ar', 1.0],\n",
       " ['ar', 0.9999999999630278],\n",
       " ['ar', 1.0],\n",
       " ['ar', 1.0],\n",
       " ['ar', 1.0],\n",
       " ['ar', 1.0],\n",
       " ['ar', 1.0],\n",
       " ['ar', 1.0],\n",
       " ['ar', 1.0],\n",
       " ['ar', 1.0],\n",
       " ['ar', 0.9999992825029058],\n",
       " ['ar', 1.0],\n",
       " ['ar', 1.0],\n",
       " ['ar', 1.0],\n",
       " ['ar', 1.0],\n",
       " ['ar', 0.9999999999999751],\n",
       " ['ar', 0.9999976782521712],\n",
       " ['ar', 1.0],\n",
       " ['ar', 1.0],\n",
       " ['ar', 1.0],\n",
       " ['ar', 1.0],\n",
       " ['ar', 1.0],\n",
       " ['ar', 0.9999999999999538],\n",
       " ['ar', 1.0],\n",
       " ['ar', 1.0],\n",
       " ['ar', 1.0],\n",
       " ['ar', 1.0],\n",
       " ['ar', 1.0],\n",
       " ['ar', 1.0],\n",
       " ['ar', 1.0],\n",
       " ['ar', 1.0],\n",
       " ['ar', 0.9999999999999649],\n",
       " ['ar', 0.9999974286869011],\n",
       " ['ar', 0.9999999999999865],\n",
       " ['ar', 1.0],\n",
       " ['ar', 1.0],\n",
       " ['ar', 1.0],\n",
       " ['ar', 0.9999983368901866],\n",
       " ['ar', 1.0],\n",
       " ['ar', 0.9999943221916923],\n",
       " ['ar', 1.0],\n",
       " ['fa', 0.9999958986764991],\n",
       " ['ar', 1.0],\n",
       " ['ar', 1.0],\n",
       " ['ar', 1.0],\n",
       " ['ar', 1.0],\n",
       " ['ar', 0.999997174468326],\n",
       " ['ar', 1.0],\n",
       " ['ar', 0.9999999997977402],\n",
       " ['ar', 0.9999999864146059],\n",
       " ['ar', 1.0],\n",
       " ['ar', 0.999999131496313],\n",
       " ['ar', 1.0],\n",
       " ['ar', 1.0],\n",
       " ['ar', 1.0],\n",
       " ['ar', 1.0],\n",
       " ['ar', 1.0],\n",
       " ['ar', 0.9999973878250976],\n",
       " ['ar', 1.0],\n",
       " ['ar', 0.9999984626769711],\n",
       " ['ar', 1.0],\n",
       " ['ar', 0.999999999999994],\n",
       " ['ar', 1.0],\n",
       " ['ar', 1.0],\n",
       " ['ar', 1.0],\n",
       " ['ar', 1.0],\n",
       " ['ar', 1.0],\n",
       " ['ar', 1.0],\n",
       " ['ar', 1.0],\n",
       " ['ar', 1.0],\n",
       " ['ar', 0.9999999999826219],\n",
       " ['ar', 1.0],\n",
       " ['ar', 1.0],\n",
       " ['ar', 0.9999969791385556],\n",
       " ['ar', 1.0],\n",
       " ['ar', 1.0],\n",
       " ['ar', 1.0],\n",
       " ['ar', 1.0],\n",
       " ['ar', 0.9999989142693917],\n",
       " ['ar', 1.0],\n",
       " ['ar', 1.0],\n",
       " ['ar', 1.0],\n",
       " ['ar', 1.0],\n",
       " ['ar', 1.0],\n",
       " ['ar', 1.0],\n",
       " ['ar', 0.9999999999999993],\n",
       " ['ar', 0.9999999906721947],\n",
       " ['ar', 1.0],\n",
       " ['ar', 1.0],\n",
       " ['ar', 1.0],\n",
       " ['ar', 1.0],\n",
       " ['ar', 1.0],\n",
       " ['ar', 1.0],\n",
       " ['ar', 1.0],\n",
       " ['ar', 1.0],\n",
       " ['ar', 1.0],\n",
       " ['ar', 1.0],\n",
       " ['ar', 1.0],\n",
       " ['ar', 1.0],\n",
       " ['ar', 1.0],\n",
       " ['ar', 1.0],\n",
       " ['fa', 0.9999999658846022],\n",
       " ['ar', 1.0],\n",
       " ['ar', 1.0],\n",
       " ['ar', 1.0],\n",
       " ['ar', 0.9999991876912679],\n",
       " ['ar', 1.0],\n",
       " ['ar', 0.7323689071419774],\n",
       " ['ar', 1.0],\n",
       " ['ar', 1.0],\n",
       " ['ar', 1.0],\n",
       " ['ar', 1.0],\n",
       " ['ar', 1.0],\n",
       " ['ar', 0.9999966969736761],\n",
       " ['ar', 0.9471239060024315],\n",
       " ['ar', 1.0],\n",
       " ['ar', 1.0],\n",
       " ['ar', 1.0],\n",
       " ['ar', 1.0],\n",
       " ['ar', 1.0],\n",
       " ['ar', 1.0],\n",
       " ['ar', 0.9999976201395304],\n",
       " ['ar', 1.0],\n",
       " ['ar', 0.999997718109362],\n",
       " ['ar', 1.0],\n",
       " ['ar', 1.0],\n",
       " ['ar', 1.0],\n",
       " ['ar', 0.9999993440911916],\n",
       " ['ar', 0.9999999986590962],\n",
       " ['ar', 0.9999969577057272],\n",
       " ['ar', 1.0],\n",
       " ['ar', 1.0],\n",
       " ['fa', 0.9905646117237656],\n",
       " ['ar', 1.0],\n",
       " ['ar', 1.0],\n",
       " ['ar', 0.999997487958517],\n",
       " ['ar', 1.0],\n",
       " ['ar', 1.0],\n",
       " ['ar', 1.0],\n",
       " ['ar', 0.9999975277468676],\n",
       " ['ar', 1.0],\n",
       " ['ar', 1.0],\n",
       " ['ar', 1.0],\n",
       " ['ar', 1.0],\n",
       " ['ar', 1.0],\n",
       " ['ar', 1.0],\n",
       " ['ar', 1.0],\n",
       " ['ar', 0.9999999999999045],\n",
       " ['ar', 0.9999999998722431],\n",
       " ['ar', 1.0],\n",
       " ['ar', 1.0],\n",
       " ['ar', 1.0],\n",
       " ['ar', 1.0],\n",
       " ['ar', 1.0],\n",
       " ['ar', 1.0],\n",
       " ['ar', 1.0],\n",
       " ['ar', 1.0],\n",
       " ['ar', 1.0],\n",
       " ['ar', 1.0],\n",
       " ['ar', 1.0],\n",
       " ['ar', 1.0],\n",
       " ['ar', 0.9999999999999998],\n",
       " ['ar', 1.0],\n",
       " ['ar', 1.0],\n",
       " ['ar', 1.0],\n",
       " ['ar', 1.0],\n",
       " ['ar', 1.0],\n",
       " ['ar', 0.9999999999981986],\n",
       " ['ar', 1.0],\n",
       " ['ar', 1.0],\n",
       " ['ar', 1.0],\n",
       " ['ar', 1.0],\n",
       " ['fa', 0.9999986545860622],\n",
       " ['ar', 1.0],\n",
       " ['ar', 0.9999999999983495],\n",
       " ['ar', 1.0],\n",
       " ['ar', 1.0],\n",
       " ['ar', 1.0],\n",
       " ['ar', 1.0],\n",
       " ['ar', 1.0],\n",
       " ['ar', 1.0],\n",
       " ['ar', 0.9999967374608755],\n",
       " ['ar', 1.0],\n",
       " ['ar', 0.9999985616659419],\n",
       " ['ar', 1.0],\n",
       " ['ar', 1.0],\n",
       " ['ar', 0.9999999999750235],\n",
       " ['ar', 1.0],\n",
       " ['ar', 1.0],\n",
       " ['ar', 1.0],\n",
       " ['ar', 0.9999999999998583],\n",
       " ['ar', 1.0],\n",
       " ['ar', 1.0],\n",
       " ['ar', 0.9999999997335589],\n",
       " ['ar', 1.0],\n",
       " ['ar', 1.0],\n",
       " ['ar', 1.0],\n",
       " ['ar', 1.0],\n",
       " ['ar', 1.0],\n",
       " ['ar', 0.9999988033301085],\n",
       " ['ar', 1.0],\n",
       " ['ar', 1.0],\n",
       " ['ar', 1.0],\n",
       " ['ar', 1.0],\n",
       " ['ar', 1.0],\n",
       " ['ar', 0.9999999999973528],\n",
       " ['ar', 1.0],\n",
       " ['ar', 1.0],\n",
       " ['ar', 1.0],\n",
       " ['ar', 1.0],\n",
       " ['ar', 1.0],\n",
       " ['ar', 1.0],\n",
       " ['ar', 0.9999986798078284],\n",
       " ['ar', 1.0],\n",
       " ['ar', 0.9999999999032485],\n",
       " ['ar', 1.0],\n",
       " ['fa', 0.9999894848643572],\n",
       " ['ar', 1.0],\n",
       " ['ar', 1.0],\n",
       " ['ar', 0.9999999997432771],\n",
       " ['ar', 0.9999968716949357],\n",
       " ['ar', 1.0],\n",
       " ['ar', 1.0],\n",
       " ['ar', 1.0],\n",
       " ['ar', 1.0],\n",
       " ['ar', 1.0],\n",
       " ['ar', 1.0],\n",
       " ['ar', 0.999994456614621],\n",
       " ['ar', 1.0],\n",
       " ['ar', 1.0],\n",
       " ['ar', 0.9999999999997791],\n",
       " ['ar', 1.0],\n",
       " ['ar', 0.9999979351560104],\n",
       " ['ar', 1.0],\n",
       " ['ar', 1.0],\n",
       " ['en', 0.9999999999860438],\n",
       " ['ar', 1.0],\n",
       " ['ar', 0.9999995376592387],\n",
       " ['ar', 0.9999999987454051],\n",
       " ['ar', 1.0],\n",
       " ['ar', 1.0],\n",
       " ['ar', 0.9999999995947402],\n",
       " ['ar', 0.9999973268417927],\n",
       " ['ar', 1.0],\n",
       " ['ar', 0.9999973577203456],\n",
       " ['ar', 1.0],\n",
       " ['ar', 1.0],\n",
       " ['ar', 1.0],\n",
       " ['ar', 1.0],\n",
       " ['ar', 1.0],\n",
       " ['ar', 1.0],\n",
       " ['ar', 0.9999999999999967],\n",
       " ['ar', 0.9999977635562562],\n",
       " ['ar', 1.0],\n",
       " ['ar', 0.9999999995479052],\n",
       " ['ar', 1.0],\n",
       " ['ar', 0.9999999999989113],\n",
       " ['ar', 0.9999999998018871],\n",
       " ['ar', 0.9999972562767178],\n",
       " ['ar', 1.0],\n",
       " ['ar', 1.0],\n",
       " ['ar', 1.0],\n",
       " ['ar', 1.0],\n",
       " ['ar', 1.0],\n",
       " ['ar', 0.999999999998374],\n",
       " ['ar', 1.0],\n",
       " ['ar', 1.0],\n",
       " ['ar', 1.0],\n",
       " ['ar', 1.0],\n",
       " ['ar', 1.0],\n",
       " ['ar', 0.9999999960640964],\n",
       " ['ar', 1.0],\n",
       " ['ar', 1.0],\n",
       " ['ar', 1.0],\n",
       " ['ar', 1.0],\n",
       " ['ar', 0.9999953599697422],\n",
       " ['ar', 0.9999977595246263],\n",
       " ['ar', 1.0],\n",
       " ['ar', 1.0],\n",
       " ['ar', 1.0],\n",
       " ['ar', 0.9999999999303819],\n",
       " ['ar', 1.0],\n",
       " ['ar', 0.9999998054308027],\n",
       " ['ur', 0.999996904908961],\n",
       " ['ar', 1.0],\n",
       " ['ar', 1.0],\n",
       " ['ar', 1.0],\n",
       " ['ar', 1.0],\n",
       " ['ar', 1.0],\n",
       " ['ar', 0.9999999999983151],\n",
       " ['ar', 1.0],\n",
       " ['ar', 1.0],\n",
       " ['ar', 1.0],\n",
       " ['ar', 1.0],\n",
       " ['ar', 1.0],\n",
       " ['ar', 1.0],\n",
       " ['ar', 1.0],\n",
       " ['ar', 1.0],\n",
       " ['ar', 0.9999999992496351],\n",
       " ['ar', 1.0],\n",
       " ['ar', 1.0],\n",
       " ['ar', 1.0],\n",
       " ['ar', 1.0],\n",
       " ['ar', 1.0],\n",
       " ['ar', 1.0],\n",
       " ['ar', 1.0],\n",
       " ['ar', 1.0],\n",
       " ['ar', 1.0],\n",
       " ['ar', 0.9999982426811919],\n",
       " ['ar', 1.0],\n",
       " ['ar', 1.0],\n",
       " ['ar', 1.0],\n",
       " ['ar', 1.0],\n",
       " ['ar', 1.0],\n",
       " ['ar', 1.0],\n",
       " ['ar', 1.0],\n",
       " ['fa', 0.999997702932793],\n",
       " ['ar', 1.0],\n",
       " ['ar', 1.0],\n",
       " ['ar', 1.0],\n",
       " ['ar', 1.0],\n",
       " ['ar', 1.0],\n",
       " ['ar', 1.0],\n",
       " ['ar', 0.9999999999847864],\n",
       " ['ar', 0.9999999999999893],\n",
       " ['ar', 1.0],\n",
       " ['ar', 0.9999999999999984],\n",
       " ['ar', 0.999999999999835],\n",
       " ['ar', 1.0],\n",
       " ['ar', 1.0],\n",
       " ['ar', 1.0],\n",
       " ['ar', 1.0],\n",
       " ['ar', 0.9993637685521122],\n",
       " ['ar', 0.8571397978642441],\n",
       " ['ar', 1.0],\n",
       " ['ar', 1.0],\n",
       " ['ar', 1.0],\n",
       " ['ar', 1.0],\n",
       " ['ar', 0.9999999999999996],\n",
       " ['ar', 0.9999999999999996],\n",
       " ['ar', 0.9999957712772412],\n",
       " ['ar', 1.0],\n",
       " ['ar', 1.0],\n",
       " ['ar', 1.0],\n",
       " ['ar', 0.9999999673848894],\n",
       " ['ar', 0.9999999190008925],\n",
       " ['ar', 1.0],\n",
       " ['ar', 1.0],\n",
       " ['ar', 0.9999970172317741],\n",
       " ['ar', 0.9999999999590694],\n",
       " ['ar', 1.0],\n",
       " ['ar', 1.0],\n",
       " ['ar', 1.0],\n",
       " ['ar', 1.0],\n",
       " ['ar', 1.0],\n",
       " ['ar', 1.0],\n",
       " ['ar', 1.0],\n",
       " ['ar', 1.0],\n",
       " ['ar', 1.0],\n",
       " ['ar', 1.0],\n",
       " ['ar', 1.0],\n",
       " ['ar', 1.0],\n",
       " ['ar', 1.0],\n",
       " ['ar', 1.0],\n",
       " ['ar', 1.0],\n",
       " ['ar', 1.0],\n",
       " ['ar', 1.0],\n",
       " ['ar', 1.0],\n",
       " ['ar', 0.9999999999991438],\n",
       " ['ar', 1.0],\n",
       " ['ar', 1.0],\n",
       " ['ar', 1.0],\n",
       " ['ar', 1.0],\n",
       " ['ar', 1.0],\n",
       " ['ar', 1.0],\n",
       " ['ur', 0.9999968110739934],\n",
       " ['ar', 0.9999999999999849],\n",
       " ['ar', 1.0],\n",
       " ['ar', 1.0],\n",
       " ['ar', 1.0],\n",
       " ['ar', 1.0],\n",
       " ['ar', 1.0],\n",
       " ['ar', 0.9999966326439114],\n",
       " ['ar', 1.0],\n",
       " ['ar', 1.0],\n",
       " ['ar', 0.9999999999999998],\n",
       " ['ar', 1.0],\n",
       " ['ar', 0.9999973520106915],\n",
       " ['ar', 1.0],\n",
       " ['ar', 1.0],\n",
       " ['ar', 1.0],\n",
       " ['ar', 1.0],\n",
       " ['ar', 0.9999977037357773],\n",
       " ['ar', 1.0],\n",
       " ['ar', 1.0],\n",
       " ['ar', 0.9999999995213233],\n",
       " ['ar', 0.9946647691133866],\n",
       " ['ar', 1.0],\n",
       " ['ar', 1.0],\n",
       " ['fa', 0.9911079081744665],\n",
       " ['fa', 0.9999998896998843],\n",
       " ['ar', 1.0],\n",
       " ['ar', 1.0],\n",
       " ['ar', 0.9999989481090803],\n",
       " ['ar', 1.0],\n",
       " ['ar', 1.0],\n",
       " ['ar', 1.0],\n",
       " ['ar', 0.9999969005305018],\n",
       " ['ar', 1.0],\n",
       " ['ar', 1.0],\n",
       " ['ar', 1.0],\n",
       " ['ar', 1.0],\n",
       " ['ar', 1.0],\n",
       " ['ar', 1.0],\n",
       " ['ar', 0.9999979808058215],\n",
       " ['ar', 1.0],\n",
       " ['ar', 1.0],\n",
       " ...]"
      ]
     },
     "execution_count": 63,
     "metadata": {},
     "output_type": "execute_result"
    }
   ],
   "source": [
    "combine=[]\n",
    "for i in range(0, len(res_langdetect_ara)):\n",
    "    if(df.probability[i]>dfid.probability[i]):\n",
    "        combine.append(df.iloc[i].tolist())\n",
    "    \n",
    "    else:\n",
    "        combine.append(dfid.iloc[i].tolist())\n",
    "combine"
   ]
  },
  {
   "cell_type": "code",
   "execution_count": 64,
   "metadata": {},
   "outputs": [
    {
     "data": {
      "text/html": [
       "<div>\n",
       "<style scoped>\n",
       "    .dataframe tbody tr th:only-of-type {\n",
       "        vertical-align: middle;\n",
       "    }\n",
       "\n",
       "    .dataframe tbody tr th {\n",
       "        vertical-align: top;\n",
       "    }\n",
       "\n",
       "    .dataframe thead th {\n",
       "        text-align: right;\n",
       "    }\n",
       "</style>\n",
       "<table border=\"1\" class=\"dataframe\">\n",
       "  <thead>\n",
       "    <tr style=\"text-align: right;\">\n",
       "      <th></th>\n",
       "      <th>probability</th>\n",
       "    </tr>\n",
       "  </thead>\n",
       "  <tbody>\n",
       "    <tr>\n",
       "      <th>count</th>\n",
       "      <td>5000.000000</td>\n",
       "    </tr>\n",
       "    <tr>\n",
       "      <th>mean</th>\n",
       "      <td>0.998548</td>\n",
       "    </tr>\n",
       "    <tr>\n",
       "      <th>std</th>\n",
       "      <td>0.020655</td>\n",
       "    </tr>\n",
       "    <tr>\n",
       "      <th>min</th>\n",
       "      <td>0.428571</td>\n",
       "    </tr>\n",
       "    <tr>\n",
       "      <th>25%</th>\n",
       "      <td>1.000000</td>\n",
       "    </tr>\n",
       "    <tr>\n",
       "      <th>50%</th>\n",
       "      <td>1.000000</td>\n",
       "    </tr>\n",
       "    <tr>\n",
       "      <th>75%</th>\n",
       "      <td>1.000000</td>\n",
       "    </tr>\n",
       "    <tr>\n",
       "      <th>max</th>\n",
       "      <td>1.000000</td>\n",
       "    </tr>\n",
       "  </tbody>\n",
       "</table>\n",
       "</div>"
      ],
      "text/plain": [
       "       probability\n",
       "count  5000.000000\n",
       "mean      0.998548\n",
       "std       0.020655\n",
       "min       0.428571\n",
       "25%       1.000000\n",
       "50%       1.000000\n",
       "75%       1.000000\n",
       "max       1.000000"
      ]
     },
     "execution_count": 64,
     "metadata": {},
     "output_type": "execute_result"
    }
   ],
   "source": [
    "combine_df = pd.DataFrame(combine)\n",
    "combine_df.columns = ['language','probability']\n",
    "combine_df.describe()"
   ]
  },
  {
   "cell_type": "markdown",
   "metadata": {},
   "source": [
    "4. Yes, this new method is more accurate than the individual methods because it has the highest mean (0.998>0.996>0.98)"
   ]
  },
  {
   "cell_type": "markdown",
   "metadata": {},
   "source": [
    "## Construct a dictionary-based language classifier\n",
    "- **Step 1**: Divide each corpus into a training corpus (70%) and test corpus (30%).\n",
    "- **Step 2**: learn a set of typical words (also called stop words) of **every language** (TUN and ARA) based on its training corpus.\n",
    "- **Step 3**: create a language identification algorithm that takes the list of typical words of each language and a new document as input; and returns the language of this document as output.\n",
    "- **Step 4**: Evaluate the performance of this algorithm based on the test corpus -- calculate classification accuracy, precision, recall, F1, and confusion matrix."
   ]
  },
  {
   "cell_type": "markdown",
   "metadata": {},
   "source": [
    "### EXERCISE 5\n",
    "Implement each step by following the instructions in the comments below."
   ]
  },
  {
   "cell_type": "code",
   "execution_count": 65,
   "metadata": {},
   "outputs": [],
   "source": [
    "# Step 1   COMPLETE THE CODE BELOW\n",
    "\n",
    "from sklearn.model_selection import train_test_split\n",
    "#?train_test_split\n",
    "\n",
    "tun_corpus_clean_train, tun_corpus_clean_test = train_test_split(tun_corpus_clean3, test_size=0.3 )\n",
    "\n",
    "ara_corpus_clean_train, ara_corpus_clean_test = train_test_split(ara_corpus_clean3, test_size=0.3 )\n"
   ]
  },
  {
   "cell_type": "code",
   "execution_count": 66,
   "metadata": {},
   "outputs": [
    {
     "data": {
      "text/html": [
       "<div>\n",
       "<style scoped>\n",
       "    .dataframe tbody tr th:only-of-type {\n",
       "        vertical-align: middle;\n",
       "    }\n",
       "\n",
       "    .dataframe tbody tr th {\n",
       "        vertical-align: top;\n",
       "    }\n",
       "\n",
       "    .dataframe thead th {\n",
       "        text-align: right;\n",
       "    }\n",
       "</style>\n",
       "<table border=\"1\" class=\"dataframe\">\n",
       "  <thead>\n",
       "    <tr style=\"text-align: right;\">\n",
       "      <th></th>\n",
       "      <th>Word</th>\n",
       "      <th>IDF</th>\n",
       "    </tr>\n",
       "  </thead>\n",
       "  <tbody>\n",
       "    <tr>\n",
       "      <th>150</th>\n",
       "      <td>في</td>\n",
       "      <td>2.503484</td>\n",
       "    </tr>\n",
       "    <tr>\n",
       "      <th>202</th>\n",
       "      <td>من</td>\n",
       "      <td>2.896487</td>\n",
       "    </tr>\n",
       "    <tr>\n",
       "      <th>236</th>\n",
       "      <td>يا</td>\n",
       "      <td>2.991798</td>\n",
       "    </tr>\n",
       "    <tr>\n",
       "      <th>132</th>\n",
       "      <td>علي</td>\n",
       "      <td>3.093301</td>\n",
       "    </tr>\n",
       "    <tr>\n",
       "      <th>31</th>\n",
       "      <td>الله</td>\n",
       "      <td>3.285877</td>\n",
       "    </tr>\n",
       "  </tbody>\n",
       "</table>\n",
       "</div>"
      ],
      "text/plain": [
       "     Word       IDF\n",
       "150    في  2.503484\n",
       "202    من  2.896487\n",
       "236    يا  2.991798\n",
       "132   علي  3.093301\n",
       "31   الله  3.285877"
      ]
     },
     "execution_count": 66,
     "metadata": {},
     "output_type": "execute_result"
    }
   ],
   "source": [
    "# Step 2   Follow the instructions below\n",
    "\n",
    "from sklearn.feature_extraction.text import TfidfVectorizer\n",
    "P = 1000   ## configuration hyperparameter; you can modify it if you want; see instructions below.\n",
    "\n",
    "## COMPLETE THE CODE BELOW\n",
    "\n",
    "\n",
    "## Find typical words of the TUN language\n",
    "\n",
    "# create TfidfVectorizer instance with maxdf = 1.0 so that the most frequent words of the corpus are NOT thrown away\n",
    "bow_model_tun = TfidfVectorizer (max_df = 1.0, min_df = 0.005)\n",
    "\n",
    "# call fit() method with our TUN corpus; this will create the vocabulary of the corpus ...\n",
    "bow_model_tun.fit( tun_corpus_clean_train )\n",
    "\n",
    "# select P words from this vocabulary that have the SMALLEST IDF values -- See the source code in TD1 for help ...\n",
    "tun_vocab=bow_model_tun.get_feature_names ()\n",
    "u=pd.DataFrame(dict(Word=tun_vocab,IDF=bow_model_tun.idf_)).sort_values(\"IDF\", inplace=False, ascending = True)\n",
    "\n",
    "# Note: we do not need to create the DTM matrix in this part.\n",
    "\n",
    "typical_words_tun = u.Word[0:P]\n",
    "\n",
    "u.head()\n"
   ]
  },
  {
   "cell_type": "code",
   "execution_count": 67,
   "metadata": {},
   "outputs": [
    {
     "data": {
      "text/html": [
       "<div>\n",
       "<style scoped>\n",
       "    .dataframe tbody tr th:only-of-type {\n",
       "        vertical-align: middle;\n",
       "    }\n",
       "\n",
       "    .dataframe tbody tr th {\n",
       "        vertical-align: top;\n",
       "    }\n",
       "\n",
       "    .dataframe thead th {\n",
       "        text-align: right;\n",
       "    }\n",
       "</style>\n",
       "<table border=\"1\" class=\"dataframe\">\n",
       "  <thead>\n",
       "    <tr style=\"text-align: right;\">\n",
       "      <th></th>\n",
       "      <th>Word</th>\n",
       "      <th>IDF</th>\n",
       "    </tr>\n",
       "  </thead>\n",
       "  <tbody>\n",
       "    <tr>\n",
       "      <th>1262</th>\n",
       "      <td>من</td>\n",
       "      <td>1.476066</td>\n",
       "    </tr>\n",
       "    <tr>\n",
       "      <th>999</th>\n",
       "      <td>في</td>\n",
       "      <td>1.636344</td>\n",
       "    </tr>\n",
       "    <tr>\n",
       "      <th>940</th>\n",
       "      <td>على</td>\n",
       "      <td>1.973269</td>\n",
       "    </tr>\n",
       "    <tr>\n",
       "      <th>692</th>\n",
       "      <td>جدا</td>\n",
       "      <td>2.046537</td>\n",
       "    </tr>\n",
       "    <tr>\n",
       "      <th>388</th>\n",
       "      <td>الفندق</td>\n",
       "      <td>2.130331</td>\n",
       "    </tr>\n",
       "  </tbody>\n",
       "</table>\n",
       "</div>"
      ],
      "text/plain": [
       "        Word       IDF\n",
       "1262      من  1.476066\n",
       "999       في  1.636344\n",
       "940      على  1.973269\n",
       "692      جدا  2.046537\n",
       "388   الفندق  2.130331"
      ]
     },
     "execution_count": 67,
     "metadata": {},
     "output_type": "execute_result"
    }
   ],
   "source": [
    "bow_model_ara = TfidfVectorizer (max_df = 1.0, min_df = 0.005)\n",
    "\n",
    "# call fit() method with our TUN corpus; this will create the vocabulary of the corpus ...\n",
    "bow_model_ara.fit( ara_corpus_clean_train )\n",
    "\n",
    "# select P words from this vocabulary that have the SMALLEST IDF values -- See the source code in TD1 for help ...\n",
    "ara_vocab=bow_model_ara.get_feature_names ()\n",
    "v=pd.DataFrame(dict(Word=ara_vocab,IDF=bow_model_ara.idf_)).sort_values(\"IDF\", inplace=False, ascending = True)\n",
    "\n",
    "# Note: we do not need to create the DTM matrix in this part.\n",
    "\n",
    "typical_words_ara = v.Word[0:P]\n",
    "\n",
    "v.head()"
   ]
  },
  {
   "cell_type": "code",
   "execution_count": 68,
   "metadata": {},
   "outputs": [
    {
     "name": "stdout",
     "output_type": "stream",
     "text": [
      "TUN\n"
     ]
    }
   ],
   "source": [
    "# Step 3 -- write the algorithm for dictionary-based language identification. \n",
    "#    This algorithm selects the language that has the highest number of typical words in the input document.\n",
    "\n",
    "## COMPLETE THE CODE BELOW\n",
    "def dict_langid(typical_words,doc):\n",
    "    sum=0\n",
    "    for i in typical_words:\n",
    "         if i in doc:\n",
    "                sum=sum+1\n",
    "    lang=float(sum/len(doc))\n",
    "    return lang\n",
    "\n",
    "# for each document in the test combined test corpus, call dict_langid with typical_words_tun and then with typical_words_tun\n",
    "# dict_langid(typical_words_tun, doc)\n",
    "# dict_langid(typical_words_ara, doc)\n",
    "# ...\n",
    "sumARA=0\n",
    "sumTUN=0\n",
    "for doc in tun_corpus_clean_test:\n",
    "    if (dict_langid(typical_words_ara,doc) > dict_langid(typical_words_tun,doc)):\n",
    "        sumARA = sumARA+1\n",
    "    else:\n",
    "        sumTUN = sumTUN+1\n",
    "if(sumARA >= sumTUN):\n",
    "    Lang='ARA'\n",
    "else:\n",
    "    Lang='TUN'\n",
    "print(Lang)   "
   ]
  },
  {
   "cell_type": "code",
   "execution_count": 69,
   "metadata": {},
   "outputs": [
    {
     "name": "stdout",
     "output_type": "stream",
     "text": [
      "ARA\n"
     ]
    }
   ],
   "source": [
    "sumARA=0\n",
    "sumTUN=0\n",
    "for doc in ara_corpus_clean_test:\n",
    "    if (dict_langid(typical_words_ara,doc) > dict_langid(typical_words_tun,doc)):\n",
    "        sumARA = sumARA+1\n",
    "    else:\n",
    "        sumTUN = sumTUN+1\n",
    "if(sumARA >= sumTUN):\n",
    "    Lang='ARA'\n",
    "else:\n",
    "    Lang='TUN'\n",
    "print(Lang)   "
   ]
  },
  {
   "cell_type": "code",
   "execution_count": 70,
   "metadata": {},
   "outputs": [],
   "source": [
    "# Step 4\n",
    "# Reference: see scikit-learn documentation\n",
    "\n",
    "## COMPLETE THE CODE BELOW\n",
    "\n",
    "from sklearn.metrics import accuracy_score, confusion_matrix, f1_score, precision_score, recall_score\n",
    "\n"
   ]
  },
  {
   "cell_type": "markdown",
   "metadata": {},
   "source": [
    "******"
   ]
  },
  {
   "cell_type": "markdown",
   "metadata": {},
   "source": [
    "## Construct a language classifier using supervised learning\n",
    "- **Step 0**: Divide each corpus into a training corpus (70%) and test corpus (30%).\n",
    "- **Step 1**: Create a data frame called ``train_df`` that has two columns: 'document' and 'language'. The 'document' column contains the two corpora concatenated together. The values in the '' column should be 'TUN' and 'ARA'.  Repeat the same thing for the ``test_df``.\n",
    "- **Step 2**: Convert the training documents into numeric feature vectors using the BOW-tfidf method with **character ngrams**.\n",
    "- **Step 3**: Create a language classifier using Naive Bayes method (tfidf version).\n",
    "- **Step 4**: Evaluate performance of this classifier based on the test corpus -- calculate classification accuracy, precision, recall, F1, and confusion matrix."
   ]
  },
  {
   "cell_type": "markdown",
   "metadata": {},
   "source": [
    "### EXERCISE 6\n",
    "Implement each step by carefully following the instructions above."
   ]
  },
  {
   "cell_type": "code",
   "execution_count": 71,
   "metadata": {},
   "outputs": [],
   "source": [
    "# Step 0 just use the same variables that you created in Step 1 of the previous part.\n",
    "# Nothing to do"
   ]
  },
  {
   "cell_type": "code",
   "execution_count": 72,
   "metadata": {},
   "outputs": [
    {
     "data": {
      "text/html": [
       "<div>\n",
       "<style scoped>\n",
       "    .dataframe tbody tr th:only-of-type {\n",
       "        vertical-align: middle;\n",
       "    }\n",
       "\n",
       "    .dataframe tbody tr th {\n",
       "        vertical-align: top;\n",
       "    }\n",
       "\n",
       "    .dataframe thead th {\n",
       "        text-align: right;\n",
       "    }\n",
       "</style>\n",
       "<table border=\"1\" class=\"dataframe\">\n",
       "  <thead>\n",
       "    <tr style=\"text-align: right;\">\n",
       "      <th></th>\n",
       "      <th>document</th>\n",
       "      <th>language</th>\n",
       "    </tr>\n",
       "  </thead>\n",
       "  <tbody>\n",
       "    <tr>\n",
       "      <th>0</th>\n",
       "      <td>بربي لا عاد تجيبولنا الوجوه هذي الشعب يولي يجر...</td>\n",
       "      <td>TUN</td>\n",
       "    </tr>\n",
       "    <tr>\n",
       "      <th>1</th>\n",
       "      <td>كانت قصة جد مءثرة تحياتنا من الجزاءر</td>\n",
       "      <td>TUN</td>\n",
       "    </tr>\n",
       "    <tr>\n",
       "      <th>2</th>\n",
       "      <td>التافه كريم الغربي</td>\n",
       "      <td>TUN</td>\n",
       "    </tr>\n",
       "    <tr>\n",
       "      <th>3</th>\n",
       "      <td>انا فديت من تفاهتكم و فسادكم و بيع دينكم و بلد...</td>\n",
       "      <td>TUN</td>\n",
       "    </tr>\n",
       "    <tr>\n",
       "      <th>4</th>\n",
       "      <td>سيد الرءيس ربي يكون معاك وربي يعينك علي كل متر...</td>\n",
       "      <td>TUN</td>\n",
       "    </tr>\n",
       "  </tbody>\n",
       "</table>\n",
       "</div>"
      ],
      "text/plain": [
       "                                            document language\n",
       "0  بربي لا عاد تجيبولنا الوجوه هذي الشعب يولي يجر...      TUN\n",
       "1               كانت قصة جد مءثرة تحياتنا من الجزاءر      TUN\n",
       "2                                 التافه كريم الغربي      TUN\n",
       "3  انا فديت من تفاهتكم و فسادكم و بيع دينكم و بلد...      TUN\n",
       "4  سيد الرءيس ربي يكون معاك وربي يعينك علي كل متر...      TUN"
      ]
     },
     "execution_count": 72,
     "metadata": {},
     "output_type": "execute_result"
    }
   ],
   "source": [
    "# Step 1   create 2 data frames called train_df and test_df (as explained above)\n",
    "\n",
    "## COMPLETE THE CODE BELOW\n",
    "\n",
    "# create data frame\n",
    "train_df = pd.DataFrame({'document':[], 'language':[]})\n",
    "\n",
    "# fill the language column\n",
    "train_df.language = pd.Series(['TUN']*len(tun_corpus_clean_train) + ['ARA']*len(tun_corpus_clean_train))\n",
    "\n",
    "\n",
    "# fill the document column -- CONCATENATE the TUN CORPUS and ARA CORPUS\n",
    "train_df.document = pd.Series(tun_corpus_clean_train + ara_corpus_clean_train)\n",
    "\n",
    "\n",
    "train_df.head()"
   ]
  },
  {
   "cell_type": "code",
   "execution_count": 76,
   "metadata": {},
   "outputs": [
    {
     "data": {
      "text/html": [
       "<div>\n",
       "<style scoped>\n",
       "    .dataframe tbody tr th:only-of-type {\n",
       "        vertical-align: middle;\n",
       "    }\n",
       "\n",
       "    .dataframe tbody tr th {\n",
       "        vertical-align: top;\n",
       "    }\n",
       "\n",
       "    .dataframe thead th {\n",
       "        text-align: right;\n",
       "    }\n",
       "</style>\n",
       "<table border=\"1\" class=\"dataframe\">\n",
       "  <thead>\n",
       "    <tr style=\"text-align: right;\">\n",
       "      <th></th>\n",
       "      <th>document</th>\n",
       "      <th>language</th>\n",
       "    </tr>\n",
       "  </thead>\n",
       "  <tbody>\n",
       "    <tr>\n",
       "      <th>0</th>\n",
       "      <td>الفة بن رمصان فنانة و نصف ابدعت</td>\n",
       "      <td>TUN</td>\n",
       "    </tr>\n",
       "    <tr>\n",
       "      <th>1</th>\n",
       "      <td>كوميدي رقم واحد في تونس و الشيء من ماتاه لا يس...</td>\n",
       "      <td>TUN</td>\n",
       "    </tr>\n",
       "    <tr>\n",
       "      <th>2</th>\n",
       "      <td>blablabla باين فيها سهرة مارقة نشوف التاسعة اش...</td>\n",
       "      <td>TUN</td>\n",
       "    </tr>\n",
       "    <tr>\n",
       "      <th>3</th>\n",
       "      <td>قداش عندو احساس تبارك الله عليه j aime</td>\n",
       "      <td>TUN</td>\n",
       "    </tr>\n",
       "    <tr>\n",
       "      <th>4</th>\n",
       "      <td>من افضل البرامج</td>\n",
       "      <td>TUN</td>\n",
       "    </tr>\n",
       "  </tbody>\n",
       "</table>\n",
       "</div>"
      ],
      "text/plain": [
       "                                            document language\n",
       "0                    الفة بن رمصان فنانة و نصف ابدعت      TUN\n",
       "1  كوميدي رقم واحد في تونس و الشيء من ماتاه لا يس...      TUN\n",
       "2  blablabla باين فيها سهرة مارقة نشوف التاسعة اش...      TUN\n",
       "3             قداش عندو احساس تبارك الله عليه j aime      TUN\n",
       "4                                    من افضل البرامج      TUN"
      ]
     },
     "execution_count": 76,
     "metadata": {},
     "output_type": "execute_result"
    }
   ],
   "source": [
    "test_df = pd.DataFrame({'document':[], 'language':[]})\n",
    "test_df.language = pd.Series(['TUN']*len(tun_corpus_clean_test) + ['ARA']*len(tun_corpus_clean_test))\n",
    "test_df.document = pd.Series(tun_corpus_clean_test + ara_corpus_clean_test)\n",
    "test_df.head()"
   ]
  },
  {
   "cell_type": "code",
   "execution_count": 77,
   "metadata": {},
   "outputs": [
    {
     "name": "stdout",
     "output_type": "stream",
     "text": [
      "An error occurred\n"
     ]
    }
   ],
   "source": [
    "# verify that the number of rows in this data frame = sum of the number of documents in each corpus.  \n",
    "try:\n",
    "    \n",
    "    assert train_df.shape[0] == len(tun_corpus_clean_train) + len(ara_corpus_clean_train) \n",
    "    assert train_df.shape[1] == 2\n",
    "except AssertionError:\n",
    "    print('An error occurred')\n",
    "    exit(1)"
   ]
  },
  {
   "cell_type": "code",
   "execution_count": 78,
   "metadata": {},
   "outputs": [
    {
     "ename": "ValueError",
     "evalue": "The truth value of an array with more than one element is ambiguous. Use a.any() or a.all()",
     "output_type": "error",
     "traceback": [
      "\u001b[1;31m---------------------------------------------------------------------------\u001b[0m",
      "\u001b[1;31mValueError\u001b[0m                                Traceback (most recent call last)",
      "\u001b[1;32m<ipython-input-78-b8d6fe98dfb2>\u001b[0m in \u001b[0;36m<module>\u001b[1;34m()\u001b[0m\n\u001b[1;32m----> 1\u001b[1;33m \u001b[1;32massert\u001b[0m\u001b[1;33m(\u001b[0m\u001b[0mtrain_df\u001b[0m\u001b[1;33m.\u001b[0m\u001b[0mlanguage\u001b[0m\u001b[1;33m.\u001b[0m\u001b[0mnunique\u001b[0m\u001b[1;33m(\u001b[0m\u001b[1;33m)\u001b[0m \u001b[1;33m==\u001b[0m \u001b[1;36m2\u001b[0m \u001b[1;32mand\u001b[0m \u001b[0mtrain_df\u001b[0m\u001b[1;33m.\u001b[0m\u001b[0mlanguage\u001b[0m\u001b[1;33m.\u001b[0m\u001b[0munique\u001b[0m\u001b[1;33m(\u001b[0m\u001b[1;33m)\u001b[0m \u001b[1;33m==\u001b[0m \u001b[1;33m[\u001b[0m\u001b[1;34m'TUN'\u001b[0m\u001b[1;33m,\u001b[0m \u001b[1;34m'ARA'\u001b[0m\u001b[1;33m]\u001b[0m\u001b[1;33m)\u001b[0m\u001b[1;33m\u001b[0m\u001b[0m\n\u001b[0m",
      "\u001b[1;31mValueError\u001b[0m: The truth value of an array with more than one element is ambiguous. Use a.any() or a.all()"
     ]
    }
   ],
   "source": [
    "assert(train_df.language.nunique() == 2 and train_df.language.unique() == ['TUN', 'ARA'])"
   ]
  },
  {
   "cell_type": "code",
   "execution_count": 79,
   "metadata": {},
   "outputs": [],
   "source": [
    "# Step 2  Convert the training documents into numeric feature vectors using the BOW-tfidf method with character ngrams.\n",
    "\n",
    "## COMPLETE THE CODE BELOW\n",
    "\n",
    "n = 3   # hyperparameter for of character ngrams ; you can change it if you want but n=3 is a reaonable value ...\n",
    "\n",
    "# Create an instance of TfidfVectorizer class with analyzer = 'char' so that it generates bag of characters and not bag of words\n",
    "bow_model_char = TfidfVectorizer(analyzer='char', ngram_range=(1,n), max_df =0.9, min_df=0.1)\n",
    "\n",
    "# Call fit method with the combined training corpus\n",
    "bow_model_char.fit(train_df.document)\n",
    "\n",
    "# Create DTM matrix of the combined training corpus and test corpus\n",
    "dtm_Train=bow_model_char.transform(train_df.document)\n",
    "dtm_Test=bow_model_char.transform(test_df.document)\n"
   ]
  },
  {
   "cell_type": "code",
   "execution_count": 80,
   "metadata": {},
   "outputs": [
    {
     "data": {
      "text/plain": [
       "array(['ARA', 'TUN', 'TUN', ..., 'ARA', 'ARA', 'ARA'], dtype='<U3')"
      ]
     },
     "execution_count": 80,
     "metadata": {},
     "output_type": "execute_result"
    }
   ],
   "source": [
    "# Step 3   -- see official documentation of MultinomialNB in scikit-learn\n",
    "\n",
    "from sklearn.naive_bayes import MultinomialNB\n",
    "\n",
    "nb_model = MultinomialNB()\n",
    "\n",
    "nb_model.fit(dtm_Train,train_df.language)\n",
    "\n",
    "nb_model.predict(dtm_Test)"
   ]
  },
  {
   "cell_type": "code",
   "execution_count": 81,
   "metadata": {},
   "outputs": [
    {
     "name": "stdout",
     "output_type": "stream",
     "text": [
      "The accuracy score : \n"
     ]
    },
    {
     "data": {
      "text/plain": [
       "0.9408914728682171"
      ]
     },
     "execution_count": 81,
     "metadata": {},
     "output_type": "execute_result"
    }
   ],
   "source": [
    "# Step 4   Use the same source code as in Step 4 of the previous part.\n",
    "print(\"The accuracy score : \")\n",
    "accuracy_score(test_df.language,nb_model.predict(dtm_Test))\n"
   ]
  },
  {
   "cell_type": "code",
   "execution_count": 82,
   "metadata": {},
   "outputs": [
    {
     "name": "stdout",
     "output_type": "stream",
     "text": [
      "The precision score :\n"
     ]
    },
    {
     "data": {
      "text/plain": [
       "0.941025641025641"
      ]
     },
     "execution_count": 82,
     "metadata": {},
     "output_type": "execute_result"
    }
   ],
   "source": [
    "print(\"The precision score :\")\n",
    "precision_score(test_df.language,nb_model.predict(dtm_Test), average=\"macro\") "
   ]
  },
  {
   "cell_type": "code",
   "execution_count": 83,
   "metadata": {},
   "outputs": [
    {
     "name": "stdout",
     "output_type": "stream",
     "text": [
      "The recall: \n"
     ]
    },
    {
     "data": {
      "text/plain": [
       "0.9408914728682171"
      ]
     },
     "execution_count": 83,
     "metadata": {},
     "output_type": "execute_result"
    }
   ],
   "source": [
    "print(\"The recall: \")\n",
    "recall_score(test_df.language,nb_model.predict(dtm_Test), average=\"macro\") "
   ]
  },
  {
   "cell_type": "code",
   "execution_count": 84,
   "metadata": {},
   "outputs": [
    {
     "name": "stdout",
     "output_type": "stream",
     "text": [
      "The f1: \n"
     ]
    },
    {
     "data": {
      "text/plain": [
       "0.9408869770494759"
      ]
     },
     "execution_count": 84,
     "metadata": {},
     "output_type": "execute_result"
    }
   ],
   "source": [
    "print(\"The f1: \")\n",
    "f1_score(test_df.language,nb_model.predict(dtm_Test), average='macro') "
   ]
  },
  {
   "cell_type": "code",
   "execution_count": 85,
   "metadata": {},
   "outputs": [
    {
     "name": "stdout",
     "output_type": "stream",
     "text": [
      "The confusion matrix : \n"
     ]
    },
    {
     "data": {
      "text/plain": [
       "array([[3367,  245],\n",
       "       [ 182, 3430]], dtype=int64)"
      ]
     },
     "execution_count": 85,
     "metadata": {},
     "output_type": "execute_result"
    }
   ],
   "source": [
    "print(\"The confusion matrix : \")\n",
    "confusion_matrix(test_df.language,nb_model.predict(dtm_Test))"
   ]
  },
  {
   "cell_type": "code",
   "execution_count": 101,
   "metadata": {},
   "outputs": [],
   "source": [
    "import pickle\n"
   ]
  },
  {
   "cell_type": "code",
   "execution_count": 107,
   "metadata": {},
   "outputs": [],
   "source": [
    "with open('lang_id_model.pkl','wb') as f :\n",
    "    pickle.dump(nb_model,f)"
   ]
  },
  {
   "cell_type": "code",
   "execution_count": 108,
   "metadata": {},
   "outputs": [],
   "source": [
    "with open('bow_model_char.pkl','wb') as f :\n",
    "    pickle.dump(bow_model_char,f)"
   ]
  },
  {
   "cell_type": "code",
   "execution_count": 109,
   "metadata": {},
   "outputs": [
    {
     "data": {
      "text/plain": [
       "array(['TUN', 'ARA'], dtype='<U3')"
      ]
     },
     "execution_count": 109,
     "metadata": {},
     "output_type": "execute_result"
    }
   ],
   "source": [
    "wiou=pd.Series(['كوميدي  ','ahla'])\n",
    "dtm=bow_model_char.transform(wiou)\n",
    "nb_model.predict(dtm)\n"
   ]
  },
  {
   "cell_type": "code",
   "execution_count": 100,
   "metadata": {},
   "outputs": [],
   "source": []
  },
  {
   "cell_type": "code",
   "execution_count": null,
   "metadata": {},
   "outputs": [],
   "source": []
  }
 ],
 "metadata": {
  "kernelspec": {
   "display_name": "Python 3",
   "language": "python",
   "name": "python3"
  },
  "language_info": {
   "codemirror_mode": {
    "name": "ipython",
    "version": 3
   },
   "file_extension": ".py",
   "mimetype": "text/x-python",
   "name": "python",
   "nbconvert_exporter": "python",
   "pygments_lexer": "ipython3",
   "version": "3.7.0"
  }
 },
 "nbformat": 4,
 "nbformat_minor": 2
}
